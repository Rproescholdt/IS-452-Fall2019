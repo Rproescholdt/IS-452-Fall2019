{
 "cells": [
  {
   "cell_type": "markdown",
   "metadata": {},
   "source": [
    "# Week 04: Strings and words!\n",
    "\n",
    "This week and next week we'll be splitting chapter 5 apart.  This week we'll cover basic string methods, counting words, handingling text, etc.  Next week we'll look at file processing."
   ]
  },
  {
   "cell_type": "markdown",
   "metadata": {},
   "source": [
    "## What are strings?\n",
    "\n",
    "To the human, strings are just a collection of text characters.\n",
    "\n",
    "Strings are noted by `''` or `\"\"` or even `\"\"\"\"\"\"`\n",
    "\n",
    "Let's do a refresher, what data type is: \n",
    "\n",
    "* `1`\n",
    "* `1.0`\n",
    "* `1.1`\n",
    "* `1.`\n",
    "* `'one'`\n",
    "* `one = 1.0`\n",
    "* `''`\n",
    "\n",
    "Want the answers? Print each in `type()` to find out!"
   ]
  },
  {
   "cell_type": "markdown",
   "metadata": {},
   "source": [
    "Strings are really called `str` in the system, but it is just short for string.  Several core operators are overloaded for strings.\n",
    "\n",
    "* `str + str` \n",
    "    * will concatenate strings (this just means smashing them together, one directly after another.\n",
    "* `str * int`\n",
    "    * will repeat the string int number of times."
   ]
  },
  {
   "cell_type": "code",
   "execution_count": 3,
   "metadata": {
    "collapsed": false
   },
   "outputs": [],
   "source": [
    "left = \"fizzy\"\n",
    "right = \"pop\""
   ]
  },
  {
   "cell_type": "code",
   "execution_count": 4,
   "metadata": {
    "collapsed": false
   },
   "outputs": [
    {
     "name": "stdout",
     "output_type": "stream",
     "text": [
      "fizzypop\n"
     ]
    }
   ],
   "source": [
    "print(left + right)"
   ]
  },
  {
   "cell_type": "code",
   "execution_count": 5,
   "metadata": {
    "collapsed": false
   },
   "outputs": [
    {
     "name": "stdout",
     "output_type": "stream",
     "text": [
      "popfizzy\n"
     ]
    }
   ],
   "source": [
    "print(right + left)"
   ]
  },
  {
   "cell_type": "code",
   "execution_count": 6,
   "metadata": {
    "collapsed": false
   },
   "outputs": [
    {
     "name": "stdout",
     "output_type": "stream",
     "text": [
      "fizzy-something in the middle-pop\n"
     ]
    }
   ],
   "source": [
    "print(left + \"-something in the middle-\" + right)"
   ]
  },
  {
   "cell_type": "code",
   "execution_count": 11,
   "metadata": {
    "collapsed": false
   },
   "outputs": [
    {
     "name": "stdout",
     "output_type": "stream",
     "text": [
      "fizzyfizzy\n"
     ]
    }
   ],
   "source": [
    "print(left * 2)"
   ]
  },
  {
   "cell_type": "code",
   "execution_count": 12,
   "metadata": {
    "collapsed": false
   },
   "outputs": [
    {
     "name": "stdout",
     "output_type": "stream",
     "text": [
      "fizzyfizzypoppop\n"
     ]
    }
   ],
   "source": [
    "print(left * 2 + right * 2)"
   ]
  },
  {
   "cell_type": "markdown",
   "metadata": {},
   "source": [
    "## String indexing\n",
    "\n",
    "As with list indexing, much of the problem solving for your programming problems is just cleverness around string indexing.  The rules and syntax for list indexing work in much the same way for strings.\n",
    "\n",
    "We also covered a bit of this in last week's lecture, so do check out the additional material in Week 03's notes.\n",
    "\n",
    "Recall:\n",
    "\n",
    "* `string[start:stop(exclusive):step]`\n",
    "* `string[start:]`\n",
    "* `string[:stop]`\n",
    "* `string[::step]`"
   ]
  },
  {
   "cell_type": "code",
   "execution_count": 14,
   "metadata": {
    "collapsed": true
   },
   "outputs": [],
   "source": [
    "name = \"Leeloo\""
   ]
  },
  {
   "cell_type": "code",
   "execution_count": 15,
   "metadata": {
    "collapsed": false
   },
   "outputs": [
    {
     "name": "stdout",
     "output_type": "stream",
     "text": [
      "L\n"
     ]
    }
   ],
   "source": [
    "print(name[0])"
   ]
  },
  {
   "cell_type": "code",
   "execution_count": 16,
   "metadata": {
    "collapsed": false
   },
   "outputs": [
    {
     "name": "stdout",
     "output_type": "stream",
     "text": [
      "Lee\n"
     ]
    }
   ],
   "source": [
    "print(name[:3])"
   ]
  },
  {
   "cell_type": "code",
   "execution_count": 17,
   "metadata": {
    "collapsed": false
   },
   "outputs": [
    {
     "name": "stdout",
     "output_type": "stream",
     "text": [
      "loo\n"
     ]
    }
   ],
   "source": [
    "print(name[3:])"
   ]
  },
  {
   "cell_type": "code",
   "execution_count": 18,
   "metadata": {
    "collapsed": false
   },
   "outputs": [
    {
     "name": "stdout",
     "output_type": "stream",
     "text": [
      "Leo\n"
     ]
    }
   ],
   "source": [
    "print(name[::2])"
   ]
  },
  {
   "cell_type": "code",
   "execution_count": 19,
   "metadata": {
    "collapsed": false
   },
   "outputs": [
    {
     "name": "stdout",
     "output_type": "stream",
     "text": [
      "ooleeL\n"
     ]
    }
   ],
   "source": [
    "print(name[::-1])"
   ]
  },
  {
   "cell_type": "markdown",
   "metadata": {},
   "source": [
    "## Looping through strings\n",
    "\n",
    "You can loop through strings like you loop through lists.  Instead of iterating over elements of a lists, it iterates over the characters in the string.  You declare your iterable variable as normal, and remember that it can be anything."
   ]
  },
  {
   "cell_type": "code",
   "execution_count": 22,
   "metadata": {
    "collapsed": false
   },
   "outputs": [
    {
     "name": "stdout",
     "output_type": "stream",
     "text": [
      "I\n",
      " \n",
      "a\n",
      "m\n",
      " \n",
      "a\n",
      " \n",
      "b\n",
      "a\n",
      "n\n",
      "a\n",
      "n\n",
      "a\n"
     ]
    }
   ],
   "source": [
    "for char in 'I am a banana':\n",
    "    print(char)"
   ]
  },
  {
   "cell_type": "markdown",
   "metadata": {},
   "source": [
    "## Loops and cleverness\n",
    "\n",
    "Let's take a scenario where you want to grab the first three letters of each name in a list.  From this question, we know there are two activities we need to do:\n",
    "\n",
    "1. Loop through the names\n",
    "2. Be able to grab the first three characters of a string."
   ]
  },
  {
   "cell_type": "code",
   "execution_count": 23,
   "metadata": {
    "collapsed": false
   },
   "outputs": [
    {
     "name": "stdout",
     "output_type": "stream",
     "text": [
      "Starbuck\n",
      "She-Ra\n",
      "Ada\n",
      "Leeloo\n"
     ]
    }
   ],
   "source": [
    "# looping throug a list of names\n",
    "\n",
    "names = ['Starbuck', 'She-Ra', 'Ada', 'Leeloo']\n",
    "\n",
    "for name in names:\n",
    "    print(name)"
   ]
  },
  {
   "cell_type": "code",
   "execution_count": 25,
   "metadata": {
    "collapsed": false
   },
   "outputs": [
    {
     "name": "stdout",
     "output_type": "stream",
     "text": [
      "Sta\n"
     ]
    }
   ],
   "source": [
    "# ok, that's great, now let's remind ourselves about getting the first three letters\n",
    "\n",
    "just_one_name = names[0]\n",
    "\n",
    "print(just_one_name[:3])"
   ]
  },
  {
   "cell_type": "code",
   "execution_count": 44,
   "metadata": {
    "collapsed": false
   },
   "outputs": [
    {
     "name": "stdout",
     "output_type": "stream",
     "text": [
      "Sta\n",
      "She\n",
      "Ada\n",
      "Lee\n"
     ]
    }
   ],
   "source": [
    "# ok, let's put all this together\n",
    "\n",
    "names = ['Starbuck', 'She-Ra', 'Ada', 'Leeloo']\n",
    "\n",
    "for name in names:\n",
    "    print(name[:3])\n"
   ]
  },
  {
   "cell_type": "markdown",
   "metadata": {},
   "source": [
    "## Encoding\n",
    "\n",
    "Behind the scenes, everything in computing is a number.  This includes characters.  We can use `ord()` to reveal the numerical representation of the characters and `chr()` to take a number and reveal the character behind it.\n",
    "\n",
    "When we use `<`, `>`, and `==` on characters, it is comparing these numbers."
   ]
  },
  {
   "cell_type": "code",
   "execution_count": 27,
   "metadata": {
    "collapsed": false
   },
   "outputs": [
    {
     "name": "stdout",
     "output_type": "stream",
     "text": [
      "65\n"
     ]
    }
   ],
   "source": [
    "print(ord('A'))"
   ]
  },
  {
   "cell_type": "code",
   "execution_count": 28,
   "metadata": {
    "collapsed": false
   },
   "outputs": [
    {
     "name": "stdout",
     "output_type": "stream",
     "text": [
      "97\n"
     ]
    }
   ],
   "source": [
    "print(ord('a'))"
   ]
  },
  {
   "cell_type": "code",
   "execution_count": 29,
   "metadata": {
    "collapsed": false
   },
   "outputs": [
    {
     "name": "stdout",
     "output_type": "stream",
     "text": [
      "True\n"
     ]
    }
   ],
   "source": [
    "print('A' < 'a')"
   ]
  },
  {
   "cell_type": "code",
   "execution_count": 36,
   "metadata": {
    "collapsed": false
   },
   "outputs": [
    {
     "name": "stdout",
     "output_type": "stream",
     "text": [
      "K\n"
     ]
    }
   ],
   "source": [
    "print(chr(75))"
   ]
  },
  {
   "cell_type": "markdown",
   "metadata": {},
   "source": [
    "We can combine these!\n",
    "\n",
    "Example:  What's the letter before A?"
   ]
  },
  {
   "cell_type": "code",
   "execution_count": 45,
   "metadata": {
    "collapsed": false
   },
   "outputs": [
    {
     "name": "stdout",
     "output_type": "stream",
     "text": [
      "@\n"
     ]
    }
   ],
   "source": [
    "A_number = ord('A')\n",
    "\n",
    "before_A = A_number - 1\n",
    "\n",
    "letter_before_A = chr(before_A)\n",
    "\n",
    "print(letter_before_A)"
   ]
  },
  {
   "cell_type": "code",
   "execution_count": 46,
   "metadata": {
    "collapsed": false
   },
   "outputs": [
    {
     "name": "stdout",
     "output_type": "stream",
     "text": [
      "\u0000\n",
      "\u0001\n",
      "\u0002\n",
      "\u0003\n",
      "\u0004\n",
      "\u0005\n",
      "\u0006\n",
      "\u0007\n",
      "\b\n",
      "\t\n",
      "\n",
      "\n",
      "\u000b",
      "\n",
      "\f",
      "\n",
      "\r\n",
      "\u000e\n",
      "\u000f\n",
      "\u0010\n",
      "\u0011\n",
      "\u0012\n",
      "\u0013\n",
      "\u0014\n",
      "\u0015\n",
      "\u0016\n",
      "\u0017\n",
      "\u0018\n",
      "\u0019\n",
      "\u001a\n",
      "\u001b\n",
      "\u001c",
      "\n",
      "\u001d",
      "\n",
      "\u001e",
      "\n",
      "\u001f\n",
      " \n",
      "!\n",
      "\"\n",
      "#\n",
      "$\n",
      "%\n",
      "&\n",
      "'\n",
      "(\n",
      ")\n",
      "*\n",
      "+\n",
      ",\n",
      "-\n",
      ".\n",
      "/\n",
      "0\n",
      "1\n",
      "2\n",
      "3\n",
      "4\n",
      "5\n",
      "6\n",
      "7\n",
      "8\n",
      "9\n",
      ":\n",
      ";\n",
      "<\n",
      "=\n",
      ">\n",
      "?\n",
      "@\n",
      "A\n",
      "B\n",
      "C\n",
      "D\n",
      "E\n",
      "F\n",
      "G\n",
      "H\n",
      "I\n",
      "J\n",
      "K\n",
      "L\n",
      "M\n",
      "N\n",
      "O\n",
      "P\n",
      "Q\n",
      "R\n",
      "S\n",
      "T\n",
      "U\n",
      "V\n",
      "W\n",
      "X\n",
      "Y\n",
      "Z\n",
      "[\n",
      "\\\n",
      "]\n",
      "^\n",
      "_\n",
      "`\n",
      "a\n",
      "b\n",
      "c\n",
      "d\n",
      "e\n",
      "f\n",
      "g\n",
      "h\n",
      "i\n",
      "j\n",
      "k\n",
      "l\n",
      "m\n",
      "n\n",
      "o\n",
      "p\n",
      "q\n",
      "r\n",
      "s\n",
      "t\n",
      "u\n",
      "v\n",
      "w\n",
      "x\n",
      "y\n",
      "z\n",
      "{\n",
      "|\n",
      "}\n",
      "~\n",
      "\n"
     ]
    }
   ],
   "source": [
    "for i in range(128):\n",
    "    print(chr(i))"
   ]
  },
  {
   "cell_type": "markdown",
   "metadata": {},
   "source": [
    "## String methods\n",
    "\n",
    "You can use the 'dot' method to apply methods on strings to mutate them. There way too many of these to go over them all, but we can highlight some of the msot common ones."
   ]
  },
  {
   "cell_type": "code",
   "execution_count": 47,
   "metadata": {
    "collapsed": true
   },
   "outputs": [],
   "source": [
    "sentence = \"I am a meat popsicle.\""
   ]
  },
  {
   "cell_type": "code",
   "execution_count": 50,
   "metadata": {
    "collapsed": false
   },
   "outputs": [
    {
     "name": "stdout",
     "output_type": "stream",
     "text": [
      "I AM A MEAT POPSICLE.\n",
      "i am a meat popsicle.\n"
     ]
    }
   ],
   "source": [
    "print(sentence.upper())\n",
    "print(sentence.lower())"
   ]
  },
  {
   "cell_type": "code",
   "execution_count": 53,
   "metadata": {
    "collapsed": false
   },
   "outputs": [
    {
     "name": "stdout",
     "output_type": "stream",
     "text": [
      "1\n",
      "1\n",
      "2\n"
     ]
    }
   ],
   "source": [
    "print(sentence.count('i'))\n",
    "print(sentence.count('I'))\n",
    "\n",
    "# so there are one upper and one lower case i"
   ]
  },
  {
   "cell_type": "code",
   "execution_count": 55,
   "metadata": {
    "collapsed": false
   },
   "outputs": [
    {
     "name": "stdout",
     "output_type": "stream",
     "text": [
      "2\n"
     ]
    }
   ],
   "source": [
    "# we can chain these together and get different results\n",
    "\n",
    "print(sentence.lower().count('i'))\n",
    "\n",
    "# now we have two!"
   ]
  },
  {
   "cell_type": "markdown",
   "metadata": {},
   "source": [
    "## Splitting strings\n",
    "\n",
    "Recall how we played with this last week.  You can use `.split()` on a string to separate the text chunks away from the white space."
   ]
  },
  {
   "cell_type": "code",
   "execution_count": 56,
   "metadata": {
    "collapsed": true
   },
   "outputs": [],
   "source": [
    "sometext = \"\"\"It is a truth universally acknowledged, that a single man in possession\n",
    "of a good fortune, must be in want of a wife.\n",
    "\n",
    "However little known the feelings or views of such a man may be on his\n",
    "first entering a neighbourhood, this truth is so well fixed in the minds\n",
    "of the surrounding families, that he is considered the rightful property\n",
    "of some one or other of their daughters.\"\"\""
   ]
  },
  {
   "cell_type": "code",
   "execution_count": 58,
   "metadata": {
    "collapsed": false
   },
   "outputs": [
    {
     "name": "stdout",
     "output_type": "stream",
     "text": [
      "['It', 'is', 'a', 'truth', 'universally', 'acknowledged,', 'that', 'a', 'single', 'man', 'in', 'possession', 'of', 'a', 'good', 'fortune,', 'must', 'be', 'in', 'want', 'of', 'a', 'wife.', 'However', 'little', 'known', 'the', 'feelings', 'or', 'views', 'of', 'such', 'a', 'man', 'may', 'be', 'on', 'his', 'first', 'entering', 'a', 'neighbourhood,', 'this', 'truth', 'is', 'so', 'well', 'fixed', 'in', 'the', 'minds', 'of', 'the', 'surrounding', 'families,', 'that', 'he', 'is', 'considered', 'the', 'rightful', 'property', 'of', 'some', 'one', 'or', 'other', 'of', 'their', 'daughters.']\n"
     ]
    }
   ],
   "source": [
    "print(sometext.split())"
   ]
  },
  {
   "cell_type": "markdown",
   "metadata": {},
   "source": [
    "Now recall that we can get the length of a string via `len()`.  "
   ]
  },
  {
   "cell_type": "code",
   "execution_count": 61,
   "metadata": {
    "collapsed": false
   },
   "outputs": [
    {
     "name": "stdout",
     "output_type": "stream",
     "text": [
      "6\n"
     ]
    }
   ],
   "source": [
    "print(len('Hello!')) # note that ! is being counted as a letter as well."
   ]
  },
  {
   "cell_type": "code",
   "execution_count": 62,
   "metadata": {
    "collapsed": false
   },
   "outputs": [
    {
     "name": "stdout",
     "output_type": "stream",
     "text": [
      "2\n",
      "2\n",
      "1\n",
      "5\n",
      "11\n",
      "13\n",
      "4\n",
      "1\n",
      "6\n",
      "3\n",
      "2\n",
      "10\n",
      "2\n",
      "1\n",
      "4\n",
      "8\n",
      "4\n",
      "2\n",
      "2\n",
      "4\n",
      "2\n",
      "1\n",
      "5\n",
      "7\n",
      "6\n",
      "5\n",
      "3\n",
      "8\n",
      "2\n",
      "5\n",
      "2\n",
      "4\n",
      "1\n",
      "3\n",
      "3\n",
      "2\n",
      "2\n",
      "3\n",
      "5\n",
      "8\n",
      "1\n",
      "14\n",
      "4\n",
      "5\n",
      "2\n",
      "2\n",
      "4\n",
      "5\n",
      "2\n",
      "3\n",
      "5\n",
      "2\n",
      "3\n",
      "11\n",
      "9\n",
      "4\n",
      "2\n",
      "2\n",
      "10\n",
      "3\n",
      "8\n",
      "8\n",
      "2\n",
      "4\n",
      "3\n",
      "2\n",
      "5\n",
      "2\n",
      "5\n",
      "10\n"
     ]
    }
   ],
   "source": [
    "for word in sometext.split():\n",
    "    print(len(word))"
   ]
  },
  {
   "cell_type": "code",
   "execution_count": null,
   "metadata": {
    "collapsed": true
   },
   "outputs": [],
   "source": []
  },
  {
   "cell_type": "code",
   "execution_count": null,
   "metadata": {
    "collapsed": true
   },
   "outputs": [],
   "source": []
  }
 ],
 "metadata": {
  "anaconda-cloud": {},
  "kernelspec": {
   "display_name": "Python [conda root]",
   "language": "python",
   "name": "conda-root-py"
  },
  "language_info": {
   "codemirror_mode": {
    "name": "ipython",
    "version": 3
   },
   "file_extension": ".py",
   "mimetype": "text/x-python",
   "name": "python",
   "nbconvert_exporter": "python",
   "pygments_lexer": "ipython3",
   "version": "3.5.2"
  }
 },
 "nbformat": 4,
 "nbformat_minor": 1
}
