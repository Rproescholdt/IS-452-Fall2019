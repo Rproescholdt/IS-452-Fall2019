{
 "cells": [
  {
   "cell_type": "markdown",
   "metadata": {},
   "source": [
    "# Week 14: XPath\n",
    "\n",
    "So yes, we spent most of last week sorting our heads around how to make Python work with Xpath and discussing XML.  Your assigned readings for last week included the W3C School's XPath tutorials, along with an optional refresher on XML.\n",
    "\n",
    "Let's be clear: even if you have worked with XML before, maybe even taken the metadata class using XML, knowing the precise structure and **names** of the bits and bobs inside of XML will be necessary to wrap your head around what XPath is all about.  \n",
    "\n",
    "## Readings for this week\n",
    "\n",
    "I'm going to be doing some demos in this notebook, focusing more on how the Python works and leave a lot of the XPath narrative to the W3C School's XPath lesson:  https://www.w3schools.com/xml/xpath_intro.asp.  The terminology section is one of the most important, so that might be something worth printing out or taking notes on.  You'll need to know the names of things to understand the later lessons. "
   ]
  },
  {
   "cell_type": "code",
   "execution_count": null,
   "metadata": {
    "collapsed": true
   },
   "outputs": [],
   "source": []
  },
  {
   "cell_type": "markdown",
   "metadata": {},
   "source": [
    "# XPath Basics\n",
    "\n",
    "XPath statements tend to look a little like URLs, because the core tree structure behind websites and XML documents is about the same.  Philosophically speaking.  Let's take a basic XML snippet:\n",
    "\n",
    "```XML\n",
    "<book>\n",
    "    <author>Human, A.</author>\n",
    "    <title>This is not a book</title>\n",
    "</book>\n",
    "```\n",
    "\n",
    "There are numerous ways to describe this structure.\n",
    "\n",
    "* `<book>` is the root element with two children:  `<author>` and `<title>`.\n",
    "* The `<author>` element is a child of `<book>` and sibling to `<title>`.  \n",
    "\n",
    "These descriptions are the basis for how XPath queries are constructed.  So, you don't say \"I want the title element wihtin the book element\", it's \"Find the book element anywhere in the tree, then get the child element called author.  We can express this statement as such:\n",
    "\n",
    "`'//book/author'`\n",
    "\n",
    "Yes, the narrative is much longer than the actual statement, but this is the basis for every advanced XPath query.  We at least think this is correct, but we haven't tested it.  So let's inject this into the Python pattern we saw last week.  This pattern will be a little different because we're working off of a string instead of a file.  There are separate functions to use when reading XML from a file."
   ]
  },
  {
   "cell_type": "code",
   "execution_count": 2,
   "metadata": {
    "collapsed": false
   },
   "outputs": [
    {
     "name": "stdout",
     "output_type": "stream",
     "text": [
      "[<Element author at 0x1064af988>]\n"
     ]
    }
   ],
   "source": [
    "from lxml import etree\n",
    "\n",
    "xml = \"\"\"\n",
    "<book>\n",
    "    <author>Human, A.</author>\n",
    "    <title>This is not a book</title>\n",
    "</book>\"\"\"\n",
    "\n",
    "tree = etree.fromstring(xml)\n",
    "print(tree.xpath('//book/author'))"
   ]
  },
  {
   "cell_type": "markdown",
   "metadata": {},
   "source": [
    "Good news:  it worked!\n",
    "\n",
    "Bad news:   WTF is this `<Element author...` crap?\n",
    "\n",
    "# The two parts to every Xpath statement\n",
    "\n",
    "What the `xpath` statement has returned back to us is an `Element` object.  This is a little bundle of processed XML and something that we can act on in smart ways.\n",
    "\n",
    "What we need to ask ourselves next is: what do we want to get out of that element?\n",
    "\n",
    "Each element should have:\n",
    "\n",
    "1. A piece to select the right element or elements\n",
    "2. A piece to extract the data that you want out those elements\n",
    "\n",
    "Meaning, why did we look for that element?  What was our purpose?  Did we want an attribute value or the element text?  We need to use additional XPath syntax to actually extract information out of the element.\n",
    "\n",
    "So this brings us to the second part of nearly every expath statement:  the data extraction piece.  We've got `'//book/author'`, which will find the element in question.  We need to add `'//text()'` to extract out the actual text.  The `'//`' part of that says \"anywhere in the tree.  I usually recommend it in case there's additional text in other elements.  We'll explore this later, just remember that when I use two `/`s that I'm doing so on purpose. \n",
    "\n",
    "Sometimes you want to leave these things separate, so you have a two stage query:  find all the author elements and then extract the information out of those elements.  But in many cases we can put everyting together in one statement.  We can do that now."
   ]
  },
  {
   "cell_type": "code",
   "execution_count": 3,
   "metadata": {
    "collapsed": false
   },
   "outputs": [
    {
     "name": "stdout",
     "output_type": "stream",
     "text": [
      "['Human, A.']\n"
     ]
    }
   ],
   "source": [
    "from lxml import etree\n",
    "\n",
    "xml = \"\"\"\n",
    "<book>\n",
    "    <author>Human, A.</author>\n",
    "    <title>This is not a book</title>\n",
    "</book>\"\"\"\n",
    "\n",
    "tree = etree.fromstring(xml)\n",
    "print(tree.xpath('//book/author//text()'))"
   ]
  },
  {
   "cell_type": "markdown",
   "metadata": {},
   "source": [
    "Yay!  We've gotten it.  Now let's explore why we want to do `//text()` instead of `/text()`"
   ]
  },
  {
   "cell_type": "code",
   "execution_count": null,
   "metadata": {
    "collapsed": true
   },
   "outputs": [],
   "source": []
  },
  {
   "cell_type": "code",
   "execution_count": null,
   "metadata": {
    "collapsed": true
   },
   "outputs": [],
   "source": []
  },
  {
   "cell_type": "code",
   "execution_count": null,
   "metadata": {
    "collapsed": true
   },
   "outputs": [],
   "source": []
  },
  {
   "cell_type": "code",
   "execution_count": null,
   "metadata": {
    "collapsed": true
   },
   "outputs": [],
   "source": []
  },
  {
   "cell_type": "code",
   "execution_count": null,
   "metadata": {
    "collapsed": true
   },
   "outputs": [],
   "source": []
  },
  {
   "cell_type": "code",
   "execution_count": null,
   "metadata": {
    "collapsed": true
   },
   "outputs": [],
   "source": []
  }
 ],
 "metadata": {
  "kernelspec": {
   "display_name": "Python [default]",
   "language": "python",
   "name": "python3"
  },
  "language_info": {
   "codemirror_mode": {
    "name": "ipython",
    "version": 3
   },
   "file_extension": ".py",
   "mimetype": "text/x-python",
   "name": "python",
   "nbconvert_exporter": "python",
   "pygments_lexer": "ipython3",
   "version": "3.5.2"
  }
 },
 "nbformat": 4,
 "nbformat_minor": 2
}
