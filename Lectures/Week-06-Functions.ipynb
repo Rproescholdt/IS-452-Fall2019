{
 "cells": [
  {
   "cell_type": "markdown",
   "metadata": {
    "collapsed": true
   },
   "source": [
    "# Spring 2018 Status: UNREVIEWED\n",
    "\n",
    "# Week 6: Functions"
   ]
  },
  {
   "cell_type": "markdown",
   "metadata": {},
   "source": [
    "Let's start with some vocabulary:\n",
    "\n",
    "* __define a function__:  this is where you define the name, parameters, and code for your functions.  You do this with your `def` block.  E.g. `def name():`\n",
    "* __call a function__:  this is when you actually call the function to execute, and you do this via `name()` somewhere in your code\n",
    "* __parameters/arguments__:  these are the values you want to give the function when you call it, you can have 0 parameters/arguments\n",
    "* __'passing' values__: this is how you give the function the parameters and get values back, passing means that the value is handed off in the system such that it can be saved and processed.  This is different from printing values, which just spits the value out to the console and you can capture and save that value.\n",
    "* __`return`__: this is how you pass a value out of a function\n"
   ]
  },
  {
   "cell_type": "markdown",
   "metadata": {},
   "source": [
    "Functions capture and host a select chunk of code that can be repeatedly called.  These are widely used to help keep the flow of longer programs clear, because you can modularize the processing elsewhere.  There are also modules with specialized functions that we import and use for specific tasks as we need them.  \n",
    "\n",
    "So this is an element you can add into your program to make the structure of the program more organized or cleaner to understand, and less something that is necessary to help solve a problem.\n",
    "\n",
    "Functions can theoretically contain any piece of code, which means that people use them in a wide variety of styles.\n",
    "\n",
    "When starting out with functions, think about elements that you might want to repeat over and over.  You can put all that code into a funtion, and then you just have to call the function.\n",
    "\n",
    "You might also want to use a function when your code is getting very long and you are having a hard time following what is going on in your program.  This is particularly useful when you have many levels of granularity and thus you program is starting to have many levels of indents.  For example:\n",
    "\n",
    "```\n",
    "for file in files:\n",
    "    for record in file:\n",
    "        for line in record:\n",
    "            for word in line:\n",
    "                ...\n",
    "```\n",
    "\n",
    "This is getting pretty unreadable even with no code under any of these things.  Imagine this code block, but with many lines of code for the processing under each.  You'll have a hard time understanding which for loop each piece of code belongs to.\n",
    "\n",
    "In this kind of case, we can first try to snip out the longest chunk of processing code and putting that into a function.  You could also consider making each of these a separate function, processing each level of granularity.\n",
    "\n",
    "Example:\n",
    "\n",
    "```\n",
    "for file in files:\n",
    "    records = get_records(file)\n",
    "    for record in records:\n",
    "        data = process_record(record)\n",
    "```\n",
    "\n",
    "This is still very much abstract, but imagine that all the processing for lines and words was sent off to live in the `process_record` function.  In this case, all the processing work has been sent out to `get_records` and `process_record`, so this might me all the code there is in the main processing section of our program.  This can make the control flow easier to understand because all the processing and data manipulation elements have been isolated. \n",
    "\n",
    "There are many nuanced pieces to understanding functions, so it is best to start with small examples where we can explore each piece independently."
   ]
  },
  {
   "cell_type": "markdown",
   "metadata": {},
   "source": [
    "# Function call anatomy\n",
    "\n",
    "You've been using functions, how are these different?\n",
    "\n",
    "You should be used to calling functions like `len()` and `print()`.  Remember that when we call functions, we do so by stating the name of the function, followed by `()`, and then we sometimes need to place parameters inside the `()` to give it something to act on.\n",
    "\n",
    "So the anatomy of a function call is:\n",
    "\n",
    "``` python\n",
    "functionname(parameters)\n",
    "```\n",
    "\n",
    "There may be multiple parameters separated by `,`s, just one, or no parameters at all.  We know that these functions exist because we've been using them, but we've never actually seen them defined.\n",
    "\n",
    "The functions that we'll be doing next are our own home grown ones.  We decide what we want the functions to do, what their name is, the parameters, and what they return back to us."
   ]
  },
  {
   "cell_type": "markdown",
   "metadata": {},
   "source": [
    "# The fuction definition anatomy\n",
    "\n",
    "``` python\n",
    "def functionname(parameter1, parameter2):\n",
    "    do stuff to things\n",
    "    return something\n",
    "```\n",
    "\n",
    "There's a checklist that you should run through before creating a function:\n",
    "\n",
    "1. what do you want to name the function?\n",
    "2. what should the function take as parameters, if anything?\n",
    "3. what does the function need to do?  (this answer may be very abstract when starting out)\n",
    "4. what should the function return? or: what should the function give back to you\n",
    "\n",
    "We're going to tackle these one at a time with small examples."
   ]
  },
  {
   "cell_type": "markdown",
   "metadata": {},
   "source": [
    "# 1: what's the name?\n",
    "\n",
    "This might be given in the homework problem, or you might have to come up with it on your own.  Your boss or team may have othe stylistic requirements for function names as well, so you should always abide by that.  \n",
    "\n",
    "Python in general doesn't care, nor is it aware, of the content of your function names.  The usual restrictions of wariable names apply, but everything else is up to personal style choice.  Like variable names, remember that calling something `letter` doesn't mean that Python knows anything about letters or the content.  These nameso are for human consumption.\n",
    "\n",
    "The formal python style guidelines say this about how to format function names:\n",
    "\n",
    "```\n",
    "Function names should be lowercase, with words separated by underscores as necessary to improve readability.\n",
    "\n",
    "mixedCase is allowed only in contexts where that's already the prevailing style (e.g. threading.py), to retain backwards compatibility.\n",
    "```\n",
    "From PEP8: https://www.python.org/dev/peps/pep-0008/#function-names\n",
    "\n",
    "So the format should be lowercase, but the content is more up to you.  As with other variables, clarity is the most important.  You will need to type them in, so it needs to be of a reasonable length.\n",
    "\n",
    "Here's a very short function, showing off some of the most minimal elements you can have in a function.  This is a short silly function, so we haven't given it a great name."
   ]
  },
  {
   "cell_type": "code",
   "execution_count": 1,
   "metadata": {
    "collapsed": true
   },
   "outputs": [],
   "source": [
    "def justdosomething():\n",
    "    print(\"hello\")"
   ]
  },
  {
   "cell_type": "markdown",
   "metadata": {},
   "source": [
    "Things to note:\n",
    "\n",
    "* this has opened with a `def` block\n",
    "* the `()` are there, even with nothing in them. So this function will take no parameters, or input.\n",
    "* the `()` are absolutely required, even if there are no parameters to pass\n",
    "* the code you want to run in the function is indented under the `def` opening line\n",
    "* after evaluation, thi function definition has been executed, but the function content has not actually executed\n",
    "\n",
    "Remember that we need to call our function to actually make it run."
   ]
  },
  {
   "cell_type": "code",
   "execution_count": 1,
   "metadata": {},
   "outputs": [
    {
     "name": "stdout",
     "output_type": "stream",
     "text": [
      "hello\n"
     ]
    }
   ],
   "source": [
    "def justdosomething():\n",
    "    print(\"hello\")\n",
    "\n",
    "justdosomething()"
   ]
  },
  {
   "cell_type": "markdown",
   "metadata": {},
   "source": [
    "Things to note:\n",
    "\n",
    "* our function definition hasn't changed from above\n",
    "* we've added a function call, so the code within the function has executed\n",
    "* the function call:\n",
    "    * has the same name (content and case) as the function definition that you created\n",
    "    * the `()` are still there even if there are no parameters\n",
    "    * is not inside the function definition, so it is indented outside the function definition\n",
    "    \n",
    "# 2: what should the inputs/parameters be?\n",
    "\n",
    "Recall our definitions:\n",
    "\n",
    "* pass a value: we're going to tell our function that it will take a value in (see where `saythis` appears in the function definition inside those `()`?  The function will accept that value \n",
    "\n",
    "Parameter are the heart of the power of functions.  They allow us to not just make repeatable code, but they allow us to have that code operate on arbitary values.  We can do a little mad lib here."
   ]
  },
  {
   "cell_type": "code",
   "execution_count": 7,
   "metadata": {},
   "outputs": [
    {
     "name": "stdout",
     "output_type": "stream",
     "text": [
      "Nice lizard you have there.  Where can I get some lizards?\n",
      "Nice cat you have there.  Where can I get some cats?\n",
      "Nice human you have there.  Where can I get some humans?\n",
      "Nice child you have there.  Where can I get some children?\n"
     ]
    }
   ],
   "source": [
    "animal_singular = 'lizard'\n",
    "animal_plural = 'lizards'\n",
    "\n",
    "def funnyanimaljoke(singular, plural):\n",
    "    print(\"Nice\", singular, \"you have there.  Where can I get some\", plural + \"?\")\n",
    "    \n",
    "funnyanimaljoke(animal_singular, animal_plural)\n",
    "funnyanimaljoke(\"cat\", \"cats\")\n",
    "funnyanimaljoke(\"human\", \"humans\")\n",
    "funnyanimaljoke(\"child\", \"children\")"
   ]
  },
  {
   "cell_type": "markdown",
   "metadata": {},
   "source": [
    "Things to note:\n",
    "\n",
    "* this function takes 2 parameters:  `singular` and `plural`\n",
    "* these parameter names are separated by a comma and appear in our `()` in the def line\n",
    "* the order that I report the variable names in the `()` matches the order that I have them in my function call\n",
    "* there parameter variable names don't match the \"outside world\" variable names that I call the function with\n",
    "* I don't even need to have a variable in there at all\n",
    "* the \"do stuff\" portion of my code uses both the parameter variable names, and not the outside world one\n",
    "\n",
    "# 3: do stuff\n",
    "\n",
    "I've been doing stuff all along. but you can do more than just print out the values for things.  With the parameter variables, you have complete access to the content passed into the function when called.  We can try doing something a bit more interesting."
   ]
  },
  {
   "cell_type": "code",
   "execution_count": 5,
   "metadata": {
    "collapsed": true
   },
   "outputs": [],
   "source": [
    "def saysomethinglouder(phrase_str):\n",
    "    text = phrase_str.upper()\n",
    "    print(text)"
   ]
  },
  {
   "cell_type": "code",
   "execution_count": 6,
   "metadata": {},
   "outputs": [
    {
     "name": "stdout",
     "output_type": "stream",
     "text": [
      "DOES THIS CHANGE MY INTERPRETATION?\n"
     ]
    }
   ],
   "source": [
    "saysomethinglouder(\"Does this change my interpretation?\")"
   ]
  },
  {
   "cell_type": "markdown",
   "metadata": {},
   "source": [
    "Things to note:\n",
    "\n",
    "* again, I have full access to whatever is passed in, but I have to use the parameter variable names\n",
    "* these variables are normal--just named and defined in the function definition and calling process (respecively) so I can use all normal stuff at my disposal to work with that content\n",
    "* there are no visual cues in your function definition as to what you parameter data types will be, so be careful about your variable names"
   ]
  },
  {
   "cell_type": "markdown",
   "metadata": {},
   "source": [
    "# 4: get stuff back\n",
    "\n",
    "The whole point of creating a function to contain a small program is to have it do some work and give us something back.  This is where we need to talk about return.\n",
    "\n",
    "## What the crap is `return`?\n",
    "\n",
    "Return is completely different from print.  Print spits out the content to the console, but you can't access the content.  Only view it.\n",
    "\n",
    "Meanwhile, `return` will actually pass the value back to you to capture.  You'd then need to print it directly, should you want to.\n",
    "\n",
    "Recall sometimes you use functions that require a variable assignment to capture a new value.  Say we have a word and would like to know how long it is.  We know that we can use `len()` to get the number, and `print()` to see the results.  But what if we wanted to create a string of `-` that is however long our word is? We could do it all at once, but that can make our code look cluttered.  Instead, we want to save that value."
   ]
  },
  {
   "cell_type": "code",
   "execution_count": 17,
   "metadata": {},
   "outputs": [
    {
     "name": "stdout",
     "output_type": "stream",
     "text": [
      "4\n"
     ]
    }
   ],
   "source": [
    "word = \"hiya\"\n",
    "print(len(word))"
   ]
  },
  {
   "cell_type": "markdown",
   "metadata": {},
   "source": [
    "We can use `print()` to visualy inspect the results, but that doesn't help me save the value to use in other places."
   ]
  },
  {
   "cell_type": "code",
   "execution_count": 19,
   "metadata": {},
   "outputs": [
    {
     "name": "stdout",
     "output_type": "stream",
     "text": [
      "4\n"
     ]
    }
   ],
   "source": [
    "word = \"hiya\"\n",
    "num_chars = len(word)\n",
    "print(num_chars)"
   ]
  },
  {
   "cell_type": "markdown",
   "metadata": {},
   "source": [
    "This may be a silly example, but we can see the power of return.  The `len()` function returns the length value to me, which I can then capture and use.  Now we can explore the difference made in our previous function when we add a return."
   ]
  },
  {
   "cell_type": "code",
   "execution_count": 21,
   "metadata": {},
   "outputs": [
    {
     "name": "stdout",
     "output_type": "stream",
     "text": [
      "THIS IS MY SENTENCE, BUT NOW IT'LL BE LOUDER\n"
     ]
    }
   ],
   "source": [
    "def saysomethinglouder(phrase_str):\n",
    "    text = phrase_str.upper()\n",
    "    print(text)\n",
    "    \n",
    "saysomethinglouder(\"this is my sentence, but now it'll be louder\")"
   ]
  },
  {
   "cell_type": "markdown",
   "metadata": {},
   "source": [
    "As we saw before, this result is printed out for us to see.  But can we save it?"
   ]
  },
  {
   "cell_type": "code",
   "execution_count": 22,
   "metadata": {},
   "outputs": [
    {
     "name": "stdout",
     "output_type": "stream",
     "text": [
      "THIS IS MY SENTENCE, BUT NOW IT'LL BE LOUDER\n",
      "None\n"
     ]
    }
   ],
   "source": [
    "louder1 = saysomethinglouder(\"this is my sentence, but now it'll be louder\")\n",
    "print(louder1)"
   ]
  },
  {
   "cell_type": "markdown",
   "metadata": {},
   "source": [
    "No, we can't.\n",
    "\n",
    "Things to notice:\n",
    "\n",
    "* our result still printed, because the print statement behaves no differently when an assignment statement is used.\n",
    "* our stored value is `None` which is the default value a function returns when you do not specify a value to return.\n",
    "* even though we can see the result, we cannot capture a result from a print statement.\n",
    "\n",
    "This is sort of like listening to a voice mail without a pen and paper.  You can hear the results, which may be enough, but you can't capture the values.\n",
    "\n",
    "Now we can add `return` to our function.  When starting out, you should always design your function's control flow so that the last line of the function is your return statement.  Python will stop running code in your function once it evaluates a return function, so this can save you a lot of grief when getting started.  Once you are more comfortable, you can change your patterns up."
   ]
  },
  {
   "cell_type": "code",
   "execution_count": 24,
   "metadata": {
    "collapsed": true
   },
   "outputs": [],
   "source": [
    "def returnsomethinglouder(phrase_str):\n",
    "    text = phrase_str.upper()\n",
    "    return text # we've changed this to return\n",
    "\n",
    "louder2 = returnsomethinglouder(\"Hello, I would like to science.\")"
   ]
  },
  {
   "cell_type": "markdown",
   "metadata": {},
   "source": [
    "Nothing printed this time around, so let's print out our new variable and see what's going on."
   ]
  },
  {
   "cell_type": "code",
   "execution_count": 25,
   "metadata": {},
   "outputs": [
    {
     "name": "stdout",
     "output_type": "stream",
     "text": [
      "HELLO, I WOULD LIKE TO SCIENCE.\n"
     ]
    }
   ],
   "source": [
    "print(louder2)"
   ]
  },
  {
   "cell_type": "markdown",
   "metadata": {},
   "source": [
    "Excellent, we've captured back out returned value with an assignment statement."
   ]
  },
  {
   "cell_type": "markdown",
   "metadata": {},
   "source": [
    "# function vital facts\n",
    "\n",
    "There is one piece of trivia worth memorizing:\n",
    "\n",
    "* you can have an unlimited number of print statements in your function, and they won't effect the control flow of the program\n",
    "* you can have an unlimited number of return statements in your function, but only the first one to be executed will run.  After that the function will stop running and control flow will go back to the main program (or, wherever comes after where you called that function)\n",
    "\n",
    "We can play with our second function to see this in action.\n",
    "\n",
    "First, I'll add a print statement before my return statement, and you can see it execute."
   ]
  },
  {
   "cell_type": "code",
   "execution_count": 26,
   "metadata": {},
   "outputs": [
    {
     "name": "stdout",
     "output_type": "stream",
     "text": [
      "HELLO, I WOULD LIKE TO SCIENCE.\n"
     ]
    }
   ],
   "source": [
    "def returnsomethinglouder(phrase_str):\n",
    "    text = phrase_str.upper()\n",
    "    print(text) # here I've added a print statement\n",
    "    return text\n",
    "\n",
    "louder2 = returnsomethinglouder(\"Hello, I would like to science.\")"
   ]
  },
  {
   "cell_type": "markdown",
   "metadata": {},
   "source": [
    "Next, I'll move that print statement so it is after the return statement, and you can see that it doesn't execute."
   ]
  },
  {
   "cell_type": "code",
   "execution_count": 27,
   "metadata": {
    "collapsed": true
   },
   "outputs": [],
   "source": [
    "def returnsomethinglouder(phrase_str):\n",
    "    text = phrase_str.upper()\n",
    "    return text\n",
    "    print(text) # here I've added a print statement\n",
    "\n",
    "louder2 = returnsomethinglouder(\"Hello, I would like to science.\")"
   ]
  },
  {
   "cell_type": "markdown",
   "metadata": {},
   "source": [
    "So you can see that nothing has happened, at least print-wise.  This is because that line literally never executes. \n",
    "\n",
    "We can see this for explicitly if we put in some code we know will cause an error, and yet that function will execute without it ever hitting that error."
   ]
  },
  {
   "cell_type": "code",
   "execution_count": 28,
   "metadata": {
    "collapsed": true
   },
   "outputs": [],
   "source": [
    "def returnsomethinglouder(phrase_str):\n",
    "    text = phrase_str.upper()\n",
    "    return text\n",
    "    print(10/0) # this line will never run\n",
    "\n",
    "louder2 = returnsomethinglouder(\"Hello, I would like to science.\")"
   ]
  },
  {
   "cell_type": "markdown",
   "metadata": {},
   "source": [
    "This can be quite sneaky, particularly as a newcomer not used to seeing these things.  Which is why, again, I suggest that you always design your functions so that the return is on the last line."
   ]
  },
  {
   "cell_type": "markdown",
   "metadata": {},
   "source": [
    "## Problem walkthrough\n",
    "\n",
    "Let's go back to our problem of the friend who is obsessed with finding secret messages.  This friend keeps sending you text files that they want you to check what the 'message' is.  You get so annoyed that you write a function to speed up this process.\n",
    "\n",
    "We can go through our 4 checklist items:\n",
    "\n",
    "1. what do you want to name the function?\n",
    "    * get_hidden_message\n",
    "2. what should the function take as parameters, if anything?\n",
    "    * Let's say that you want it to take the file name/path so that all the work is done for you.\n",
    "    * so 1 parameter:  file_path\n",
    "3. what does the function need to do?  (this answer may be very abstract when starting out)\n",
    "    * the function will repeat what we worked through last week, to find the first word oy each line.\n",
    "4. what should the function return? or: what should the function give back to you\n",
    "    * it should return the new string of the hidden message\n",
    "    \n",
    "Now we can remind ourselves what that code looked like:"
   ]
  },
  {
   "cell_type": "code",
   "execution_count": 29,
   "metadata": {},
   "outputs": [
    {
     "name": "stdout",
     "output_type": "stream",
     "text": [
      "Once\n",
      "Over\n",
      "While\n",
      "As\n",
      "“’Tis\n",
      "Only\n",
      "Ah,\n",
      "And\n",
      "Eagerly\n",
      "From\n",
      "For\n",
      "Nameless\n",
      "And\n",
      "Thrilled\n",
      "So\n",
      "“’Tis\n",
      "Some\n",
      "This\n",
      "Presently\n",
      "“Sir,”\n",
      "But\n",
      "And\n",
      "That\n",
      "Darkness\n",
      "Deep\n",
      "Doubting,\n",
      "But\n",
      "And\n",
      "This\n",
      "Merely\n",
      "Back\n",
      "Soon\n",
      "“Surely,”\n",
      "Let\n",
      "Let\n",
      "’Tis\n",
      "Open\n",
      "In\n",
      "Not\n",
      "But,\n",
      "Perched\n",
      "Perched,\n",
      "Then\n",
      "By\n",
      "“Though\n",
      "Ghastly\n",
      "Tell\n",
      "Quoth\n",
      "Much\n",
      "Though\n",
      "For\n",
      "Ever\n",
      "Bird\n",
      "With\n",
      "But\n",
      "That\n",
      "Nothing\n",
      "Till\n",
      "On\n",
      "Then\n",
      "Startled\n",
      "“Doubtless,”\n",
      "Caught\n",
      "Followed\n",
      "Till\n",
      "Of\n",
      "But\n",
      "Straight\n",
      "Then,\n",
      "Fancy\n",
      "What\n",
      "Meant\n",
      "This\n",
      "To\n",
      "This\n",
      "On\n",
      "But\n",
      "She\n",
      "Then,\n",
      "Swung\n",
      "“Wretch,”\n",
      "Respite—respite\n",
      "Quaff,\n",
      "Quoth\n",
      "“Prophet!”\n",
      "Whether\n",
      "Desolate\n",
      "On\n",
      "Is\n",
      "Quoth\n",
      "“Prophet!”\n",
      "By\n",
      "Tell\n",
      "It\n",
      "Clasp\n",
      "Quoth\n",
      "“Be\n",
      "“Get\n",
      "Leave\n",
      "Leave\n",
      "Take\n",
      "Quoth\n",
      "And\n",
      "On\n",
      "And\n",
      "And\n",
      "And\n",
      "Shall\n"
     ]
    }
   ],
   "source": [
    "infile = open('raven.txt', 'r') # makes our fileio object\n",
    "\n",
    "text = infile.read()\n",
    "\n",
    "infile.close()\n",
    "\n",
    "corrected_text = text.replace('\\n\\n', '\\n')\n",
    "lines = corrected_text.split('\\n')\n",
    "\n",
    "for line in lines:\n",
    "    words = line.split()\n",
    "    print(words[0])"
   ]
  },
  {
   "cell_type": "markdown",
   "metadata": {
    "collapsed": true
   },
   "source": [
    "We can go ahead and plop this into a function definition.  Right now we're not going to worry about the parameters or the return statement, we just want to start somewhere and check that it continues to work as we go along.  Don't forget that we'll need to call our function to make it actually execute!"
   ]
  },
  {
   "cell_type": "code",
   "execution_count": 30,
   "metadata": {},
   "outputs": [
    {
     "name": "stdout",
     "output_type": "stream",
     "text": [
      "Once\n",
      "Over\n",
      "While\n",
      "As\n",
      "“’Tis\n",
      "Only\n",
      "Ah,\n",
      "And\n",
      "Eagerly\n",
      "From\n",
      "For\n",
      "Nameless\n",
      "And\n",
      "Thrilled\n",
      "So\n",
      "“’Tis\n",
      "Some\n",
      "This\n",
      "Presently\n",
      "“Sir,”\n",
      "But\n",
      "And\n",
      "That\n",
      "Darkness\n",
      "Deep\n",
      "Doubting,\n",
      "But\n",
      "And\n",
      "This\n",
      "Merely\n",
      "Back\n",
      "Soon\n",
      "“Surely,”\n",
      "Let\n",
      "Let\n",
      "’Tis\n",
      "Open\n",
      "In\n",
      "Not\n",
      "But,\n",
      "Perched\n",
      "Perched,\n",
      "Then\n",
      "By\n",
      "“Though\n",
      "Ghastly\n",
      "Tell\n",
      "Quoth\n",
      "Much\n",
      "Though\n",
      "For\n",
      "Ever\n",
      "Bird\n",
      "With\n",
      "But\n",
      "That\n",
      "Nothing\n",
      "Till\n",
      "On\n",
      "Then\n",
      "Startled\n",
      "“Doubtless,”\n",
      "Caught\n",
      "Followed\n",
      "Till\n",
      "Of\n",
      "But\n",
      "Straight\n",
      "Then,\n",
      "Fancy\n",
      "What\n",
      "Meant\n",
      "This\n",
      "To\n",
      "This\n",
      "On\n",
      "But\n",
      "She\n",
      "Then,\n",
      "Swung\n",
      "“Wretch,”\n",
      "Respite—respite\n",
      "Quaff,\n",
      "Quoth\n",
      "“Prophet!”\n",
      "Whether\n",
      "Desolate\n",
      "On\n",
      "Is\n",
      "Quoth\n",
      "“Prophet!”\n",
      "By\n",
      "Tell\n",
      "It\n",
      "Clasp\n",
      "Quoth\n",
      "“Be\n",
      "“Get\n",
      "Leave\n",
      "Leave\n",
      "Take\n",
      "Quoth\n",
      "And\n",
      "On\n",
      "And\n",
      "And\n",
      "And\n",
      "Shall\n"
     ]
    }
   ],
   "source": [
    "def get_hidden_message():\n",
    "    infile = open('raven.txt', 'r') # makes our fileio object\n",
    "\n",
    "    text = infile.read()\n",
    "\n",
    "    infile.close()\n",
    "\n",
    "    corrected_text = text.replace('\\n\\n', '\\n')\n",
    "    lines = corrected_text.split('\\n')\n",
    "\n",
    "    for line in lines:\n",
    "        words = line.split()\n",
    "        print(words[0])\n",
    "        \n",
    "get_hidden_message()"
   ]
  },
  {
   "cell_type": "markdown",
   "metadata": {},
   "source": [
    "Let's first tackle our parameter input.  We want it to take a file path, so that the function can operate on pretty much any file.  \n",
    "\n",
    "We need to do 3 things to make this happen:\n",
    "\n",
    "1. add our parameter variable into the function definition line\n",
    "2. change our code so that it is using that paramter value instead of the hard coded file path we have right now\n",
    "3. move our file path to the raven into our parameter area when we call our function"
   ]
  },
  {
   "cell_type": "code",
   "execution_count": 32,
   "metadata": {},
   "outputs": [
    {
     "name": "stdout",
     "output_type": "stream",
     "text": [
      "Once\n",
      "Over\n",
      "While\n",
      "As\n",
      "“’Tis\n",
      "Only\n",
      "Ah,\n",
      "And\n",
      "Eagerly\n",
      "From\n",
      "For\n",
      "Nameless\n",
      "And\n",
      "Thrilled\n",
      "So\n",
      "“’Tis\n",
      "Some\n",
      "This\n",
      "Presently\n",
      "“Sir,”\n",
      "But\n",
      "And\n",
      "That\n",
      "Darkness\n",
      "Deep\n",
      "Doubting,\n",
      "But\n",
      "And\n",
      "This\n",
      "Merely\n",
      "Back\n",
      "Soon\n",
      "“Surely,”\n",
      "Let\n",
      "Let\n",
      "’Tis\n",
      "Open\n",
      "In\n",
      "Not\n",
      "But,\n",
      "Perched\n",
      "Perched,\n",
      "Then\n",
      "By\n",
      "“Though\n",
      "Ghastly\n",
      "Tell\n",
      "Quoth\n",
      "Much\n",
      "Though\n",
      "For\n",
      "Ever\n",
      "Bird\n",
      "With\n",
      "But\n",
      "That\n",
      "Nothing\n",
      "Till\n",
      "On\n",
      "Then\n",
      "Startled\n",
      "“Doubtless,”\n",
      "Caught\n",
      "Followed\n",
      "Till\n",
      "Of\n",
      "But\n",
      "Straight\n",
      "Then,\n",
      "Fancy\n",
      "What\n",
      "Meant\n",
      "This\n",
      "To\n",
      "This\n",
      "On\n",
      "But\n",
      "She\n",
      "Then,\n",
      "Swung\n",
      "“Wretch,”\n",
      "Respite—respite\n",
      "Quaff,\n",
      "Quoth\n",
      "“Prophet!”\n",
      "Whether\n",
      "Desolate\n",
      "On\n",
      "Is\n",
      "Quoth\n",
      "“Prophet!”\n",
      "By\n",
      "Tell\n",
      "It\n",
      "Clasp\n",
      "Quoth\n",
      "“Be\n",
      "“Get\n",
      "Leave\n",
      "Leave\n",
      "Take\n",
      "Quoth\n",
      "And\n",
      "On\n",
      "And\n",
      "And\n",
      "And\n",
      "Shall\n"
     ]
    }
   ],
   "source": [
    "def get_hidden_message(file_path): # parameter variable\n",
    "    infile = open(file_path, 'r') # using variable here\n",
    "\n",
    "    text = infile.read()\n",
    "\n",
    "    infile.close()\n",
    "\n",
    "    corrected_text = text.replace('\\n\\n', '\\n')\n",
    "    lines = corrected_text.split('\\n')\n",
    "\n",
    "    for line in lines:\n",
    "        words = line.split()\n",
    "        print(words[0])\n",
    "        \n",
    "get_hidden_message('raven.txt') # now the file path is in the call"
   ]
  },
  {
   "cell_type": "markdown",
   "metadata": {},
   "source": [
    "Last step, we need to fix our output.  We can solve this a variety of ways, but an accumulator will do the job."
   ]
  },
  {
   "cell_type": "code",
   "execution_count": 35,
   "metadata": {},
   "outputs": [
    {
     "name": "stdout",
     "output_type": "stream",
     "text": [
      "Once Over While As “’Tis Only Ah, And Eagerly From For Nameless And Thrilled So “’Tis Some This Presently “Sir,” But And That Darkness Deep Doubting, But And This Merely Back Soon “Surely,” Let Let ’Tis Open In Not But, Perched Perched, Then By “Though Ghastly Tell Quoth Much Though For Ever Bird With But That Nothing Till On Then Startled “Doubtless,” Caught Followed Till Of But Straight Then, Fancy What Meant This To This On But She Then, Swung “Wretch,” Respite—respite Quaff, Quoth “Prophet!” Whether Desolate On Is Quoth “Prophet!” By Tell It Clasp Quoth “Be “Get Leave Leave Take Quoth And On And And And Shall\n"
     ]
    }
   ],
   "source": [
    "def get_hidden_message(file_path):\n",
    "    infile = open(file_path, 'r')\n",
    "\n",
    "    text = infile.read()\n",
    "\n",
    "    infile.close()\n",
    "\n",
    "    corrected_text = text.replace('\\n\\n', '\\n')\n",
    "    lines = corrected_text.split('\\n')\n",
    "\n",
    "    startwords = [] # adding accumulator\n",
    "    \n",
    "    for line in lines:\n",
    "        words = line.split()\n",
    "        startwords.append(words[0]) # incrementing\n",
    "        \n",
    "    assestence = \" \".join(startwords) # putting all the words together\n",
    "    \n",
    "    print(assestence)\n",
    "        \n",
    "get_hidden_message('raven.txt')"
   ]
  },
  {
   "cell_type": "markdown",
   "metadata": {},
   "source": [
    "Here we're still just printing it to check that it looks good.\n",
    "\n",
    "Now we can return it, but need to remember that we need to print the value to see it."
   ]
  },
  {
   "cell_type": "code",
   "execution_count": 36,
   "metadata": {},
   "outputs": [
    {
     "name": "stdout",
     "output_type": "stream",
     "text": [
      "Once Over While As “’Tis Only Ah, And Eagerly From For Nameless And Thrilled So “’Tis Some This Presently “Sir,” But And That Darkness Deep Doubting, But And This Merely Back Soon “Surely,” Let Let ’Tis Open In Not But, Perched Perched, Then By “Though Ghastly Tell Quoth Much Though For Ever Bird With But That Nothing Till On Then Startled “Doubtless,” Caught Followed Till Of But Straight Then, Fancy What Meant This To This On But She Then, Swung “Wretch,” Respite—respite Quaff, Quoth “Prophet!” Whether Desolate On Is Quoth “Prophet!” By Tell It Clasp Quoth “Be “Get Leave Leave Take Quoth And On And And And Shall\n"
     ]
    }
   ],
   "source": [
    "def get_hidden_message(file_path):\n",
    "    infile = open(file_path, 'r') \n",
    "\n",
    "    text = infile.read()\n",
    "\n",
    "    infile.close()\n",
    "\n",
    "    corrected_text = text.replace('\\n\\n', '\\n')\n",
    "    lines = corrected_text.split('\\n')\n",
    "\n",
    "    startwords = []\n",
    "    \n",
    "    for line in lines:\n",
    "        words = line.split()\n",
    "        startwords.append(words[0])\n",
    "        \n",
    "    assestence = \" \".join(startwords)\n",
    "    \n",
    "    return assestence # returning now!\n",
    "        \n",
    "print(get_hidden_message('raven.txt')) # and now printing"
   ]
  },
  {
   "cell_type": "markdown",
   "metadata": {},
   "source": [
    "Excellent! Let's test this on a few files."
   ]
  },
  {
   "cell_type": "code",
   "execution_count": 37,
   "metadata": {},
   "outputs": [
    {
     "name": "stdout",
     "output_type": "stream",
     "text": [
      "A \"Wheee!\" Chicka and Chicka And The Skit Mamas \"Help Next H M Look Last But A Chicka I'll Chicka\n"
     ]
    }
   ],
   "source": [
    "print(get_hidden_message('boomboom.txt'))"
   ]
  },
  {
   "cell_type": "code",
   "execution_count": 38,
   "metadata": {},
   "outputs": [
    {
     "name": "stdout",
     "output_type": "stream",
     "text": [
      "Hello, Please I\n"
     ]
    }
   ],
   "source": [
    "print(get_hidden_message('smalltext.txt'))"
   ]
  },
  {
   "cell_type": "markdown",
   "metadata": {},
   "source": [
    "So your friend remains full of crap, but you can more efficiently process that crap."
   ]
  },
  {
   "cell_type": "code",
   "execution_count": null,
   "metadata": {
    "collapsed": true
   },
   "outputs": [],
   "source": []
  },
  {
   "cell_type": "code",
   "execution_count": null,
   "metadata": {
    "collapsed": true
   },
   "outputs": [],
   "source": []
  },
  {
   "cell_type": "code",
   "execution_count": null,
   "metadata": {
    "collapsed": true
   },
   "outputs": [],
   "source": []
  }
 ],
 "metadata": {
  "anaconda-cloud": {},
  "kernelspec": {
   "display_name": "Python 3",
   "language": "python",
   "name": "python3"
  },
  "language_info": {
   "codemirror_mode": {
    "name": "ipython",
    "version": 3
   },
   "file_extension": ".py",
   "mimetype": "text/x-python",
   "name": "python",
   "nbconvert_exporter": "python",
   "pygments_lexer": "ipython3",
   "version": "3.6.1"
  }
 },
 "nbformat": 4,
 "nbformat_minor": 1
}
