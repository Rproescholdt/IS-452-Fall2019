{
 "cells": [
  {
   "cell_type": "markdown",
   "metadata": {},
   "source": [
    "# Essential pattern:  minimal accumulator\n",
    "\n",
    "We're going to explore this solution with another pattern:  the accumulator.  We have to solve the same problem, where we need to get the position number along the way.  We still use our loop, but we also have some things outside of it where we will be adding things up.\n",
    "\n",
    "The basic pattern is:\n",
    "\n",
    "```python \n",
    "thingtoadd = 0 # your counter variable\n",
    "\n",
    "for something in sequence: # loop over something!\n",
    "    do stuff\n",
    "    thingtoadd = 1 + thingtoadd # update the counter\n",
    "```\n",
    "\n",
    "So in this case, if we count however many letters we have seen, we can derive the correct position value from that.  Accumulators can be powerful patterns and are often the drivers of much of our work.  But they do require a bit of thought and planning.\n",
    "\n",
    "Where do you put o"
   ]
  },
  {
   "cell_type": "code",
   "execution_count": null,
   "metadata": {
    "collapsed": true
   },
   "outputs": [],
   "source": []
  },
  {
   "cell_type": "code",
   "execution_count": 1,
   "metadata": {
    "collapsed": true
   },
   "outputs": [],
   "source": [
    "raven = \"\"\"Once upon a midnight dreary, while I pondered, weak and weary,\n",
    "Over many a quaint and curious volume of forgotten lore—\n",
    "    While I nodded, nearly napping, suddenly there came a tapping,\n",
    "As of some one gently rapping, rapping at my chamber door.\n",
    "“’Tis some visitor,” I muttered, “tapping at my chamber door—\n",
    "            Only this and nothing more.”\n",
    "\n",
    "    Ah, distinctly I remember it was in the bleak December;\n",
    "And each separate dying ember wrought its ghost upon the floor.\n",
    "    Eagerly I wished the morrow;—vainly I had sought to borrow\n",
    "    From my books surcease of sorrow—sorrow for the lost Lenore—\n",
    "For the rare and radiant maiden whom the angels name Lenore—\n",
    "            Nameless here for evermore.\n",
    "\n",
    "    And the silken, sad, uncertain rustling of each purple curtain\n",
    "Thrilled me—filled me with fantastic terrors never felt before;\n",
    "    So that now, to still the beating of my heart, I stood repeating\n",
    "    “’Tis some visitor entreating entrance at my chamber door—\n",
    "Some late visitor entreating entrance at my chamber door;—\n",
    "            This it is and nothing more.”\n",
    "\n",
    "    Presently my soul grew stronger; hesitating then no longer,\n",
    "“Sir,” said I, “or Madam, truly your forgiveness I implore;\n",
    "    But the fact is I was napping, and so gently you came rapping,\n",
    "    And so faintly you came tapping, tapping at my chamber door,\n",
    "That I scarce was sure I heard you”—here I opened wide the door;—\n",
    "            Darkness there and nothing more.\n",
    "\n",
    "    Deep into that darkness peering, long I stood there wondering, fearing,\n",
    "Doubting, dreaming dreams no mortal ever dared to dream before;\n",
    "    But the silence was unbroken, and the stillness gave no token,\n",
    "    And the only word there spoken was the whispered word, “Lenore?”\n",
    "This I whispered, and an echo murmured back the word, “Lenore!”—\n",
    "            Merely this and nothing more.\n",
    "\n",
    "    Back into the chamber turning, all my soul within me burning,\n",
    "Soon again I heard a tapping somewhat louder than before.\n",
    "    “Surely,” said I, “surely that is something at my window lattice;\n",
    "      Let me see, then, what thereat is, and this mystery explore—\n",
    "Let my heart be still a moment and this mystery explore;—\n",
    "            ’Tis the wind and nothing more!”\n",
    "\n",
    "    Open here I flung the shutter, when, with many a flirt and flutter,\n",
    "In there stepped a stately Raven of the saintly days of yore;\n",
    "    Not the least obeisance made he; not a minute stopped or stayed he;\n",
    "    But, with mien of lord or lady, perched above my chamber door—\n",
    "Perched upon a bust of Pallas just above my chamber door—\n",
    "            Perched, and sat, and nothing more.\n",
    "\n",
    "Then this ebony bird beguiling my sad fancy into smiling,\n",
    "By the grave and stern decorum of the countenance it wore,\n",
    "“Though thy crest be shorn and shaven, thou,” I said, “art sure no craven,\n",
    "Ghastly grim and ancient Raven wandering from the Nightly shore—\n",
    "Tell me what thy lordly name is on the Night’s Plutonian shore!”\n",
    "            Quoth the Raven “Nevermore.”\n",
    "\n",
    "    Much I marvelled this ungainly fowl to hear discourse so plainly,\n",
    "Though its answer little meaning—little relevancy bore;\n",
    "    For we cannot help agreeing that no living human being\n",
    "    Ever yet was blessed with seeing bird above his chamber door—\n",
    "Bird or beast upon the sculptured bust above his chamber door,\n",
    "            With such name as “Nevermore.”\n",
    "\n",
    "    But the Raven, sitting lonely on the placid bust, spoke only\n",
    "That one word, as if his soul in that one word he did outpour.\n",
    "    Nothing farther then he uttered—not a feather then he fluttered—\n",
    "    Till I scarcely more than muttered “Other friends have flown before—\n",
    "On the morrow he will leave me, as my Hopes have flown before.”\n",
    "            Then the bird said “Nevermore.”\n",
    "\n",
    "    Startled at the stillness broken by reply so aptly spoken,\n",
    "“Doubtless,” said I, “what it utters is its only stock and store\n",
    "    Caught from some unhappy master whom unmerciful Disaster\n",
    "    Followed fast and followed faster till his songs one burden bore—\n",
    "Till the dirges of his Hope that melancholy burden bore\n",
    "            Of ‘Never—nevermore’.”\n",
    "\n",
    "    But the Raven still beguiling all my fancy into smiling,\n",
    "Straight I wheeled a cushioned seat in front of bird, and bust and door;\n",
    "    Then, upon the velvet sinking, I betook myself to linking\n",
    "    Fancy unto fancy, thinking what this ominous bird of yore—\n",
    "What this grim, ungainly, ghastly, gaunt, and ominous bird of yore\n",
    "            Meant in croaking “Nevermore.”\n",
    "\n",
    "    This I sat engaged in guessing, but no syllable expressing\n",
    "To the fowl whose fiery eyes now burned into my bosom’s core;\n",
    "    This and more I sat divining, with my head at ease reclining\n",
    "    On the cushion’s velvet lining that the lamp-light gloated o’er,\n",
    "But whose velvet-violet lining with the lamp-light gloating o’er,\n",
    "            She shall press, ah, nevermore!\n",
    "\n",
    "    Then, methought, the air grew denser, perfumed from an unseen censer\n",
    "Swung by Seraphim whose foot-falls tinkled on the tufted floor.\n",
    "    “Wretch,” I cried, “thy God hath lent thee—by these angels he hath sent thee\n",
    "    Respite—respite and nepenthe from thy memories of Lenore;\n",
    "Quaff, oh quaff this kind nepenthe and forget this lost Lenore!”\n",
    "            Quoth the Raven “Nevermore.”\n",
    "\n",
    "    “Prophet!” said I, “thing of evil!—prophet still, if bird or devil!—\n",
    "Whether Tempter sent, or whether tempest tossed thee here ashore,\n",
    "    Desolate yet all undaunted, on this desert land enchanted—\n",
    "    On this home by Horror haunted—tell me truly, I implore—\n",
    "Is there—is there balm in Gilead?—tell me—tell me, I implore!”\n",
    "            Quoth the Raven “Nevermore.”\n",
    "\n",
    "    “Prophet!” said I, “thing of evil!—prophet still, if bird or devil!\n",
    "By that Heaven that bends above us—by that God we both adore—\n",
    "    Tell this soul with sorrow laden if, within the distant Aidenn,\n",
    "    It shall clasp a sainted maiden whom the angels name Lenore—\n",
    "Clasp a rare and radiant maiden whom the angels name Lenore.”\n",
    "            Quoth the Raven “Nevermore.”\n",
    "\n",
    "    “Be that word our sign of parting, bird or fiend!” I shrieked, upstarting—\n",
    "“Get thee back into the tempest and the Night’s Plutonian shore!\n",
    "    Leave no black plume as a token of that lie thy soul hath spoken!\n",
    "    Leave my loneliness unbroken!—quit the bust above my door!\n",
    "Take thy beak from out my heart, and take thy form from off my door!”\n",
    "            Quoth the Raven “Nevermore.”\n",
    "\n",
    "    And the Raven, never flitting, still is sitting, still is sitting\n",
    "On the pallid bust of Pallas just above my chamber door;\n",
    "    And his eyes have all the seeming of a demon’s that is dreaming,\n",
    "    And the lamp-light o’er him streaming throws his shadow on the floor;\n",
    "And my soul from out that shadow that lies floating on the floor\n",
    "            Shall be lifted—nevermore!\"\"\""
   ]
  },
  {
   "cell_type": "markdown",
   "metadata": {},
   "source": [
    "# Problem statement:\n",
    "\n",
    "Write a program that prints out just the first line of each stanza in the raven.\n",
    "\n",
    "Two choices here:\n",
    "\n",
    "1) Do something fancy and detect the true meaning of what it means to be the first line in a stanza.\n",
    "2) Reverse engineer the known structure of the poem and do a little math about where each stanza should be.\n",
    "\n",
    "For now, let's go with the second option and exploit the consistant structure available to us in the poem.\n",
    "\n",
    "Given that the structure of the poem is so steady (18 stanzas with 6 lines each), we should be able to reasonably construct a little formula for where the first line of every stanza is.\n",
    "\n",
    "For example, if we say that I'm going to start with my left little finger and touch ever other finger you can likely sort out which ones that will be without having to watch me in action.\n",
    "\n",
    "## First question:  what is the granularity of our question?\n",
    "\n",
    "For example, are we concerned about characters, words, lines, larger chunks, entire files, etc?  Answering this question will help you slim down your choices of which patterns, functions, and tools will be helpful. This is also how you should internally organize these things in your head.\n",
    "\n",
    "For example, you know that there are ways to slice out chunks of strings if characters are the granularity of interest.\n",
    "\n",
    "You could say that the individual stanza is our granularity of interest.  Which isn't unture, but python doesn't really have a sense of the meaning of stanzas.  This means that we would need to do figure out how to define a stanza from a technical perspective.  Which we can, but isn't entirely necessary.\n",
    "\n",
    "Taking another look at our problem statement, we can reconsider what we really want out of this thing.  Which is a bunch of individual lines.  We are going to encode our understanding of stanzas in a later step.\n",
    "\n",
    "The fact that we care about lines of the poem and that the poem is already stored as a series of lines makes processing it so much easier."
   ]
  },
  {
   "cell_type": "code",
   "execution_count": null,
   "metadata": {
    "collapsed": true
   },
   "outputs": [],
   "source": []
  },
  {
   "cell_type": "code",
   "execution_count": null,
   "metadata": {
    "collapsed": true
   },
   "outputs": [],
   "source": []
  },
  {
   "cell_type": "code",
   "execution_count": 2,
   "metadata": {
    "collapsed": true
   },
   "outputs": [],
   "source": [
    "rsplit = raven.split('\\n')"
   ]
  },
  {
   "cell_type": "code",
   "execution_count": 4,
   "metadata": {},
   "outputs": [
    {
     "data": {
      "text/plain": [
       "['Once upon a midnight dreary, while I pondered, weak and weary,',\n",
       " 'Over many a quaint and curious volume of forgotten lore—',\n",
       " '    While I nodded, nearly napping, suddenly there came a tapping,',\n",
       " 'As of some one gently rapping, rapping at my chamber door.',\n",
       " '“’Tis some visitor,” I muttered, “tapping at my chamber door—',\n",
       " '            Only this and nothing more.”',\n",
       " '',\n",
       " '    Ah, distinctly I remember it was in the bleak December;',\n",
       " 'And each separate dying ember wrought its ghost upon the floor.',\n",
       " '    Eagerly I wished the morrow;—vainly I had sought to borrow',\n",
       " '    From my books surcease of sorrow—sorrow for the lost Lenore—',\n",
       " 'For the rare and radiant maiden whom the angels name Lenore—',\n",
       " '            Nameless here for evermore.',\n",
       " '',\n",
       " '    And the silken, sad, uncertain rustling of each purple curtain',\n",
       " 'Thrilled me—filled me with fantastic terrors never felt before;',\n",
       " '    So that now, to still the beating of my heart, I stood repeating',\n",
       " '    “’Tis some visitor entreating entrance at my chamber door—',\n",
       " 'Some late visitor entreating entrance at my chamber door;—',\n",
       " '            This it is and nothing more.”',\n",
       " '',\n",
       " '    Presently my soul grew stronger; hesitating then no longer,',\n",
       " '“Sir,” said I, “or Madam, truly your forgiveness I implore;',\n",
       " '    But the fact is I was napping, and so gently you came rapping,',\n",
       " '    And so faintly you came tapping, tapping at my chamber door,',\n",
       " 'That I scarce was sure I heard you”—here I opened wide the door;—',\n",
       " '            Darkness there and nothing more.',\n",
       " '',\n",
       " '    Deep into that darkness peering, long I stood there wondering, fearing,',\n",
       " 'Doubting, dreaming dreams no mortal ever dared to dream before;',\n",
       " '    But the silence was unbroken, and the stillness gave no token,',\n",
       " '    And the only word there spoken was the whispered word, “Lenore?”',\n",
       " 'This I whispered, and an echo murmured back the word, “Lenore!”—',\n",
       " '            Merely this and nothing more.',\n",
       " '',\n",
       " '    Back into the chamber turning, all my soul within me burning,',\n",
       " 'Soon again I heard a tapping somewhat louder than before.',\n",
       " '    “Surely,” said I, “surely that is something at my window lattice;',\n",
       " '      Let me see, then, what thereat is, and this mystery explore—',\n",
       " 'Let my heart be still a moment and this mystery explore;—',\n",
       " '            ’Tis the wind and nothing more!”',\n",
       " '',\n",
       " '    Open here I flung the shutter, when, with many a flirt and flutter,',\n",
       " 'In there stepped a stately Raven of the saintly days of yore;',\n",
       " '    Not the least obeisance made he; not a minute stopped or stayed he;',\n",
       " '    But, with mien of lord or lady, perched above my chamber door—',\n",
       " 'Perched upon a bust of Pallas just above my chamber door—',\n",
       " '            Perched, and sat, and nothing more.',\n",
       " '',\n",
       " 'Then this ebony bird beguiling my sad fancy into smiling,',\n",
       " 'By the grave and stern decorum of the countenance it wore,',\n",
       " '“Though thy crest be shorn and shaven, thou,” I said, “art sure no craven,',\n",
       " 'Ghastly grim and ancient Raven wandering from the Nightly shore—',\n",
       " 'Tell me what thy lordly name is on the Night’s Plutonian shore!”',\n",
       " '            Quoth the Raven “Nevermore.”',\n",
       " '',\n",
       " '    Much I marvelled this ungainly fowl to hear discourse so plainly,',\n",
       " 'Though its answer little meaning—little relevancy bore;',\n",
       " '    For we cannot help agreeing that no living human being',\n",
       " '    Ever yet was blessed with seeing bird above his chamber door—',\n",
       " 'Bird or beast upon the sculptured bust above his chamber door,',\n",
       " '            With such name as “Nevermore.”',\n",
       " '',\n",
       " '    But the Raven, sitting lonely on the placid bust, spoke only',\n",
       " 'That one word, as if his soul in that one word he did outpour.',\n",
       " '    Nothing farther then he uttered—not a feather then he fluttered—',\n",
       " '    Till I scarcely more than muttered “Other friends have flown before—',\n",
       " 'On the morrow he will leave me, as my Hopes have flown before.”',\n",
       " '            Then the bird said “Nevermore.”',\n",
       " '',\n",
       " '    Startled at the stillness broken by reply so aptly spoken,',\n",
       " '“Doubtless,” said I, “what it utters is its only stock and store',\n",
       " '    Caught from some unhappy master whom unmerciful Disaster',\n",
       " '    Followed fast and followed faster till his songs one burden bore—',\n",
       " 'Till the dirges of his Hope that melancholy burden bore',\n",
       " '            Of ‘Never—nevermore’.”',\n",
       " '',\n",
       " '    But the Raven still beguiling all my fancy into smiling,',\n",
       " 'Straight I wheeled a cushioned seat in front of bird, and bust and door;',\n",
       " '    Then, upon the velvet sinking, I betook myself to linking',\n",
       " '    Fancy unto fancy, thinking what this ominous bird of yore—',\n",
       " 'What this grim, ungainly, ghastly, gaunt, and ominous bird of yore',\n",
       " '            Meant in croaking “Nevermore.”',\n",
       " '',\n",
       " '    This I sat engaged in guessing, but no syllable expressing',\n",
       " 'To the fowl whose fiery eyes now burned into my bosom’s core;',\n",
       " '    This and more I sat divining, with my head at ease reclining',\n",
       " '    On the cushion’s velvet lining that the lamp-light gloated o’er,',\n",
       " 'But whose velvet-violet lining with the lamp-light gloating o’er,',\n",
       " '            She shall press, ah, nevermore!',\n",
       " '',\n",
       " '    Then, methought, the air grew denser, perfumed from an unseen censer',\n",
       " 'Swung by Seraphim whose foot-falls tinkled on the tufted floor.',\n",
       " '    “Wretch,” I cried, “thy God hath lent thee—by these angels he hath sent thee',\n",
       " '    Respite—respite and nepenthe from thy memories of Lenore;',\n",
       " 'Quaff, oh quaff this kind nepenthe and forget this lost Lenore!”',\n",
       " '            Quoth the Raven “Nevermore.”',\n",
       " '',\n",
       " '    “Prophet!” said I, “thing of evil!—prophet still, if bird or devil!—',\n",
       " 'Whether Tempter sent, or whether tempest tossed thee here ashore,',\n",
       " '    Desolate yet all undaunted, on this desert land enchanted—',\n",
       " '    On this home by Horror haunted—tell me truly, I implore—',\n",
       " 'Is there—is there balm in Gilead?—tell me—tell me, I implore!”',\n",
       " '            Quoth the Raven “Nevermore.”',\n",
       " '',\n",
       " '    “Prophet!” said I, “thing of evil!—prophet still, if bird or devil!',\n",
       " 'By that Heaven that bends above us—by that God we both adore—',\n",
       " '    Tell this soul with sorrow laden if, within the distant Aidenn,',\n",
       " '    It shall clasp a sainted maiden whom the angels name Lenore—',\n",
       " 'Clasp a rare and radiant maiden whom the angels name Lenore.”',\n",
       " '            Quoth the Raven “Nevermore.”',\n",
       " '',\n",
       " '    “Be that word our sign of parting, bird or fiend!” I shrieked, upstarting—',\n",
       " '“Get thee back into the tempest and the Night’s Plutonian shore!',\n",
       " '    Leave no black plume as a token of that lie thy soul hath spoken!',\n",
       " '    Leave my loneliness unbroken!—quit the bust above my door!',\n",
       " 'Take thy beak from out my heart, and take thy form from off my door!”',\n",
       " '            Quoth the Raven “Nevermore.”',\n",
       " '',\n",
       " '    And the Raven, never flitting, still is sitting, still is sitting',\n",
       " 'On the pallid bust of Pallas just above my chamber door;',\n",
       " '    And his eyes have all the seeming of a demon’s that is dreaming,',\n",
       " '    And the lamp-light o’er him streaming throws his shadow on the floor;',\n",
       " 'And my soul from out that shadow that lies floating on the floor',\n",
       " '            Shall be lifted—nevermore!']"
      ]
     },
     "execution_count": 4,
     "metadata": {},
     "output_type": "execute_result"
    }
   ],
   "source": [
    "rsplit"
   ]
  },
  {
   "cell_type": "code",
   "execution_count": 5,
   "metadata": {},
   "outputs": [
    {
     "data": {
      "text/plain": [
       "108"
      ]
     },
     "execution_count": 5,
     "metadata": {},
     "output_type": "execute_result"
    }
   ],
   "source": [
    "18 * 6"
   ]
  },
  {
   "cell_type": "code",
   "execution_count": 6,
   "metadata": {},
   "outputs": [
    {
     "data": {
      "text/plain": [
       "125"
      ]
     },
     "execution_count": 6,
     "metadata": {},
     "output_type": "execute_result"
    }
   ],
   "source": [
    "len(rsplit)"
   ]
  },
  {
   "cell_type": "code",
   "execution_count": 7,
   "metadata": {},
   "outputs": [
    {
     "data": {
      "text/plain": [
       "126"
      ]
     },
     "execution_count": 7,
     "metadata": {},
     "output_type": "execute_result"
    }
   ],
   "source": [
    "18 * 7"
   ]
  },
  {
   "cell_type": "code",
   "execution_count": 10,
   "metadata": {},
   "outputs": [
    {
     "name": "stdout",
     "output_type": "stream",
     "text": [
      "125\n"
     ]
    }
   ],
   "source": [
    "stanzas = 18\n",
    "\n",
    "print((stanzas * 6) + (stanzas - 1))"
   ]
  },
  {
   "cell_type": "code",
   "execution_count": null,
   "metadata": {
    "collapsed": true
   },
   "outputs": [],
   "source": []
  }
 ],
 "metadata": {
  "kernelspec": {
   "display_name": "Python 3",
   "language": "python",
   "name": "python3"
  },
  "language_info": {
   "codemirror_mode": {
    "name": "ipython",
    "version": 3
   },
   "file_extension": ".py",
   "mimetype": "text/x-python",
   "name": "python",
   "nbconvert_exporter": "python",
   "pygments_lexer": "ipython3",
   "version": "3.6.2"
  }
 },
 "nbformat": 4,
 "nbformat_minor": 2
}
