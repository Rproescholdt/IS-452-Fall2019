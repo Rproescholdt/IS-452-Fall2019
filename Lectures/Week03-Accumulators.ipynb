{
 "cells": [
  {
   "cell_type": "markdown",
   "metadata": {},
   "source": [
    "# Essential pattern:  minimal accumulator\n",
    "\n",
    "We're going to explore this solution with another pattern:  the accumulator.  We have to solve the same problem, where we need to get the position number along the way.  We still use our loop, but we also have some things outside of it where we will be adding things up.\n",
    "\n",
    "The basic pattern is:\n",
    "\n",
    "```python \n",
    "thingtoadd = 0 # your counter variable\n",
    "\n",
    "for something in sequence: # loop over something!\n",
    "    do stuff\n",
    "    thingtoadd = 1 + thingtoadd # update the counter\n",
    "```\n",
    "\n",
    "So in this case, if we count however many letters we have seen, we can derive the correct position value from that.  Accumulators can be powerful patterns and are often the drivers of much of our work.  But they do require a bit of thought and planning.\n",
    "\n",
    "Where do you put o"
   ]
  },
  {
   "cell_type": "code",
   "execution_count": null,
   "metadata": {
    "collapsed": true
   },
   "outputs": [],
   "source": []
  },
  {
   "cell_type": "code",
   "execution_count": null,
   "metadata": {
    "collapsed": true
   },
   "outputs": [],
   "source": []
  }
 ],
 "metadata": {
  "kernelspec": {
   "display_name": "Python 3",
   "language": "python",
   "name": "python3"
  },
  "language_info": {
   "codemirror_mode": {
    "name": "ipython",
    "version": 3
   },
   "file_extension": ".py",
   "mimetype": "text/x-python",
   "name": "python",
   "nbconvert_exporter": "python",
   "pygments_lexer": "ipython3",
   "version": "3.6.2"
  }
 },
 "nbformat": 4,
 "nbformat_minor": 2
}
