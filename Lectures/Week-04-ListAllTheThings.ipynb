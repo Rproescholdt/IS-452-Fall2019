{
 "cells": [
  {
   "cell_type": "markdown",
   "metadata": {},
   "source": [
    "# Week 4: lists and subloops\n",
    "\n",
    "Sequences have order, meaning that individual items have specific positions.  You can use those positions:\n",
    "\n",
    "* as their explicit meaning (so the numbers are directily meaningful)\n",
    "* as a transformed meaning (so you can add 1 or do something else to the position number to make it meaningful)\n",
    "* with a referenced meaning (such that you can use the position number to look up the meaning).\n",
    "\n",
    "These items can also be individually manipulated.  Once referenced, they can be stored in memory, placed in another structure, and used as a source for further data.  "
   ]
  },
  {
   "cell_type": "markdown",
   "metadata": {},
   "source": []
  },
  {
   "cell_type": "code",
   "execution_count": 10,
   "metadata": {
    "collapsed": true
   },
   "outputs": [],
   "source": [
    "# we'll be discussing reading in files later!\n",
    "\n",
    "f = open('report.txt', 'r')\n",
    "\n",
    "full_text = f.read()\n",
    "\n",
    "f.close()"
   ]
  },
  {
   "cell_type": "markdown",
   "metadata": {
    "collapsed": true
   },
   "source": [
    "Here's a small snippet we can see in one screen:"
   ]
  },
  {
   "cell_type": "code",
   "execution_count": 11,
   "metadata": {},
   "outputs": [],
   "source": [
    "sample = \"\"\"Kozuch, Laura; Walker, Karen; Marquardt, William (2017): Modern sinistral whelk spire angles, genus Busycon. University of Illinois at Urbana-Champaign. https://doi.org/10.13012/B2IDB-2031816_V1\n",
    "Downloads: 9 (2017-08-30 to 2017-09-13 )\n",
    "-----\n",
    "\n",
    "Park, Jungsik; Le, Brian; Sklenar, Joseph; Chern, Gia-wei; Watts, Justin; Schiffer, Peter (2017): Magnetic response of brickwork artificial spin ice. University of Illinois at Urbana-Champaign. https://doi.org/10.13012/B2IDB-1528275_V1\n",
    "Funder: U.S. Department of Energy (DOE), Grant: DE-SC0010778\n",
    "Downloads: 10 (2017-09-08 to 2017-09-13 )\n",
    "-----\n",
    "\n",
    "Kozuch, Laura; Walker, Karen; Marquardt, William (2017): Modern sinistral whelk spire angles, genus Busycon . University of Illinois at Urbana-Champaign. https://doi.org/10.13012/B2IDB-2031816_V2\n",
    "Downloads: 6 (2017-09-06 to 2017-09-13 )\n",
    "-----\n",
    "\n",
    "Christensen, Sarah; Molloy, Erin K.; Vachaspati, Pranjal; Warnow, Tandy (2017): Datasets from the study: Optimal completion of incomplete gene trees in polynomial time using OCTAL. University of Illinois at Urbana-Champaign. https://doi.org/10.13012/B2IDB-8402610_V1\n",
    "Funder: U.S. National Science Foundation (NSF), Grant: CCF-1535977\n",
    "Funder: U.S. National Science Foundation (NSF), Grant: DGE-1144245\n",
    "Downloads: 47 (2017-06-15 to 2017-09-13 )\n",
    "-----\"\"\""
   ]
  },
  {
   "cell_type": "markdown",
   "metadata": {},
   "source": [
    "# What's our structure here?\n",
    "\n",
    "We've got data on datasets here, but this isn't a tabular data file.  We can't open it up in excel or directly do computations on it, yet.  We need to transform it into something with a standard sturucture for analysis.\n",
    "\n",
    "A few things to note:\n",
    "\n",
    "* the number of lines per entry is variable, so we can't exploit a steady mathematical structure like we did with the Raven last week.\n",
    "* even if variable, we can see that the lines inside each entry are meaningful \n",
    "* each line has a field label followed by a : and then content\n",
    "* some of these fields have multiple entries (so multiple lines with the same field entry)\n",
    "* some of the line content has multiple values\n",
    "* the string \"-----\" appears (to appear!) between each entry\n",
    "\n",
    "# What's our data granularity?\n",
    "\n",
    "Last week we explored a poem and found that our unit of analysis of interest are the individual lines.  That made it easy because python knows about lines and has functions designed to easily interact with them.  In this case, our individual data entities records about the dataset.  This sort of thing, especially with the variability in size, is not something that python is able to directly interact with.  Our recourse for this issue is to use the tools inside of python to encode these chunks as individual data entries.  Once we have the individual records out we can operate on them independently and exract the information out.\n",
    "\n",
    "This pattern of breaking the data apart so that we can apply broader (easier) methods of splitting individual data points out will be a common one.\n",
    "\n",
    "Let's take a moment to consider the Raven again.  Say that we want to know about the words in each stanza.  We could use regular `.split()` on the entire poem and get all the words.  We'd have the granularity that we want (the words) but the membership information would then be gone.\n",
    "\n",
    "Recall our basic for loop over lines through the poem:  it allows us to isolate each line at a time such that we can manupulate or take measurements from that line and infer that those measurements we get belong to that line because it is the one we are looping over at the moment.\n",
    "\n",
    "Our example of why using the `range(0, len(raven_lines), 7)` function to make the position numbers and look up the line versus just doing a list slice (`::7`) gave us the same content back (the first line of each stanza), but using the list slicing method lost the line number information in the process.  That origin information could not be derived back from the individual line itself, and thus we depend on our iterable variable within the `range` loop to represent that component metadata about the line.\n",
    "\n",
    "Unlike our pattern where we used `range` to generate the line numbers, the content (the numbers) that we generated with `range` wasn't directly related to our original content.  We used a known pattern to (correctly!) generate postiton numbers.  So there was a certain trust that we had to put into place to make the things work.\n",
    "\n",
    "This time around we are splitting our data into chunks so that we can individually act on the data inside of it.  This means that instead of getting out all the lines that have the funder information and doing something fancy to figure out which chunk it was from, we can take out all the chunks and then get the funder lines from there.  Becuase we are isolating the data records from eachother, we can use a pretty unfancy method of getting out the lines that we want.  \n",
    "\n",
    "For example, the last line of each record is the download count for that dataset.  That location rule would be impossible to use if we weren't isolating each chunk.\n",
    "\n",
    "So to answer our question:  we have several granularities.\n",
    "\n",
    "1. Each data record\n",
    "2. Each line\n",
    "3. Each data point in each line\n",
    "\n",
    "# What's the magic word that we see in that list?\n",
    "\n",
    "`each`\n",
    "\n",
    "We aren't going to tackle a triple nested loop to start with, but we need to start somewhere.  Let's give ourselves a little to do list:\n",
    "\n",
    "1. Get all the data records\n",
    "2. For each record, get the lines\n",
    "3. For each line of interest, get the data of interest\n",
    "\n",
    "Don't worry, we're going to do this one at a time."
   ]
  },
  {
   "cell_type": "markdown",
   "metadata": {},
   "source": [
    "# Task 1:  Get the records\n",
    "\n",
    "Not shockingly, we're going to start with `.split()`.  Remember that we need two things for this:\n",
    "\n",
    "1.  A string to split apart\n",
    "    * Got this covered:  `original`\n",
    "2.  Something in that string to split it apart on\n",
    "    * We have a good theory here: `-----` but we need to confirm\n",
    "    \n",
    "We can visually inspect our file and see that this appears to be between each record.  Not only that, we can look all the way to the end and see that it isn't just between the file but it appears at the end of each record.  So there isn't one before and there is one at the end, meaning that we can expect to see the appearance of 56 instances (so one for every expected record).\n",
    "\n",
    "We can do a quick string method to count how many times it appears in the file.  We'll try it first on our small sample to see it working, and then we'll deploy it onto the whole document that we have stored in memory.\n",
    "\n",
    "We can visually inspect our sample to see that there are 4 entries, so we can expect (hope?) to see a result of 4 when we run our candidate delimiter through the string function that counts how many appearances it makes."
   ]
  },
  {
   "cell_type": "code",
   "execution_count": 16,
   "metadata": {},
   "outputs": [
    {
     "name": "stdout",
     "output_type": "stream",
     "text": [
      "4\n"
     ]
    }
   ],
   "source": [
    "print(sample.count(\"-----\"))"
   ]
  },
  {
   "cell_type": "markdown",
   "metadata": {},
   "source": [
    "Great, we can see that we found the expected number of instances in our sample.  Let's try it on our full version.  Remember that we are hoping to see 56."
   ]
  },
  {
   "cell_type": "code",
   "execution_count": 17,
   "metadata": {},
   "outputs": [
    {
     "name": "stdout",
     "output_type": "stream",
     "text": [
      "56\n"
     ]
    }
   ],
   "source": [
    "print(full_text.count('-----'))"
   ]
  },
  {
   "cell_type": "markdown",
   "metadata": {},
   "source": [
    "Yay!  Now we can "
   ]
  },
  {
   "cell_type": "code",
   "execution_count": null,
   "metadata": {
    "collapsed": true
   },
   "outputs": [],
   "source": []
  },
  {
   "cell_type": "code",
   "execution_count": null,
   "metadata": {
    "collapsed": true
   },
   "outputs": [],
   "source": []
  },
  {
   "cell_type": "code",
   "execution_count": 13,
   "metadata": {},
   "outputs": [
    {
     "data": {
      "text/plain": [
       "['Kozuch, Laura; Walker, Karen; Marquardt, William (2017): Modern sinistral whelk spire angles, genus Busycon. University of Illinois at Urbana-Champaign. https://doi.org/10.13012/B2IDB-2031816_V1\\nDownloads: 9 (2017-08-30 to 2017-09-13 )',\n",
       " 'Park, Jungsik; Le, Brian; Sklenar, Joseph; Chern, Gia-wei; Watts, Justin; Schiffer, Peter (2017): Magnetic response of brickwork artificial spin ice. University of Illinois at Urbana-Champaign. https://doi.org/10.13012/B2IDB-1528275_V1\\nFunder: U.S. Department of Energy (DOE), Grant: DE-SC0010778\\nDownloads: 10 (2017-09-08 to 2017-09-13 )',\n",
       " 'Kozuch, Laura; Walker, Karen; Marquardt, William (2017): Modern sinistral whelk spire angles, genus Busycon . University of Illinois at Urbana-Champaign. https://doi.org/10.13012/B2IDB-2031816_V2\\nDownloads: 6 (2017-09-06 to 2017-09-13 )',\n",
       " 'Christensen, Sarah; Molloy, Erin K.; Vachaspati, Pranjal; Warnow, Tandy (2017): Datasets from the study: Optimal completion of incomplete gene trees in polynomial time using OCTAL. University of Illinois at Urbana-Champaign. https://doi.org/10.13012/B2IDB-8402610_V1\\nFunder: U.S. National Science Foundation (NSF), Grant: CCF-1535977\\nFunder: U.S. National Science Foundation (NSF), Grant: DGE-1144245\\nDownloads: 47 (2017-06-15 to 2017-09-13 )\\n-----']"
      ]
     },
     "execution_count": 13,
     "metadata": {},
     "output_type": "execute_result"
    }
   ],
   "source": [
    "datasets"
   ]
  },
  {
   "cell_type": "code",
   "execution_count": null,
   "metadata": {
    "collapsed": true
   },
   "outputs": [],
   "source": []
  }
 ],
 "metadata": {
  "kernelspec": {
   "display_name": "Python 3",
   "language": "python",
   "name": "python3"
  },
  "language_info": {
   "codemirror_mode": {
    "name": "ipython",
    "version": 3
   },
   "file_extension": ".py",
   "mimetype": "text/x-python",
   "name": "python",
   "nbconvert_exporter": "python",
   "pygments_lexer": "ipython3",
   "version": "3.6.2"
  }
 },
 "nbformat": 4,
 "nbformat_minor": 2
}
