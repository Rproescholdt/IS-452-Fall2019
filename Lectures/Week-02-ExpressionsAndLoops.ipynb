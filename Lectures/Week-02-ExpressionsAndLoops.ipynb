{
 "cells": [
  {
   "cell_type": "markdown",
   "metadata": {
    "collapsed": true
   },
   "source": [
    "# Submitting homework"
   ]
  },
  {
   "cell_type": "markdown",
   "metadata": {},
   "source": [
    "A submission should include:\n",
    "* a narrative file (pdf or word, pdf is easier on us)\n",
    "* .py files for each of your homework problems requiring code for a solution\n",
    "* some homework problems are inherently narrative (like the discussion items), so the answer in your narrative file is fine.\n",
    "\n",
    "The narrative file should include:\n",
    "\n",
    "* Some description of your thoughts through each problem\n",
    "* Any supporting screenshots, etc. if you want.\n",
    "* Answers to your homework problems (when applicable), you don't need to write another narrative about this problem unless you want to.\n",
    "* A short reflection on the week.  Garrick and I will be reviewing these.\n",
    "* We aren't grading on style, we just want to know your thoughts on things. So feel free to come up with your own format that makes sense. We aren't grading these like papers, so really, don't worry about it so much.\n",
    "* We'll give you feedback about your narrative for this first assignment to let you know if you're on the wrong track with it. Chances are whatever you come up with is fine!\n",
    "* Seriously, don't stress about the narrative. Just write some stuff.\n",
    "\n",
    "The .py files should include:\n",
    "* code, obviously\n",
    "* which problem number it is for, in the file name and in a short code comment, preferably\n",
    "* any code comments you'd like to throw in, to point things out to the graders or add clarification about what you're doing\n",
    "* some comments showing an example input (this will make more sense in later assignments) and an example of how the output should look (you can provide just the first line of output, you don't need to do all of it).\n",
    "* remember that you can find these files within the project folder you created when you set up pycharm"
   ]
  },
  {
   "cell_type": "markdown",
   "metadata": {},
   "source": [
    "# A quick note on the main() business\n",
    "\n",
    "We haven't talked about functions yet, so this is a pretty annoying \"roll with it\" stage. I personally wouldn't have incorporated this style so quickly in the book, but in an effort to be coherent, we'll use it.\n",
    "\n",
    "Some tips:\n",
    "* Keep your indents in order.\n",
    "* Everything tabbed in under the def line will 'belong' to that function.\n",
    "* None of the code within the def main(): block will run if you don't 'call' the function.\n",
    "* Perfect looking script executing without an output? This is likely the culprit.\n",
    "* You need to have a main() as your last line of code without any indents.\n",
    "\n",
    "For example:"
   ]
  },
  {
   "cell_type": "code",
   "execution_count": 1,
   "metadata": {},
   "outputs": [
    {
     "name": "stdout",
     "output_type": "stream",
     "text": [
      "fizzy pop sandwich\n"
     ]
    }
   ],
   "source": [
    "def main():\n",
    "    print(\"fizzy pop sandwich\")\n",
    "    # more code goes here\n",
    "\n",
    "main() # last line, no indents"
   ]
  },
  {
   "cell_type": "markdown",
   "metadata": {},
   "source": [
    "# Problem 1\n",
    "\n",
    "You are given a sentence and want to print out each character with the position numbers along with each character.\n",
    "\n",
    "There are two steps here:\n",
    "\n",
    "1. loop through each character of the sentence and print it out\n",
    "2. calculate the position number for each character and also print that out\n",
    "\n",
    "Let's work with the first line of the Raven to start with.\n",
    "\n",
    "`Once upon a midnight dreary, while I pondered, weak and weary`\n",
    "\n",
    "We want to save this value to mess with, so let's put it in a variable.  "
   ]
  },
  {
   "cell_type": "code",
   "execution_count": 2,
   "metadata": {
    "collapsed": true
   },
   "outputs": [],
   "source": [
    "line = \"Once upon a midnight dreary, while I pondered, weak and weary\""
   ]
  },
  {
   "cell_type": "markdown",
   "metadata": {},
   "source": [
    "This line of code is what we can call an expression.  These usually include:\n",
    "\n",
    "* literals (that string)\n",
    "* varables (the variable name)\n",
    "* operators (the `=` in there)\n",
    "\n",
    "And some things that we will be meeting later:\n",
    "\n",
    "* functions\n",
    "* other keywords"
   ]
  },
  {
   "cell_type": "markdown",
   "metadata": {},
   "source": [
    "Now that we have the text stored in a variable, we can mess with it more now.\n",
    "\n",
    "Let's play with our for loops here.  The best way to learn about for loops is to play with them.  We're going to use a single word for space purposes."
   ]
  },
  {
   "cell_type": "code",
   "execution_count": 6,
   "metadata": {},
   "outputs": [
    {
     "name": "stdout",
     "output_type": "stream",
     "text": [
      "O\n",
      "n\n",
      "c\n",
      "e\n"
     ]
    }
   ],
   "source": [
    "for letter in \"Once\":\n",
    "    print(letter)"
   ]
  },
  {
   "cell_type": "markdown",
   "metadata": {},
   "source": [
    "This prints one letter at a time.\n",
    "\n",
    "Let's do a vocabulary lesson for the anatomy of a for loop:\n",
    "\n",
    "* declared and opened with a `for` keyword\n",
    "* a sequence that is being iterated over (the `\"Once\"` string)\n",
    "* an iterable variable (`letter`) to hold the variable contents of the sequence during each loop\n",
    "* white space (the tab) that defines where the executable code lives\n",
    "* the code to be executed each loop (`print(letter)`)\n",
    "\n",
    "Some important notes:  \n",
    "\n",
    "* the iterable variable name can be literally any valid variable name and does not need to be declared previously\n",
    "* the colon at the end of the `for` line block is required and indicates that the declaration line is done\n",
    "* the `in` keyword separates the iterable variable name from the sequence\n",
    "* this case has the sequence literal in the declaration line, but could also be a variable\n",
    "\n",
    "A loop is only as useful as what you do with the contents.  What you choose to do is where creativity and cleverness comes into play.  There are often many ways to solve a problem, your responsibility is to test the accuracy and completeness of your solution."
   ]
  },
  {
   "cell_type": "code",
   "execution_count": null,
   "metadata": {
    "collapsed": true
   },
   "outputs": [],
   "source": []
  }
 ],
 "metadata": {
  "kernelspec": {
   "display_name": "Python 3",
   "language": "python",
   "name": "python3"
  },
  "language_info": {
   "codemirror_mode": {
    "name": "ipython",
    "version": 3
   },
   "file_extension": ".py",
   "mimetype": "text/x-python",
   "name": "python",
   "nbconvert_exporter": "python",
   "pygments_lexer": "ipython3",
   "version": "3.6.2"
  }
 },
 "nbformat": 4,
 "nbformat_minor": 2
}
