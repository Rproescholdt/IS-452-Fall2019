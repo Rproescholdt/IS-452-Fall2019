{
 "cells": [
  {
   "cell_type": "markdown",
   "metadata": {},
   "source": [
    "# XPath B\n",
    "\n",
    "Now that you have gotten a bit more comfortable with XPath queries, we're going to now explore how we can use a tool inside of Python to execute those queries.  There are many XPath tools out there, and there will always be differences in how individual parsers will work.  You will have to test things out and adapt accordingly.\n",
    "\n",
    "For the purposes of our lesson here, we're going to use the XPath function within the lxml module.  This module works well and consistantly over the years, but you may find that other pacages will work similarly.\n",
    "\n",
    "I'm going to set this all up for you, so you can use this pattern without thinking too much about it.  But I will try and explain some of it as we go.  "
   ]
  },
  {
   "cell_type": "markdown",
   "metadata": {},
   "source": [
    "# The basic pattern\n",
    "\n",
    "Tha basic pattern that we will be exploring here is this:\n",
    "\n",
    "1. Read in the document\n",
    "2. Parse that IO object into a tree object.\n",
    "3. Apply you desired XPath things to that tree object.\n",
    "\n",
    "There will be one and only one way you'll need to do 1 and 2 for this class, but there are multiple ways of handling things.  For example, you may need to be looping over multiple files rather than just 1, or you may need to clean up mangled XML data elsewhere before parsing it.  However, the 3 steps above will always hold true.\n",
    "\n",
    "Our pattern for class will involve:\n",
    "\n",
    "1. Read the XML file with `.read()` to read in the text as a big string.\n",
    "2. Pass that string the lxml tool to parse into a tree object. (don't forget that you'll have to import this module)\n",
    "3. Use the `.xpath()` function on that tree object.\n",
    "\n",
    "## Step 0: import the lxml module\n",
    "\n",
    "``` python\n",
    "from lxml import etree\n",
    "```\n",
    "\n",
    "## Step 1: read in the file\n",
    "\n",
    "The `rb` read in mode is required because of the encoing issues.\n",
    "\n",
    "``` python\n",
    "infile =  open('YOURFILENAME.xml', 'rb')\n",
    "xml = infile.read()\n",
    "infile.close()\n",
    "```\n",
    "\n",
    "# Step 2: parse into a tree object\n",
    "\n",
    "I could call this variable name anything that I want, but we usually use `tree` as a convention.  This is using the `fromstring()` function within lxml, which will parse string text.\n",
    "\n",
    "``` python \n",
    "tree = etree.fromstring(xml)\n",
    "```\n",
    "\n",
    "# Step 3: use the `.xpath()` on the tree object to execute an xpath query\n",
    "\n",
    "Example when there in no namespace happening:\n",
    "\n",
    "``` python\n",
    "results = tree.xpath('//elementwhatever/text()')\n",
    "```\n",
    "\n",
    "Example when there is a namespace to handle:\n",
    "\n",
    "``` python\n",
    "results = tree.xpath('//alias:elementwhatever/text()', namespaces={'alias': \"URL found in the document goes here\"})\n",
    "```\n",
    "\n",
    "Don't worry, this entire lession is about unpacking more about step 3.\n",
    "\n",
    "# Our data source\n",
    "\n",
    "We'll be using an XML document of \"Hamlet\" by Shakespeare.  This is located in the hamlet-tei.xml file.  This is a proper XML file that uses the TEI schema.  https://en.wikipedia.org/wiki/Text_Encoding_Initiative  You will want to read this now so you can understand the basics of what's going on in this file.\n",
    "\n",
    "The data file has its own attribution, but I grabbed it as a material from this workshop: http://tei.it.ox.ac.uk/Talks/2015-08-maynooth\n",
    "\n",
    "Take some time exploring this file.  There are several chunks (and this is an overly brief and true-to-this-file explaination, and not meant to be a primer on TEI):  \n",
    "\n",
    "* In `teiHeader`:\n",
    "    * `fileDesc` node contains information about the provenance of the file and content.\n",
    "    * `profileDesc/particDesc` node contains information on the characters in the play\n",
    "    * `profileDesc/settingDesc` node contains setting information for the play\n",
    "* In `text`:\n",
    "    * this contains nodes for each act, scene, and passage.\n",
    "    * each passage is in `sp` elements, with `@who` representing the standardized ID for each speaker.  The `speaker` reports out what the original text had for the speaker information, and the `l` elements have the individual lines.\n",
    "    \n",
    "There are other details that you will need to explore on you own.\n",
    "\n",
    "For now, we're going to go ahead and read in our file.  You'll only need to do this once at the top of your script."
   ]
  },
  {
   "cell_type": "code",
   "execution_count": 2,
   "metadata": {
    "collapsed": true
   },
   "outputs": [],
   "source": [
    "from lxml import etree\n",
    "\n",
    "infile =  open('hamlet-tei.xml', 'rb')\n",
    "xml = infile.read()\n",
    "infile.close()\n",
    "\n",
    "tree = etree.fromstring(xml)"
   ]
  },
  {
   "cell_type": "markdown",
   "metadata": {
    "collapsed": true
   },
   "source": [
    "# namespaces\n",
    "\n",
    "Most proper XML files have namespaces that you'll need to navigate.  As this is not a metadata or TEI course, I will not provide an extendede discussion on what this is.\n",
    "\n",
    "We can see in line 4 of the document, which has the root element:  `<TEI xmlns=\"http://www.tei-c.org/ns/1.0\">`\n",
    "\n",
    "Thas is saying that the elements found in this root node belong to the TEI schema, with a URL to the schema definition.  This information is for the parsers.  \n",
    "\n",
    "You'll see this URL pop up again when we dig in.  The patterns from step 3 show you where to put this, but keep on reading.\n",
    "\n",
    "We'll be talking about that namespace a ton, so the canonical pattern is to save that namespace dictionary as a variable that we can reference elsewhere.  We can same this now so we can reference it elsewhere.\n"
   ]
  },
  {
   "cell_type": "code",
   "execution_count": 3,
   "metadata": {
    "collapsed": true
   },
   "outputs": [],
   "source": [
    "ns = {'tei': 'http://www.tei-c.org/ns/1.0'}"
   ]
  },
  {
   "cell_type": "markdown",
   "metadata": {},
   "source": [
    "# Evaluating an extraction query to get a single result\n",
    "\n",
    "Remember that all your previous queries all needed to end with an extraction function at the end.  This was likely either `/text()` to get the text of the element out, or `@attribute` to get some attribute text out.\n",
    "\n",
    "For example, `//a` would select all the `a` element nodes, but not yield the contents.  But `//a/text()` would give you the hyperlink text, and `//a/@href` would give you all the URLs for the hyperlinks.\n",
    "\n",
    "As a start, we're going to run a query that will extract out a single result.\n",
    "\n",
    "We're going to look up the standard name of Hamlet from his character data node.\n",
    "\n",
    "The xpath that we would want to use is `//person[@xml:id = \"F-ham-ham\"]/persName[@type = \"standard\"]/text()`, but we need to adapt this to our namespace.  Look back up to our `ns`.  We're giving our TEI schema an alias of `tei`, which means we need to provide this before each element name that we are referencing.  IMPORTANT! You only need to do this for element names, not for attribute values, content, or Xpath functions.\n",
    "\n",
    "So now our XPath query will be:\n",
    "\n",
    "`//tei:person[@xml:id = \"F-ham-ham\"]/tei:persName[@type = \"standard\"]/text()`\n",
    "\n",
    "Let's put this together.\n",
    "\n"
   ]
  },
  {
   "cell_type": "code",
   "execution_count": 8,
   "metadata": {},
   "outputs": [
    {
     "name": "stdout",
     "output_type": "stream",
     "text": [
      "['Hamlet, son of the former king and nephew to the\\n                            present king']\n"
     ]
    }
   ],
   "source": [
    "print(tree.xpath('//tei:person[@xml:id = \"F-ham-ham\"]/tei:persName[@type = \"standard\"]/text()', namespaces = ns))"
   ]
  },
  {
   "cell_type": "markdown",
   "metadata": {},
   "source": [
    "Things to note: \n",
    "\n",
    "* I am using my alias here only for the elements, and that alias name matches what I have declared in my `ns` object.\n",
    "* I have `namespaces = ns` which will need to be in **each and every xpath query you run for this assignment**.\n",
    "* my xpath query is just a string\n",
    "* I've used double quotes in my xpath query, which means that I need to use single quotes to surround the string.\n",
    "* my results are coming back as a list with one element.  I know and exect there to be just a single result, but the results will always be coming back to you as a list.\n",
    "* that extra text is from a the newline in the XML file itself."
   ]
  },
  {
   "cell_type": "markdown",
   "metadata": {},
   "source": [
    "# Query to extract many results\n",
    "\n",
    "Let's adapt our previous result to find all the standard names for these chacacters.  We don't need to do much, because XPath is already taking care of the hard work for us.  We need to take out the `@xml:id = \"F-ham-ham\"`, which will allow it to select all the person nodes."
   ]
  },
  {
   "cell_type": "code",
   "execution_count": 11,
   "metadata": {},
   "outputs": [
    {
     "name": "stdout",
     "output_type": "stream",
     "text": [
      "['First Player', 'All', 'Ambassador', 'Player Prologue', 'Player Queen', 'Bernardo, sentinel', 'Norwegian Captain', 'First Clown', 'Fortinbras, Prince of ', 'Francisco, a soldier', 'Gentleman, courtier', 'Gentlemen', \"Father's Ghost, Ghost of Hamlet's\\n                            Father\", 'Guildenstern, courtier', 'Hamlet, son of the former king and nephew to the\\n                            present king', 'Horatio, friend to Hamlet', 'Claudius, King of Denmark', 'Laertes, son to Polonius', 'Lucianus', 'Marcellus, Officer', 'Messenger', 'Ophelia, daughter to Polonius', 'Osric, courtier', 'Second Clown', 'Polonius, Lord Chamberlain', 'Player King', 'Priest', 'Gertrude, Queen of Denmark and mother to\\n                            Hamlet', 'Rosencrantz, courtier', 'Reynaldo, servant to Polonius', 'Sailor', 'Servant', 'Voltemand, courtier']\n"
     ]
    }
   ],
   "source": [
    "results = tree.xpath('//tei:person/tei:persName[@type = \"standard\"]/text()', namespaces = ns)\n",
    "print(results)"
   ]
  },
  {
   "cell_type": "markdown",
   "metadata": {},
   "source": [
    "Now we have a list of results to play with!\n",
    "\n",
    "How many characters have standard names?"
   ]
  },
  {
   "cell_type": "code",
   "execution_count": 12,
   "metadata": {},
   "outputs": [
    {
     "name": "stdout",
     "output_type": "stream",
     "text": [
      "33\n"
     ]
    }
   ],
   "source": [
    "print(len(results))"
   ]
  },
  {
   "cell_type": "markdown",
   "metadata": {},
   "source": [
    "Loop through the names and normalize the spaces."
   ]
  },
  {
   "cell_type": "code",
   "execution_count": 15,
   "metadata": {},
   "outputs": [
    {
     "name": "stdout",
     "output_type": "stream",
     "text": [
      "First Player\n",
      "All\n",
      "Ambassador\n",
      "Player Prologue\n",
      "Player Queen\n",
      "Bernardo, sentinel\n",
      "Norwegian Captain\n",
      "First Clown\n",
      "Fortinbras, Prince of\n",
      "Francisco, a soldier\n",
      "Gentleman, courtier\n",
      "Gentlemen\n",
      "Father's Ghost, Ghost of Hamlet's Father\n",
      "Guildenstern, courtier\n",
      "Hamlet, son of the former king and nephew to the present king\n",
      "Horatio, friend to Hamlet\n",
      "Claudius, King of Denmark\n",
      "Laertes, son to Polonius\n",
      "Lucianus\n",
      "Marcellus, Officer\n",
      "Messenger\n",
      "Ophelia, daughter to Polonius\n",
      "Osric, courtier\n",
      "Second Clown\n",
      "Polonius, Lord Chamberlain\n",
      "Player King\n",
      "Priest\n",
      "Gertrude, Queen of Denmark and mother to Hamlet\n",
      "Rosencrantz, courtier\n",
      "Reynaldo, servant to Polonius\n",
      "Sailor\n",
      "Servant\n",
      "Voltemand, courtier\n"
     ]
    }
   ],
   "source": [
    "for name in results:\n",
    "    print(\" \".join(name.split()))"
   ]
  },
  {
   "cell_type": "markdown",
   "metadata": {},
   "source": [
    "# Profiling structures\n",
    "\n",
    "You can't be an expert in all schemas, so sometimes you need to use some tools in python to profile the data that you are working with.\n",
    "\n",
    "We can look inside the Hamlet person node and see that there are 4 reported variations:\n",
    "\n",
    "``` XML\n",
    "<persName type=\"form\">Ha.</persName>\n",
    "<persName type=\"form\">Ham.</persName>\n",
    "<persName type=\"form\">Hamlet.</persName>\n",
    "<persName type=\"form\">Hem.</persName>\n",
    "```\n",
    "\n",
    "But can we confirm that this really is the case?  Alternatively, what if we were the ones writing this data.  Also, we don't systematilally know which of these were commonly used.  \n",
    "\n",
    "Let's write a query that finds all the speaker representations of Hamlet, and then runs the results through the couter.\n",
    "\n",
    "Here's our xpath to find all of Hamlet's passages:\n",
    "\n",
    "`//tei:sp[@who = \"#F-ham-ham\"]`\n",
    "\n",
    "Now find all the speaker elements in there.\n",
    "\n",
    "`//tei:sp[@who = \"#F-ham-ham\"]/tei:speaker`\n",
    "\n",
    "Now get all that text out!\n",
    "\n",
    "`//tei:sp[@who = \"#F-ham-ham\"]/tei:speaker/text()`"
   ]
  },
  {
   "cell_type": "code",
   "execution_count": 21,
   "metadata": {},
   "outputs": [
    {
     "name": "stdout",
     "output_type": "stream",
     "text": [
      "['Ham.', 'Ham.', 'Ham.', 'Ham.', 'Ham.', 'Ham.', 'Ham.', 'Ham.', 'Ham.', 'Ham.', 'Ham.', 'Ham.', 'Ham.', 'Ham.', 'Ham.', 'Ham.', 'Ham.', 'Ham.', 'Ham.', 'Ham.', 'Ham.', 'Ham.', 'Ham.', 'Ham.', 'Ham.', 'Ham.', 'Ham.', 'Ham.', 'Ham.', 'Ham.', 'Ham.', 'Ham.', 'Ham.', 'Ham.', 'Ham.', 'Ham.', 'Ham.', 'Ham.', 'Ham.', 'Ham.', 'Ham.', 'Ham.', 'Ham.', 'Ham.', 'Ham.', 'Ham.', 'Ham.', 'Ham.', 'Ham.', 'Ham.', 'Ham.', 'Ham.', 'Ham.', 'Ham.', 'Ham.', 'Ham.', 'Ham.', 'Ham.', 'Ham.', 'Ham.', 'Ham.', 'Ham.', 'Ham.', 'Ham.', 'Ham.', 'Ham.', 'Ham.', 'Ham.', 'Ham.', 'Ham.', 'Ham.', 'Ham.', 'Ham.', 'Ham.', 'Ham.', 'Ham.', 'Ham.', 'Ham.', 'Ham.', 'Ham.', 'Ham.', 'Ham.', 'Ham.', 'Ham.', 'Ham.', 'Ham.', 'Ham.', 'Ham.', 'Ham.', 'Ham.', 'Ham.', 'Ham.', 'Ham.', 'Ham.', 'Ham.', 'Ham.', 'Ham.', 'Ham.', 'Ham.', 'Ham.', 'Ham.', 'Ham.', 'Ham.', 'Ham.', 'Ham.', 'Ham.', 'Ham.', 'Ham.', 'Ham.', 'Ham.', 'Ham.', 'Ham.', 'Ham.', 'Ham.', 'Ham.', 'Ham.', 'Ham.', 'Ham.', 'Ham.', 'Ham.', 'Ha.', 'Ham.', 'Ham.', 'Ham.', 'Ham.', 'Ham.', 'Ham.', 'Ham.', 'Ham.', 'Ham.', 'Ham.', 'Ham.', 'Ham.', 'Ham.', 'Ham.', 'Ham.', 'Ham.', 'Ham.', 'Ham.', 'Ham.', 'Ham.', 'Ham.', 'Ham.', 'Ham.', 'Ham.', 'Ham.', 'Ham.', 'Ham.', 'Ham.', 'Ham.', 'Ham.', 'Ham.', 'Ham.', 'Ham.', 'Ha.', 'Ham.', 'Ham.', 'Ham.', 'Ham.', 'Ham.', 'Ham.', 'Ham.', 'Ham.', 'Ham.', 'Ham.', 'Ham.', 'Ham.', 'Ham.', 'Ham.', 'Ham.', 'Ham.', 'Ham.', 'Ham.', 'Ham.', 'Ham.', 'Ham.', 'Ham.', 'Ham.', 'Ham.', 'Ham.', 'Ham.', 'Ham.', 'Ham.', 'Ham.', 'Ham.', 'Ham.', 'Ham.', 'Ham.', 'Ham.', 'Ham.', 'Ham.', 'Ham.', 'Ham.', 'Ham.', 'Ham.', 'Ham.', 'Ham.', 'Ham.', 'Ham.', 'Ham.', 'Ham.', 'Ham.', 'Ham.', 'Ham.', 'Ham.', 'Ham.', 'Ham.', 'Ham.', 'Ham.', 'Ham.', 'Ham.', 'Ham.', 'Ham.', 'Ham.', 'Ham.', 'Ham.', 'Ham.', 'Ham.', 'Ham.', 'Ham.', 'Ham.', 'Ham.', 'Ham.', 'Ham.', 'Ham.', 'Ham.', 'Ham.', 'Ham.', 'Ham.', 'Ham.', 'Ham.', 'Ham.', 'Ham.', 'Ham.', 'Ham.', 'Ham.', 'Ham.', 'Ham.', 'Ham.', 'Ham.', 'Ham.', 'Ham.', 'Ham.', 'Ham.', 'Ham.', 'Ham.', 'Ham.', 'Ham.', 'Ham.', 'Ham.', 'Ham.', 'Ham.', 'Hamlet.', 'Ham.', 'Ham.', 'Ham.', 'Ham.', 'Ham.', 'Ham.', 'Ham.', 'Ham.', 'Ham.', 'Ham.', 'Ham.', 'Ham.', 'Ham.', 'Ham.', 'Ham.', 'Ham.', 'Ham.', 'Ham.', 'Ham.', 'Ham.', 'Ham.', 'Ham.', 'Ham.', 'Ham.', 'Ham.', 'Ham.', 'Ham.', 'Ham.', 'Ham.', 'Ham.', 'Ham.', 'Ham.', 'Ham.', 'Ham.', 'Ham.', 'Ham.', 'Ham.', 'Ham.', 'Ham.', 'Ham.', 'Ham.', 'Ham.', 'Hem.', 'Ham.', 'Ham.', 'Ham.', 'Ham.', 'Ham.', 'Ham.', 'Ham.', 'Ham.', 'Ham.', 'Ham.', 'Ham.', 'Ham.', 'Ham.', 'Ham.', 'Ham.', 'Ham.', 'Ham.', 'Ham.', 'Ham.', 'Ham.', 'Ham.', 'Ham.', 'Ham.', 'Ham.', 'Ham.', 'Ham.', 'Ham.', 'Ham.', 'Ham.', 'Ham.', 'Ham.', 'Ham.', 'Ham.', 'Ham.', 'Ham.', 'Ham.', 'Ham.', 'Ham.', 'Ham.', 'Ham.', 'Ham.', 'Ham.', 'Ham.', 'Ham.']\n",
      "340\n"
     ]
    }
   ],
   "source": [
    "results = tree.xpath('//tei:sp[@who = \"#F-ham-ham\"]/tei:speaker/text()', namespaces = ns)\n",
    "print(results)\n",
    "print(len(results))"
   ]
  },
  {
   "cell_type": "markdown",
   "metadata": {},
   "source": [
    "There's 340 of these, which would be super annoying to count by hand."
   ]
  },
  {
   "cell_type": "code",
   "execution_count": 22,
   "metadata": {},
   "outputs": [
    {
     "name": "stdout",
     "output_type": "stream",
     "text": [
      "Counter({'Ham.': 336, 'Ha.': 2, 'Hamlet.': 1, 'Hem.': 1})\n"
     ]
    }
   ],
   "source": [
    "from collections import Counter\n",
    "\n",
    "print(Counter(results))"
   ]
  },
  {
   "cell_type": "markdown",
   "metadata": {},
   "source": [
    "So now we know more about this data!  And in just a few lines of code."
   ]
  },
  {
   "cell_type": "markdown",
   "metadata": {},
   "source": [
    "# Selecting nodes\n",
    "\n",
    "Up to now, we've been focusing on the extraction of data.  However, this tool is much more powerful than that.  As we've discussed with other data structures in the past, sometimes it can be really valuable to isolate the specific data granularity that you want.  Once you have those chunks isolated, you can drill down into them to get out information that you want.  We can do the same thing here.\n",
    "\n",
    "The value of being able to select just a node (instead of extracting information out of it) is that you can save that object node as a variable and apply xpath queries directly onto it.  Yes, we could always include that information in our original xpath if we were wanting a single value.\n",
    "\n",
    "However, when we can isolate a node we can run however many xpath queries we want on that node.  And this is why it is powerful.\n",
    "\n",
    "Some of the examples that we will be going through below could also be done with xpath functions, but those aren's always consistantly supported inside these packages.  Also, this lesson is meant to highlight brining in data into python.\n",
    "\n",
    "So with that said, let's explore this.\n",
    "\n",
    "You can easily select just the nodes for your query by omitting the extraction chunk of your query."
   ]
  },
  {
   "cell_type": "code",
   "execution_count": null,
   "metadata": {
    "collapsed": true
   },
   "outputs": [],
   "source": []
  },
  {
   "cell_type": "code",
   "execution_count": null,
   "metadata": {
    "collapsed": true
   },
   "outputs": [],
   "source": []
  },
  {
   "cell_type": "code",
   "execution_count": null,
   "metadata": {
    "collapsed": true
   },
   "outputs": [],
   "source": []
  },
  {
   "cell_type": "code",
   "execution_count": null,
   "metadata": {
    "collapsed": true
   },
   "outputs": [],
   "source": []
  },
  {
   "cell_type": "code",
   "execution_count": null,
   "metadata": {
    "collapsed": true
   },
   "outputs": [],
   "source": []
  }
 ],
 "metadata": {
  "kernelspec": {
   "display_name": "Python 3",
   "language": "python",
   "name": "python3"
  },
  "language_info": {
   "codemirror_mode": {
    "name": "ipython",
    "version": 3
   },
   "file_extension": ".py",
   "mimetype": "text/x-python",
   "name": "python",
   "nbconvert_exporter": "python",
   "pygments_lexer": "ipython3",
   "version": "3.6.1"
  }
 },
 "nbformat": 4,
 "nbformat_minor": 2
}
