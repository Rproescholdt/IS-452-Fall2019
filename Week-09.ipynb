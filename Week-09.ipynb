{
 "cells": [
  {
   "cell_type": "markdown",
   "metadata": {},
   "source": [
    "# While loops\n",
    "\n",
    "The mindkiller of loops.\n",
    "\n",
    "Read while loops as:\n",
    "\n",
    "    1) While this condition isn't met...\n",
    "    2) Do this stuff...\n",
    "    \n",
    "So these require more setup and design than for loops, which are easy but kind of dumb.  `while` loops are valuable for when you don't know exactly how long something needs to take or where stuff is.  \n",
    "\n",
    "Let's play with a copy of The Raven"
   ]
  },
  {
   "cell_type": "markdown",
   "metadata": {},
   "source": [
    "# Example 1:  Determine the Pre-Raven and Post-Raven eras\n",
    "\n",
    "In the text of the raven, the bird doesn't appear until roughly halfway through the text.  Until then the narrator doesn't know what it is.  Use a `while` loop to determine the line position that the raven first appears.\n",
    "\n",
    "* Question:  How do we know that the raven first appears?  We can say that the raven's first real appearance is when it is first named.  So, let's find the line that has the first named instance of 'raven'.\n",
    "\n",
    "What are the two activities that we want to perform?\n",
    "\n",
    "    1) Read in the file\n",
    "    2) Loop through the lines of text\n",
    "    3) Until we find the first line that has the word 'raven'\n",
    "  "
   ]
  },
  {
   "cell_type": "code",
   "execution_count": 1,
   "metadata": {
    "collapsed": true
   },
   "outputs": [],
   "source": [
    "# 1) open the file\n",
    "\n",
    "text_file = open('raven.txt', 'r')\n",
    "\n",
    "# which one do we want, .read(), .readlines(), or a generic for loop?\n",
    "# well, we need to do a while loop and we're line-centric, so sounds like a job for .readlines()\n",
    "# the text is also small enough to read in entirely without a problem\n",
    "# also .readlines() is my favorite, so there's that :-)\n",
    "\n",
    "poem_lines = text_file.readlines()\n",
    "\n",
    "text_file.close()"
   ]
  },
  {
   "cell_type": "code",
   "execution_count": 2,
   "metadata": {
    "collapsed": false
   },
   "outputs": [
    {
     "data": {
      "text/plain": [
       "['Once upon a midnight dreary, while I pondered, weak and weary, \\n',\n",
       " 'Over many a quaint and curious volume of forgotten lore, \\n',\n",
       " 'While I nodded, nearly napping, suddenly there came a tapping, \\n',\n",
       " 'As of some one gently rapping, rapping at my chamber door. \\n',\n",
       " '\"\\'Tis some visitor,\" I muttered, \"tapping at my chamber door- \\n',\n",
       " '                Only this, and nothing more.\" \\n',\n",
       " '\\n',\n",
       " 'Ah, distinctly I remember it was in the bleak December, \\n',\n",
       " 'And each separate dying ember wrought its ghost upon the floor. \\n',\n",
       " 'Eagerly I wished the morrow;- vainly I had sought to borrow \\n',\n",
       " 'From my books surcease of sorrow- sorrow for the lost Lenore- \\n',\n",
       " 'For the rare and radiant maiden whom the angels name Lenore- \\n',\n",
       " '                Nameless here for evermore. \\n',\n",
       " '\\n',\n",
       " 'And the silken, sad, uncertain rustling of each purple curtain \\n',\n",
       " 'Thrilled me- filled me with fantastic terrors never felt before; \\n',\n",
       " 'So that now, to still the beating of my heart, I stood repeating, \\n',\n",
       " '\"\\'Tis some visitor entreating entrance at my chamber door- \\n',\n",
       " 'Some late visitor entreating entrance at my chamber door;- \\n',\n",
       " '                This it is, and nothing more.\" \\n',\n",
       " '\\n',\n",
       " 'Presently my soul grew stronger; hesitating then no longer, \\n',\n",
       " '\"Sir,\" said I, \"or Madam, truly your forgiveness I implore; \\n',\n",
       " 'But the fact is I was napping, and so gently you came rapping, \\n',\n",
       " 'And so faintly you came tapping, tapping at my chamber door, \\n',\n",
       " 'That I scarce was sure I heard you\"- here I opened wide the door;- \\n',\n",
       " '                Darkness there, and nothing more. \\n',\n",
       " '\\n',\n",
       " 'Deep into that darkness peering, long I stood there wondering, fearing, \\n',\n",
       " 'Doubting, dreaming dreams no mortal ever dared to dream before; \\n',\n",
       " 'But the silence was unbroken, and the stillness gave no token, \\n',\n",
       " 'And the only word there spoken was the whispered word, \"Lenore?\" \\n',\n",
       " 'This I whispered, and an echo murmured back the word, \"Lenore!\"- \\n',\n",
       " '                Merely this, and nothing more. \\n',\n",
       " '\\n',\n",
       " 'Back into the chamber turning, all my soul within me burning, \\n',\n",
       " 'Soon again I heard a tapping somewhat louder than before. \\n',\n",
       " '\"Surely,\" said I, \"surely that is something at my window lattice: \\n',\n",
       " 'Let me see, then, what thereat is, and this mystery explore- \\n',\n",
       " 'Let my heart be still a moment and this mystery explore;- \\n',\n",
       " '                \\'Tis the wind and nothing more!\" \\n',\n",
       " '\\n',\n",
       " 'Open here I flung the shutter, when, with many a flirt and flutter, \\n',\n",
       " 'In there stepped a stately Raven of the saintly days of yore; \\n',\n",
       " 'Not the least obeisance made he; not a minute stopped or stayed he; \\n',\n",
       " 'But, with mien of lord or lady, perched above my chamber door- \\n',\n",
       " 'Perched upon a bust of Pallas just above my chamber door- \\n',\n",
       " '                Perched, and sat, and nothing more. \\n',\n",
       " '\\n',\n",
       " 'Then this ebony bird beguiling my sad fancy into smiling, \\n',\n",
       " 'By the grave and stern decorum of the countenance it wore. \\n',\n",
       " '\"Though thy crest be shorn and shaven, thou,\" I said, \"art sure no craven, \\n',\n",
       " 'Ghastly grim and ancient Raven wandering from the Nightly shore- \\n',\n",
       " 'Tell me what thy lordly name is on the Night\\'s Plutonian shore!\" \\n',\n",
       " '                Quoth the Raven, \"Nevermore.\" \\n',\n",
       " '\\n',\n",
       " 'Much I marvelled this ungainly fowl to hear discourse so plainly, \\n',\n",
       " 'Though its answer little meaning- little relevancy bore; \\n',\n",
       " 'For we cannot help agreeing that no living human being \\n',\n",
       " 'Ever yet was blessed with seeing bird above his chamber door- \\n',\n",
       " 'Bird or beast upon the sculptured bust above his chamber door, \\n',\n",
       " '                With such name as \"Nevermore.\" \\n',\n",
       " '\\n',\n",
       " 'But the Raven, sitting lonely on the placid bust, spoke only \\n',\n",
       " 'That one word, as if his soul in that one word he did outpour. \\n',\n",
       " 'Nothing further then he uttered- not a feather then he fluttered- \\n',\n",
       " 'Till I scarcely more than muttered, \"Other friends have flown before- \\n',\n",
       " 'On the morrow he will leave me, as my hopes have flown before.\" \\n',\n",
       " '                Then the bird said, \"Nevermore.\" \\n',\n",
       " '\\n',\n",
       " 'Startled at the stillness broken by reply so aptly spoken, \\n',\n",
       " '\"Doubtless,\" said I, \"what it utters is its only stock and store, \\n',\n",
       " 'Caught from some unhappy master whom unmerciful Disaster \\n',\n",
       " 'Followed fast and followed faster till his songs one burden bore- \\n',\n",
       " 'Till the dirges of his Hope that melancholy burden bore \\n',\n",
       " '                Of \\'Never- nevermore\\'.\" \\n',\n",
       " '\\n',\n",
       " 'But the Raven still beguiling all my fancy into smiling, \\n',\n",
       " 'Straight I wheeled a cushioned seat in front of bird, and bust and door; \\n',\n",
       " 'Then upon the velvet sinking, I betook myself to linking \\n',\n",
       " 'Fancy unto fancy, thinking what this ominous bird of yore- \\n',\n",
       " 'What this grim, ungainly, ghastly, gaunt and ominous bird of yore \\n',\n",
       " '                Meant in croaking \"Nevermore.\" \\n',\n",
       " '\\n',\n",
       " 'This I sat engaged in guessing, but no syllable expressing \\n',\n",
       " \"To the fowl whose fiery eyes now burned into my bosom's core; \\n\",\n",
       " 'This and more I sat divining, with my head at ease reclining \\n',\n",
       " \"On the cushion's velvet lining that the lamp-light gloated o'er, \\n\",\n",
       " \"But whose velvet violet lining with the lamp-light gloating o'er, \\n\",\n",
       " '                She shall press, ah, nevermore! \\n',\n",
       " '\\n',\n",
       " 'Then methought the air grew denser, perfumed from an unseen censer \\n',\n",
       " 'Swung by Seraphim whose footfalls tinkled on the tufted floor. \\n',\n",
       " '\"Wretch,\" I cried, \"thy God hath lent thee- by these angels he hath sent thee \\n',\n",
       " 'Respite- respite and nepenthe, from thy memories of Lenore! \\n',\n",
       " 'Quaff, oh quaff this kind nepenthe and forget this lost Lenore!\" \\n',\n",
       " '                Quoth the Raven, \"Nevermore.\" \\n',\n",
       " '\\n',\n",
       " '\"Prophet!\" said I, \"thing of evil! - prophet still, if bird or devil! - \\n',\n",
       " 'Whether Tempter sent, or whether tempest tossed thee here ashore, \\n',\n",
       " 'Desolate yet all undaunted, on this desert land enchanted- \\n',\n",
       " 'On this home by Horror haunted- tell me truly, I implore- \\n',\n",
       " 'Is there- is there balm in Gilead?- tell me- tell me, I implore!\" \\n',\n",
       " '                Quoth the Raven, \"Nevermore.\" \\n',\n",
       " '\\n',\n",
       " '\"Prophet!\" said I, \"thing of evil! - prophet still, if bird or devil! \\n',\n",
       " 'By that Heaven that bends above us- by that God we both adore- \\n',\n",
       " 'Tell this soul with sorrow laden if, within the distant Aidenn, \\n',\n",
       " 'It shall clasp a sainted maiden whom the angels name Lenore- \\n',\n",
       " 'Clasp a rare and radiant maiden whom the angels name Lenore.\" \\n',\n",
       " '                Quoth the Raven, \"Nevermore.\" \\n',\n",
       " '\\n',\n",
       " '\"Be that word our sign in parting, bird or fiend,\" I shrieked, upstarting- \\n',\n",
       " '\"Get thee back into the tempest and the Night\\'s Plutonian shore! \\n',\n",
       " 'Leave no black plume as a token of that lie thy soul hath spoken! \\n',\n",
       " 'Leave my loneliness unbroken!- quit the bust above my door! \\n',\n",
       " 'Take thy beak from out my heart, and take thy form from off my door!\" \\n',\n",
       " '                Quoth the Raven, \"Nevermore.\" \\n',\n",
       " '\\n',\n",
       " 'And the Raven, never flitting, still is sitting, still is sitting \\n',\n",
       " 'On the pallid bust of Pallas just above my chamber door; \\n',\n",
       " \"And his eyes have all the seeming of a demon's that is dreaming, \\n\",\n",
       " \"And the lamp-light o'er him streaming throws his shadow on the floor; \\n\",\n",
       " 'And my soul from out that shadow that lies floating on the floor \\n',\n",
       " '                Shall be lifted- nevermore! ']"
      ]
     },
     "execution_count": 2,
     "metadata": {},
     "output_type": "execute_result"
    }
   ],
   "source": [
    "poem_lines"
   ]
  },
  {
   "cell_type": "markdown",
   "metadata": {},
   "source": [
    "So in our readlines we've got strings that end with `\\n`, some strings that are just `'\\n'` to represent an empty new line.  And a lot of escape characters.  \n",
    "\n",
    "Let's get on with the show!  Where the hell is this bird."
   ]
  },
  {
   "cell_type": "code",
   "execution_count": 3,
   "metadata": {
    "collapsed": false
   },
   "outputs": [
    {
     "name": "stdout",
     "output_type": "stream",
     "text": [
      "I FOUND A BIRD! SQUAK!!!\n",
      "I FOUND A BIRD! SQUAK!!!\n",
      "I FOUND A BIRD! SQUAK!!!\n",
      "I FOUND A BIRD! SQUAK!!!\n",
      "I FOUND A BIRD! SQUAK!!!\n",
      "I FOUND A BIRD! SQUAK!!!\n",
      "I FOUND A BIRD! SQUAK!!!\n",
      "I FOUND A BIRD! SQUAK!!!\n",
      "I FOUND A BIRD! SQUAK!!!\n",
      "I FOUND A BIRD! SQUAK!!!\n",
      "I FOUND A BIRD! SQUAK!!!\n"
     ]
    }
   ],
   "source": [
    "for line in poem_lines:\n",
    "    if 'raven' in line.lower():\n",
    "        print(\"I FOUND A BIRD! SQUAK!!!\")"
   ]
  },
  {
   "cell_type": "markdown",
   "metadata": {},
   "source": [
    "# We found some birds!!!\n",
    "\n",
    "So we're finding the Raven in the text, which is great.  Now we can set up our while loop.  There are several pieces to a while loop:\n",
    "\n",
    "* counter (if you need one)\n",
    "* conditional check (required)\n",
    "    * `while` loops will continue to go until the conditional check pops false\n",
    "    * so the logic will look way silly, but it becomes semi readable\n",
    "* the while loop itself (required, duh)\n",
    "* something in the while loop that will trigger the flip in the conditional check\n",
    "* increment the counter\n",
    "\n",
    "So in our context we're going to have:\n",
    "\n",
    "* a counter to count how many lines we've traversed until we've found what we want\n",
    "* a conditional check so we know when to end the while loop, we'll start this as False for not found\n",
    "* and a while loop that checks our conditional\n",
    "* check to see if 'raven' is in the line and change our conditional to True if so\n",
    "* increment our counter up by one if not found"
   ]
  },
  {
   "cell_type": "code",
   "execution_count": 4,
   "metadata": {
    "collapsed": false
   },
   "outputs": [
    {
     "name": "stdout",
     "output_type": "stream",
     "text": [
      "I found the raven on line 43\n",
      "The text of the line is:\n",
      "in there stepped a stately raven of the saintly days of yore; \n",
      "\n"
     ]
    }
   ],
   "source": [
    "num_lines = 0 # start counting at zero like normal humans\n",
    "\n",
    "raven_found = False # we're going until we find the raven, so set to False\n",
    "\n",
    "while not raven_found:\n",
    "    # oh no! How do we loop through the lines without a for loop?\n",
    "    # we can take advantage of our counter to use it as an index position\n",
    "    line = poem_lines[num_lines].lower()\n",
    "    if 'raven' in line:\n",
    "        raven_found = True # if you forget this the while loop will never stop\n",
    "        print(\"I found the raven on line\", num_lines)\n",
    "        print(\"The text of the line is:\")\n",
    "        print(line)\n",
    "    else:\n",
    "        num_lines = num_lines + 1 # keep on truckin' through"
   ]
  },
  {
   "cell_type": "markdown",
   "metadata": {},
   "source": [
    "Let's go to line 43 in the text file and check... Yup!\n",
    "\n",
    "So now we have the first instance of the raven, which we can then use to divide the text into the pre-raven and post-raven eras."
   ]
  },
  {
   "cell_type": "code",
   "execution_count": 5,
   "metadata": {
    "collapsed": true
   },
   "outputs": [],
   "source": [
    "raven_found_on = num_lines # this will be left over from the previous while loop\n",
    "\n",
    "pre_raven = poem_lines[:raven_found_on]\n",
    "post_raven = poem_lines[raven_found_on:]"
   ]
  },
  {
   "cell_type": "code",
   "execution_count": 6,
   "metadata": {
    "collapsed": false
   },
   "outputs": [
    {
     "data": {
      "text/plain": [
       "['Once upon a midnight dreary, while I pondered, weak and weary, \\n',\n",
       " 'Over many a quaint and curious volume of forgotten lore, \\n',\n",
       " 'While I nodded, nearly napping, suddenly there came a tapping, \\n',\n",
       " 'As of some one gently rapping, rapping at my chamber door. \\n',\n",
       " '\"\\'Tis some visitor,\" I muttered, \"tapping at my chamber door- \\n',\n",
       " '                Only this, and nothing more.\" \\n',\n",
       " '\\n',\n",
       " 'Ah, distinctly I remember it was in the bleak December, \\n',\n",
       " 'And each separate dying ember wrought its ghost upon the floor. \\n',\n",
       " 'Eagerly I wished the morrow;- vainly I had sought to borrow \\n',\n",
       " 'From my books surcease of sorrow- sorrow for the lost Lenore- \\n',\n",
       " 'For the rare and radiant maiden whom the angels name Lenore- \\n',\n",
       " '                Nameless here for evermore. \\n',\n",
       " '\\n',\n",
       " 'And the silken, sad, uncertain rustling of each purple curtain \\n',\n",
       " 'Thrilled me- filled me with fantastic terrors never felt before; \\n',\n",
       " 'So that now, to still the beating of my heart, I stood repeating, \\n',\n",
       " '\"\\'Tis some visitor entreating entrance at my chamber door- \\n',\n",
       " 'Some late visitor entreating entrance at my chamber door;- \\n',\n",
       " '                This it is, and nothing more.\" \\n',\n",
       " '\\n',\n",
       " 'Presently my soul grew stronger; hesitating then no longer, \\n',\n",
       " '\"Sir,\" said I, \"or Madam, truly your forgiveness I implore; \\n',\n",
       " 'But the fact is I was napping, and so gently you came rapping, \\n',\n",
       " 'And so faintly you came tapping, tapping at my chamber door, \\n',\n",
       " 'That I scarce was sure I heard you\"- here I opened wide the door;- \\n',\n",
       " '                Darkness there, and nothing more. \\n',\n",
       " '\\n',\n",
       " 'Deep into that darkness peering, long I stood there wondering, fearing, \\n',\n",
       " 'Doubting, dreaming dreams no mortal ever dared to dream before; \\n',\n",
       " 'But the silence was unbroken, and the stillness gave no token, \\n',\n",
       " 'And the only word there spoken was the whispered word, \"Lenore?\" \\n',\n",
       " 'This I whispered, and an echo murmured back the word, \"Lenore!\"- \\n',\n",
       " '                Merely this, and nothing more. \\n',\n",
       " '\\n',\n",
       " 'Back into the chamber turning, all my soul within me burning, \\n',\n",
       " 'Soon again I heard a tapping somewhat louder than before. \\n',\n",
       " '\"Surely,\" said I, \"surely that is something at my window lattice: \\n',\n",
       " 'Let me see, then, what thereat is, and this mystery explore- \\n',\n",
       " 'Let my heart be still a moment and this mystery explore;- \\n',\n",
       " '                \\'Tis the wind and nothing more!\" \\n',\n",
       " '\\n',\n",
       " 'Open here I flung the shutter, when, with many a flirt and flutter, \\n']"
      ]
     },
     "execution_count": 6,
     "metadata": {},
     "output_type": "execute_result"
    }
   ],
   "source": [
    "pre_raven"
   ]
  },
  {
   "cell_type": "code",
   "execution_count": 7,
   "metadata": {
    "collapsed": false
   },
   "outputs": [
    {
     "data": {
      "text/plain": [
       "['In there stepped a stately Raven of the saintly days of yore; \\n',\n",
       " 'Not the least obeisance made he; not a minute stopped or stayed he; \\n',\n",
       " 'But, with mien of lord or lady, perched above my chamber door- \\n',\n",
       " 'Perched upon a bust of Pallas just above my chamber door- \\n',\n",
       " '                Perched, and sat, and nothing more. \\n',\n",
       " '\\n',\n",
       " 'Then this ebony bird beguiling my sad fancy into smiling, \\n',\n",
       " 'By the grave and stern decorum of the countenance it wore. \\n',\n",
       " '\"Though thy crest be shorn and shaven, thou,\" I said, \"art sure no craven, \\n',\n",
       " 'Ghastly grim and ancient Raven wandering from the Nightly shore- \\n',\n",
       " 'Tell me what thy lordly name is on the Night\\'s Plutonian shore!\" \\n',\n",
       " '                Quoth the Raven, \"Nevermore.\" \\n',\n",
       " '\\n',\n",
       " 'Much I marvelled this ungainly fowl to hear discourse so plainly, \\n',\n",
       " 'Though its answer little meaning- little relevancy bore; \\n',\n",
       " 'For we cannot help agreeing that no living human being \\n',\n",
       " 'Ever yet was blessed with seeing bird above his chamber door- \\n',\n",
       " 'Bird or beast upon the sculptured bust above his chamber door, \\n',\n",
       " '                With such name as \"Nevermore.\" \\n',\n",
       " '\\n',\n",
       " 'But the Raven, sitting lonely on the placid bust, spoke only \\n',\n",
       " 'That one word, as if his soul in that one word he did outpour. \\n',\n",
       " 'Nothing further then he uttered- not a feather then he fluttered- \\n',\n",
       " 'Till I scarcely more than muttered, \"Other friends have flown before- \\n',\n",
       " 'On the morrow he will leave me, as my hopes have flown before.\" \\n',\n",
       " '                Then the bird said, \"Nevermore.\" \\n',\n",
       " '\\n',\n",
       " 'Startled at the stillness broken by reply so aptly spoken, \\n',\n",
       " '\"Doubtless,\" said I, \"what it utters is its only stock and store, \\n',\n",
       " 'Caught from some unhappy master whom unmerciful Disaster \\n',\n",
       " 'Followed fast and followed faster till his songs one burden bore- \\n',\n",
       " 'Till the dirges of his Hope that melancholy burden bore \\n',\n",
       " '                Of \\'Never- nevermore\\'.\" \\n',\n",
       " '\\n',\n",
       " 'But the Raven still beguiling all my fancy into smiling, \\n',\n",
       " 'Straight I wheeled a cushioned seat in front of bird, and bust and door; \\n',\n",
       " 'Then upon the velvet sinking, I betook myself to linking \\n',\n",
       " 'Fancy unto fancy, thinking what this ominous bird of yore- \\n',\n",
       " 'What this grim, ungainly, ghastly, gaunt and ominous bird of yore \\n',\n",
       " '                Meant in croaking \"Nevermore.\" \\n',\n",
       " '\\n',\n",
       " 'This I sat engaged in guessing, but no syllable expressing \\n',\n",
       " \"To the fowl whose fiery eyes now burned into my bosom's core; \\n\",\n",
       " 'This and more I sat divining, with my head at ease reclining \\n',\n",
       " \"On the cushion's velvet lining that the lamp-light gloated o'er, \\n\",\n",
       " \"But whose velvet violet lining with the lamp-light gloating o'er, \\n\",\n",
       " '                She shall press, ah, nevermore! \\n',\n",
       " '\\n',\n",
       " 'Then methought the air grew denser, perfumed from an unseen censer \\n',\n",
       " 'Swung by Seraphim whose footfalls tinkled on the tufted floor. \\n',\n",
       " '\"Wretch,\" I cried, \"thy God hath lent thee- by these angels he hath sent thee \\n',\n",
       " 'Respite- respite and nepenthe, from thy memories of Lenore! \\n',\n",
       " 'Quaff, oh quaff this kind nepenthe and forget this lost Lenore!\" \\n',\n",
       " '                Quoth the Raven, \"Nevermore.\" \\n',\n",
       " '\\n',\n",
       " '\"Prophet!\" said I, \"thing of evil! - prophet still, if bird or devil! - \\n',\n",
       " 'Whether Tempter sent, or whether tempest tossed thee here ashore, \\n',\n",
       " 'Desolate yet all undaunted, on this desert land enchanted- \\n',\n",
       " 'On this home by Horror haunted- tell me truly, I implore- \\n',\n",
       " 'Is there- is there balm in Gilead?- tell me- tell me, I implore!\" \\n',\n",
       " '                Quoth the Raven, \"Nevermore.\" \\n',\n",
       " '\\n',\n",
       " '\"Prophet!\" said I, \"thing of evil! - prophet still, if bird or devil! \\n',\n",
       " 'By that Heaven that bends above us- by that God we both adore- \\n',\n",
       " 'Tell this soul with sorrow laden if, within the distant Aidenn, \\n',\n",
       " 'It shall clasp a sainted maiden whom the angels name Lenore- \\n',\n",
       " 'Clasp a rare and radiant maiden whom the angels name Lenore.\" \\n',\n",
       " '                Quoth the Raven, \"Nevermore.\" \\n',\n",
       " '\\n',\n",
       " '\"Be that word our sign in parting, bird or fiend,\" I shrieked, upstarting- \\n',\n",
       " '\"Get thee back into the tempest and the Night\\'s Plutonian shore! \\n',\n",
       " 'Leave no black plume as a token of that lie thy soul hath spoken! \\n',\n",
       " 'Leave my loneliness unbroken!- quit the bust above my door! \\n',\n",
       " 'Take thy beak from out my heart, and take thy form from off my door!\" \\n',\n",
       " '                Quoth the Raven, \"Nevermore.\" \\n',\n",
       " '\\n',\n",
       " 'And the Raven, never flitting, still is sitting, still is sitting \\n',\n",
       " 'On the pallid bust of Pallas just above my chamber door; \\n',\n",
       " \"And his eyes have all the seeming of a demon's that is dreaming, \\n\",\n",
       " \"And the lamp-light o'er him streaming throws his shadow on the floor; \\n\",\n",
       " 'And my soul from out that shadow that lies floating on the floor \\n',\n",
       " '                Shall be lifted- nevermore! ']"
      ]
     },
     "execution_count": 7,
     "metadata": {},
     "output_type": "execute_result"
    }
   ],
   "source": [
    "post_raven"
   ]
  },
  {
   "cell_type": "markdown",
   "metadata": {},
   "source": [
    "So does the raven appear about halfway through the poem?"
   ]
  },
  {
   "cell_type": "code",
   "execution_count": 8,
   "metadata": {
    "collapsed": false
   },
   "outputs": [
    {
     "name": "stdout",
     "output_type": "stream",
     "text": [
      "Pre era is: 43\n",
      "Actual middle is: 62.5\n",
      "Post era is: 82\n",
      "0.344\n"
     ]
    }
   ],
   "source": [
    "print(\"Pre era is:\", len(pre_raven))\n",
    "print(\"Actual middle is:\", len(poem_lines) / 2)\n",
    "print(\"Post era is:\", len(post_raven))\n",
    "print(len(pre_raven) / len(poem_lines))"
   ]
  },
  {
   "cell_type": "markdown",
   "metadata": {},
   "source": [
    "So no, it appears on line 43, but the median point is actually about line 63 of the file, so the first mention of the raven appears about 34% of the way into the poem.  \n",
    "\n",
    "So this is the kind of thing where while loops are really valuable, but they aren't the best path to take.  In the Python data processing world, becuase we are often working with a known collection of items, the for loop is going to be our most common choice.\n",
    "\n",
    "We know which line it first appears in, but which stanza is that?  We need to redo how we're doing things to get out the stanzas.  We know that stanzas are separated by lines that are just `'\\n'`, so let's find all those places."
   ]
  },
  {
   "cell_type": "code",
   "execution_count": null,
   "metadata": {
    "collapsed": true
   },
   "outputs": [],
   "source": []
  },
  {
   "cell_type": "code",
   "execution_count": null,
   "metadata": {
    "collapsed": true
   },
   "outputs": [],
   "source": []
  },
  {
   "cell_type": "code",
   "execution_count": 9,
   "metadata": {
    "collapsed": false
   },
   "outputs": [
    {
     "name": "stdout",
     "output_type": "stream",
     "text": [
      "[6, 13, 20, 27, 34, 41, 48, 55, 62, 69, 76, 83, 90, 97, 104, 111, 118]\n"
     ]
    }
   ],
   "source": [
    "newline_breaks = []\n",
    "\n",
    "line_counter = 0\n",
    "\n",
    "for line in poem_lines:\n",
    "    if line == '\\n':\n",
    "        newline_breaks.append(line_counter)\n",
    "    line_counter += 1\n",
    "    \n",
    "print(newline_breaks)"
   ]
  },
  {
   "cell_type": "markdown",
   "metadata": {},
   "source": [
    "So what if we don't necessarily believe that these are the correct breaks?  We can loop through these and check things out."
   ]
  },
  {
   "cell_type": "code",
   "execution_count": 10,
   "metadata": {
    "collapsed": false
   },
   "outputs": [
    {
     "name": "stdout",
     "output_type": "stream",
     "text": [
      "\n",
      "\n",
      "\n",
      "\n",
      "\n",
      "\n",
      "\n",
      "\n",
      "\n",
      "\n",
      "\n",
      "\n",
      "\n",
      "\n",
      "\n",
      "\n",
      "\n",
      "\n",
      "\n",
      "\n",
      "\n",
      "\n",
      "\n",
      "\n",
      "\n",
      "\n",
      "\n",
      "\n",
      "\n",
      "\n",
      "\n",
      "\n",
      "\n",
      "\n"
     ]
    }
   ],
   "source": [
    "for num in newline_breaks:\n",
    "    print(poem_lines[num]) # this had better print off nothing but blank lines"
   ]
  },
  {
   "cell_type": "code",
   "execution_count": 11,
   "metadata": {
    "collapsed": false
   },
   "outputs": [
    {
     "name": "stdout",
     "output_type": "stream",
     "text": [
      "[6, 13, 20, 27, 34, 41, 48, 55, 62, 69, 76, 83, 90, 97, 104, 111, 118]\n"
     ]
    }
   ],
   "source": [
    "print(newline_breaks)"
   ]
  },
  {
   "cell_type": "markdown",
   "metadata": {},
   "source": [
    "OK, we've got the breaks in our file, so if we want to slice out each of the stanzas from our list of poem lines, we need to find the other bounding positions.  This is going to involve some programming but also human intervention.  Imagine taking this list of breaks and trying to form start:stop pairs.\n",
    "\n",
    "For example, we know the first break is 6, so we can say that the lines (0, 6) is the first stanza.  Then (7, 13) is the second stanza.  Recall that the line the stop value represents will not be included in the slice (remember start is inclusive and stop is exclusive), but the start value will be.\n"
   ]
  },
  {
   "cell_type": "code",
   "execution_count": 12,
   "metadata": {
    "collapsed": false
   },
   "outputs": [
    {
     "name": "stdout",
     "output_type": "stream",
     "text": [
      "[(0, 6), (7, 13), (14, 20), (21, 27), (28, 34), (35, 41), (42, 48), (49, 55), (56, 62), (63, 69), (70, 76), (77, 83), (84, 90), (91, 97), (98, 104), (105, 111), (118, 125)]\n"
     ]
    }
   ],
   "source": [
    "# Once we're inside the list, we can come up with some rules.  \n",
    "# We know that the first start position will be 0 \n",
    "# and the last stop position will be `len(poem_lines`).  \n",
    "\n",
    "pairs = []\n",
    "\n",
    "for num in newline_breaks:\n",
    "    if num == newline_breaks[0]:\n",
    "        pair = (0, num) # handling the first one needing manual coding\n",
    "    elif num == newline_breaks[-1]:\n",
    "        pair = (num, len(poem_lines)) # handling the last value\n",
    "    else: # for all others\n",
    "        previous_pair = pairs[-1] # find the last pair\n",
    "        stop = previous_pair[1] + 1 # get the second item, add 1\n",
    "        pair = (stop, num)\n",
    "    pairs.append(pair) # that accumulator again!\n",
    "        \n",
    "print(pairs)"
   ]
  },
  {
   "cell_type": "markdown",
   "metadata": {},
   "source": [
    "So now we have pairs of start:stop values for our stanzas.  Or so we think! We need to test this.  So let's use these values to print out the stanzas."
   ]
  },
  {
   "cell_type": "code",
   "execution_count": 13,
   "metadata": {
    "collapsed": false
   },
   "outputs": [
    {
     "name": "stdout",
     "output_type": "stream",
     "text": [
      "['Once upon a midnight dreary, while I pondered, weak and weary, \\n', 'Over many a quaint and curious volume of forgotten lore, \\n', 'While I nodded, nearly napping, suddenly there came a tapping, \\n', 'As of some one gently rapping, rapping at my chamber door. \\n', '\"\\'Tis some visitor,\" I muttered, \"tapping at my chamber door- \\n', '                Only this, and nothing more.\" \\n']\n",
      "['Ah, distinctly I remember it was in the bleak December, \\n', 'And each separate dying ember wrought its ghost upon the floor. \\n', 'Eagerly I wished the morrow;- vainly I had sought to borrow \\n', 'From my books surcease of sorrow- sorrow for the lost Lenore- \\n', 'For the rare and radiant maiden whom the angels name Lenore- \\n', '                Nameless here for evermore. \\n']\n",
      "['And the silken, sad, uncertain rustling of each purple curtain \\n', 'Thrilled me- filled me with fantastic terrors never felt before; \\n', 'So that now, to still the beating of my heart, I stood repeating, \\n', '\"\\'Tis some visitor entreating entrance at my chamber door- \\n', 'Some late visitor entreating entrance at my chamber door;- \\n', '                This it is, and nothing more.\" \\n']\n",
      "['Presently my soul grew stronger; hesitating then no longer, \\n', '\"Sir,\" said I, \"or Madam, truly your forgiveness I implore; \\n', 'But the fact is I was napping, and so gently you came rapping, \\n', 'And so faintly you came tapping, tapping at my chamber door, \\n', 'That I scarce was sure I heard you\"- here I opened wide the door;- \\n', '                Darkness there, and nothing more. \\n']\n",
      "['Deep into that darkness peering, long I stood there wondering, fearing, \\n', 'Doubting, dreaming dreams no mortal ever dared to dream before; \\n', 'But the silence was unbroken, and the stillness gave no token, \\n', 'And the only word there spoken was the whispered word, \"Lenore?\" \\n', 'This I whispered, and an echo murmured back the word, \"Lenore!\"- \\n', '                Merely this, and nothing more. \\n']\n",
      "['Back into the chamber turning, all my soul within me burning, \\n', 'Soon again I heard a tapping somewhat louder than before. \\n', '\"Surely,\" said I, \"surely that is something at my window lattice: \\n', 'Let me see, then, what thereat is, and this mystery explore- \\n', 'Let my heart be still a moment and this mystery explore;- \\n', '                \\'Tis the wind and nothing more!\" \\n']\n",
      "['Open here I flung the shutter, when, with many a flirt and flutter, \\n', 'In there stepped a stately Raven of the saintly days of yore; \\n', 'Not the least obeisance made he; not a minute stopped or stayed he; \\n', 'But, with mien of lord or lady, perched above my chamber door- \\n', 'Perched upon a bust of Pallas just above my chamber door- \\n', '                Perched, and sat, and nothing more. \\n']\n",
      "['Then this ebony bird beguiling my sad fancy into smiling, \\n', 'By the grave and stern decorum of the countenance it wore. \\n', '\"Though thy crest be shorn and shaven, thou,\" I said, \"art sure no craven, \\n', 'Ghastly grim and ancient Raven wandering from the Nightly shore- \\n', 'Tell me what thy lordly name is on the Night\\'s Plutonian shore!\" \\n', '                Quoth the Raven, \"Nevermore.\" \\n']\n",
      "['Much I marvelled this ungainly fowl to hear discourse so plainly, \\n', 'Though its answer little meaning- little relevancy bore; \\n', 'For we cannot help agreeing that no living human being \\n', 'Ever yet was blessed with seeing bird above his chamber door- \\n', 'Bird or beast upon the sculptured bust above his chamber door, \\n', '                With such name as \"Nevermore.\" \\n']\n",
      "['But the Raven, sitting lonely on the placid bust, spoke only \\n', 'That one word, as if his soul in that one word he did outpour. \\n', 'Nothing further then he uttered- not a feather then he fluttered- \\n', 'Till I scarcely more than muttered, \"Other friends have flown before- \\n', 'On the morrow he will leave me, as my hopes have flown before.\" \\n', '                Then the bird said, \"Nevermore.\" \\n']\n",
      "['Startled at the stillness broken by reply so aptly spoken, \\n', '\"Doubtless,\" said I, \"what it utters is its only stock and store, \\n', 'Caught from some unhappy master whom unmerciful Disaster \\n', 'Followed fast and followed faster till his songs one burden bore- \\n', 'Till the dirges of his Hope that melancholy burden bore \\n', '                Of \\'Never- nevermore\\'.\" \\n']\n",
      "['But the Raven still beguiling all my fancy into smiling, \\n', 'Straight I wheeled a cushioned seat in front of bird, and bust and door; \\n', 'Then upon the velvet sinking, I betook myself to linking \\n', 'Fancy unto fancy, thinking what this ominous bird of yore- \\n', 'What this grim, ungainly, ghastly, gaunt and ominous bird of yore \\n', '                Meant in croaking \"Nevermore.\" \\n']\n",
      "['This I sat engaged in guessing, but no syllable expressing \\n', \"To the fowl whose fiery eyes now burned into my bosom's core; \\n\", 'This and more I sat divining, with my head at ease reclining \\n', \"On the cushion's velvet lining that the lamp-light gloated o'er, \\n\", \"But whose velvet violet lining with the lamp-light gloating o'er, \\n\", '                She shall press, ah, nevermore! \\n']\n",
      "['Then methought the air grew denser, perfumed from an unseen censer \\n', 'Swung by Seraphim whose footfalls tinkled on the tufted floor. \\n', '\"Wretch,\" I cried, \"thy God hath lent thee- by these angels he hath sent thee \\n', 'Respite- respite and nepenthe, from thy memories of Lenore! \\n', 'Quaff, oh quaff this kind nepenthe and forget this lost Lenore!\" \\n', '                Quoth the Raven, \"Nevermore.\" \\n']\n",
      "['\"Prophet!\" said I, \"thing of evil! - prophet still, if bird or devil! - \\n', 'Whether Tempter sent, or whether tempest tossed thee here ashore, \\n', 'Desolate yet all undaunted, on this desert land enchanted- \\n', 'On this home by Horror haunted- tell me truly, I implore- \\n', 'Is there- is there balm in Gilead?- tell me- tell me, I implore!\" \\n', '                Quoth the Raven, \"Nevermore.\" \\n']\n",
      "['\"Prophet!\" said I, \"thing of evil! - prophet still, if bird or devil! \\n', 'By that Heaven that bends above us- by that God we both adore- \\n', 'Tell this soul with sorrow laden if, within the distant Aidenn, \\n', 'It shall clasp a sainted maiden whom the angels name Lenore- \\n', 'Clasp a rare and radiant maiden whom the angels name Lenore.\" \\n', '                Quoth the Raven, \"Nevermore.\" \\n']\n",
      "['\\n', 'And the Raven, never flitting, still is sitting, still is sitting \\n', 'On the pallid bust of Pallas just above my chamber door; \\n', \"And his eyes have all the seeming of a demon's that is dreaming, \\n\", \"And the lamp-light o'er him streaming throws his shadow on the floor; \\n\", 'And my soul from out that shadow that lies floating on the floor \\n', '                Shall be lifted- nevermore! ']\n"
     ]
    }
   ],
   "source": [
    "for start, stop in pairs: # recall that this will unpack the tuple\n",
    "    print(poem_lines[start:stop])"
   ]
  },
  {
   "cell_type": "code",
   "execution_count": 14,
   "metadata": {
    "collapsed": false
   },
   "outputs": [],
   "source": [
    "# That's super ugly!  Let's try joining the lines together\n",
    "# and make a new list with each stanza as one string\n",
    "\n",
    "stanzas = []\n",
    "\n",
    "for start, stop in pairs:\n",
    "    stanza = poem_lines[start:stop]\n",
    "    stanzas.append(\"\".join(stanza))"
   ]
  },
  {
   "cell_type": "code",
   "execution_count": 15,
   "metadata": {
    "collapsed": false
   },
   "outputs": [
    {
     "name": "stdout",
     "output_type": "stream",
     "text": [
      "Once upon a midnight dreary, while I pondered, weak and weary, \n",
      "Over many a quaint and curious volume of forgotten lore, \n",
      "While I nodded, nearly napping, suddenly there came a tapping, \n",
      "As of some one gently rapping, rapping at my chamber door. \n",
      "\"'Tis some visitor,\" I muttered, \"tapping at my chamber door- \n",
      "                Only this, and nothing more.\" \n",
      "\n"
     ]
    }
   ],
   "source": [
    "print(stanzas[0])"
   ]
  },
  {
   "cell_type": "markdown",
   "metadata": {},
   "source": [
    "Now that we have each stanza as a single string...we can check which stanza has the first instance of the raven!"
   ]
  },
  {
   "cell_type": "code",
   "execution_count": 16,
   "metadata": {
    "collapsed": false
   },
   "outputs": [
    {
     "name": "stdout",
     "output_type": "stream",
     "text": [
      "No bird here\n",
      "No bird here\n",
      "No bird here\n",
      "No bird here\n",
      "No bird here\n",
      "No bird here\n",
      "NEVERMORE!\n",
      "NEVERMORE!\n",
      "No bird here\n",
      "NEVERMORE!\n",
      "No bird here\n",
      "NEVERMORE!\n",
      "No bird here\n",
      "NEVERMORE!\n",
      "NEVERMORE!\n",
      "NEVERMORE!\n",
      "NEVERMORE!\n"
     ]
    }
   ],
   "source": [
    "for stanza in stanzas:\n",
    "    if 'raven' in stanza.lower():\n",
    "        print(\"NEVERMORE!\")\n",
    "    else:\n",
    "        print(\"No bird here\")"
   ]
  },
  {
   "cell_type": "markdown",
   "metadata": {},
   "source": [
    "Let's throw that while loop back into play to find the first stanza of appearance."
   ]
  },
  {
   "cell_type": "code",
   "execution_count": 17,
   "metadata": {
    "collapsed": false
   },
   "outputs": [
    {
     "name": "stdout",
     "output_type": "stream",
     "text": [
      "I found the raven on stanza 6\n",
      "The text of the line is:\n",
      "open here i flung the shutter, when, with many a flirt and flutter, \n",
      "in there stepped a stately raven of the saintly days of yore; \n",
      "not the least obeisance made he; not a minute stopped or stayed he; \n",
      "but, with mien of lord or lady, perched above my chamber door- \n",
      "perched upon a bust of pallas just above my chamber door- \n",
      "                perched, and sat, and nothing more. \n",
      "\n"
     ]
    }
   ],
   "source": [
    "num_stanzas = 0 # start counting at zero like normal humans\n",
    "\n",
    "raven_found = False # we're going until we find the raven, so set to False\n",
    "\n",
    "while not raven_found:\n",
    "    # oh no! How do we loop through the lines without a for loop?\n",
    "    # we can take advantage of our counter to use it as an index position\n",
    "    stanza = stanzas[num_stanzas].lower()\n",
    "    if 'raven' in stanza:\n",
    "        raven_found = True # if you forget this the while loop will never stop\n",
    "        print(\"I found the raven on stanza\", num_stanzas)\n",
    "        print(\"The text of the line is:\")\n",
    "        print(stanza)\n",
    "    else:\n",
    "        num_stanzas = num_stanzas + 1 # keep on truckin' through"
   ]
  },
  {
   "cell_type": "markdown",
   "metadata": {},
   "source": [
    "And the same pre/post era analysis:"
   ]
  },
  {
   "cell_type": "code",
   "execution_count": 18,
   "metadata": {
    "collapsed": false
   },
   "outputs": [
    {
     "name": "stdout",
     "output_type": "stream",
     "text": [
      "Pre era is: 6\n",
      "Actual middle is: 8.5\n",
      "Post era is: 11\n",
      "0.35294117647058826\n"
     ]
    }
   ],
   "source": [
    "pre_raven_stanzas = stanzas[:num_stanzas]\n",
    "post_raven_stanzas = stanzas[num_stanzas:]\n",
    "\n",
    "print(\"Pre era is:\", len(pre_raven_stanzas))\n",
    "print(\"Actual middle is:\", len(stanzas) / 2)\n",
    "print(\"Post era is:\", len(post_raven_stanzas))\n",
    "print(len(pre_raven_stanzas) / len(stanzas))"
   ]
  },
  {
   "cell_type": "markdown",
   "metadata": {},
   "source": [
    "From a stanza perspective, the raven appears about 35% into the poem.  Given that the stanzas have a set number of lines, the fact that this number isn't really that off from the line perspective shouldn't be shocking."
   ]
  },
  {
   "cell_type": "markdown",
   "metadata": {},
   "source": [
    "Here's another reserach question:  Does the word \"nevermore\" appear in any stanza without the raven being mentioned?  We can do this!"
   ]
  },
  {
   "cell_type": "code",
   "execution_count": 19,
   "metadata": {
    "collapsed": false
   },
   "outputs": [
    {
     "name": "stdout",
     "output_type": "stream",
     "text": [
      "nothing to see here\n",
      "nothing to see here\n",
      "nothing to see here\n",
      "nothing to see here\n",
      "nothing to see here\n",
      "nothing to see here\n",
      "nothing to see here\n",
      "Has raven and nevermore\n",
      "Has nevermore but no raven\n",
      "Has raven and nevermore\n",
      "Has nevermore but no raven\n",
      "Has raven and nevermore\n",
      "Has nevermore but no raven\n",
      "Has raven and nevermore\n",
      "Has raven and nevermore\n",
      "Has raven and nevermore\n",
      "Has raven and nevermore\n"
     ]
    }
   ],
   "source": [
    "for stanza in stanzas:\n",
    "    stanza = stanza.lower()\n",
    "    is_nevermore = 'nevermore' in stanza\n",
    "    is_raven = 'raven' in stanza\n",
    "    if is_nevermore and is_raven:\n",
    "        print(\"Has raven and nevermore\")\n",
    "    elif is_nevermore and not is_raven:\n",
    "        print(\"Has nevermore but no raven\")\n",
    "        #print(\"yo, here's your stanza\")\n",
    "        #print(stanza)\n",
    "    else:\n",
    "        print(\"nothing to see here\")"
   ]
  },
  {
   "cell_type": "markdown",
   "metadata": {},
   "source": [
    "This is a small vizualization here of some of the narrative.  Almost in three chunks:\n",
    "\n",
    "* Pre-raven era, what is that sound? stop baning on my door, yo.\n",
    "* Alternating between the raven saying nevermore and the dude thinking, is this bird really telling me nevermore?\n",
    "* dude no longer questioning the raven's existence, just losing his dang mind"
   ]
  },
  {
   "cell_type": "code",
   "execution_count": 20,
   "metadata": {
    "collapsed": true
   },
   "outputs": [],
   "source": [
    "# raven_data = [(i, 'raven', s.lower().count(\"raven\")) for i, s in enumerate(stanzas)]\n",
    "# nevermore_data = [(i, 'nevermore', s.lower().count(\"nevermore\")) for i, s in enumerate(stanzas)]\n",
    "# bird_refs_data = [(i, 'bird', s.lower().count(\"bird\")) for i, s in enumerate(stanzas)]\n",
    "\n",
    "raven_data = [s.lower().count(\"raven\") for s in stanzas]\n",
    "nevermore_data = [s.lower().count(\"nevermore\") for s in stanzas]\n",
    "bird_refs_data = [s.lower().count(\"bird\") for s in stanzas]\n",
    "lenore_data = [s.lower().count(\"lenore\") for s in stanzas]\n",
    "chamber_data = [s.lower().count(\"chamber\") for s in stanzas]"
   ]
  },
  {
   "cell_type": "code",
   "execution_count": null,
   "metadata": {
    "collapsed": false
   },
   "outputs": [],
   "source": []
  },
  {
   "cell_type": "code",
   "execution_count": 21,
   "metadata": {
    "collapsed": false
   },
   "outputs": [
    {
     "name": "stdout",
     "output_type": "stream",
     "text": [
      "[('the', 56), ('and', 38), ('i', 27), ('my', 24), ('of', 21)]\n",
      "[('chamber', 11), ('bird', 9), ('\"nevermore.\"', 8), ('nothing', 7), ('raven,', 7), ('thy', 6), ('soul', 6), ('upon', 5), ('door-', 5), ('still', 5), ('bust', 5), ('i,', 5), ('said', 5), ('name', 5), ('tell', 5)]\n"
     ]
    }
   ],
   "source": [
    "from collections import Counter\n",
    "\n",
    "with open('stopwords.txt', 'r') as file_in:\n",
    "    stops = [l.strip() for l in file_in.readlines()]\n",
    "\n",
    "with open('raven.txt', 'r') as file_in:\n",
    "    text = file_in.read()\n",
    "    \n",
    "words = text.lower().split()\n",
    "\n",
    "counted = Counter(words)\n",
    "\n",
    "print(counted.most_common(5))\n",
    "\n",
    "words_no_stops = [w for w in words if not w in stops]\n",
    "\n",
    "no_stops_counted = Counter(words_no_stops)\n",
    "\n",
    "print(no_stops_counted.most_common(15))\n"
   ]
  },
  {
   "cell_type": "code",
   "execution_count": 22,
   "metadata": {
    "collapsed": true
   },
   "outputs": [],
   "source": [
    "import matplotlib.pyplot as plt"
   ]
  },
  {
   "cell_type": "code",
   "execution_count": 23,
   "metadata": {
    "collapsed": false
   },
   "outputs": [
    {
     "data": {
      "image/png": "[encoded data removed]",
      "text/plain": [
       "<matplotlib.figure.Figure at 0x107770860>"
      ]
     },
     "metadata": {},
     "output_type": "display_data"
    }
   ],
   "source": [
    "plt.bar(range(1, len(stanzas) + 1), height= raven_data, width=.5)\n",
    "#plt.bar(range(1, len(stanzas) + 1), height= bird_refs_data, width=.5)\n",
    "#plt.plot(bird_refs_data)\n",
    "plt.legend([\"Raven\", \"Bird\"])\n",
    "plt.title(\"Counts by stanza in The Raven\")\n",
    "plt.xlabel(\"Stanza number\")\n",
    "plt.ylabel(\"Count\")\n",
    "plt.xticks(range(1, len(stanzas) + 1))\n",
    "plt.yticks([0, 1, 2, 3, 4])\n",
    "plt.show()"
   ]
  },
  {
   "cell_type": "code",
   "execution_count": 24,
   "metadata": {
    "collapsed": false
   },
   "outputs": [],
   "source": [
    "import pandas as pd\n",
    "from ggplot import *\n",
    "%matplotlib inline\n",
    "import matplotlib\n",
    "matplotlib.style.use('ggplot')"
   ]
  },
  {
   "cell_type": "code",
   "execution_count": 25,
   "metadata": {
    "collapsed": false
   },
   "outputs": [
    {
     "data": {
      "text/plain": [
       "[0, 0, 0, 0, 0, 0, 1, 3, 0, 1, 0, 1, 0, 1, 1, 1, 1]"
      ]
     },
     "execution_count": 25,
     "metadata": {},
     "output_type": "execute_result"
    }
   ],
   "source": [
    "raven_data"
   ]
  },
  {
   "cell_type": "code",
   "execution_count": 26,
   "metadata": {
    "collapsed": false
   },
   "outputs": [
    {
     "data": {
      "text/html": [
       "<div>\n",
       "<table border=\"1\" class=\"dataframe\">\n",
       "  <thead>\n",
       "    <tr style=\"text-align: right;\">\n",
       "      <th></th>\n",
       "      <th>bird</th>\n",
       "      <th>chamber</th>\n",
       "      <th>lenore</th>\n",
       "      <th>nevermore</th>\n",
       "      <th>raven</th>\n",
       "    </tr>\n",
       "  </thead>\n",
       "  <tbody>\n",
       "    <tr>\n",
       "      <th>0</th>\n",
       "      <td>0</td>\n",
       "      <td>2</td>\n",
       "      <td>0</td>\n",
       "      <td>0</td>\n",
       "      <td>0</td>\n",
       "    </tr>\n",
       "    <tr>\n",
       "      <th>1</th>\n",
       "      <td>0</td>\n",
       "      <td>0</td>\n",
       "      <td>2</td>\n",
       "      <td>0</td>\n",
       "      <td>0</td>\n",
       "    </tr>\n",
       "    <tr>\n",
       "      <th>2</th>\n",
       "      <td>0</td>\n",
       "      <td>2</td>\n",
       "      <td>0</td>\n",
       "      <td>0</td>\n",
       "      <td>0</td>\n",
       "    </tr>\n",
       "    <tr>\n",
       "      <th>3</th>\n",
       "      <td>0</td>\n",
       "      <td>1</td>\n",
       "      <td>0</td>\n",
       "      <td>0</td>\n",
       "      <td>0</td>\n",
       "    </tr>\n",
       "    <tr>\n",
       "      <th>4</th>\n",
       "      <td>0</td>\n",
       "      <td>0</td>\n",
       "      <td>2</td>\n",
       "      <td>0</td>\n",
       "      <td>0</td>\n",
       "    </tr>\n",
       "    <tr>\n",
       "      <th>5</th>\n",
       "      <td>0</td>\n",
       "      <td>1</td>\n",
       "      <td>0</td>\n",
       "      <td>0</td>\n",
       "      <td>0</td>\n",
       "    </tr>\n",
       "    <tr>\n",
       "      <th>6</th>\n",
       "      <td>0</td>\n",
       "      <td>2</td>\n",
       "      <td>0</td>\n",
       "      <td>0</td>\n",
       "      <td>1</td>\n",
       "    </tr>\n",
       "    <tr>\n",
       "      <th>7</th>\n",
       "      <td>1</td>\n",
       "      <td>0</td>\n",
       "      <td>0</td>\n",
       "      <td>1</td>\n",
       "      <td>3</td>\n",
       "    </tr>\n",
       "    <tr>\n",
       "      <th>8</th>\n",
       "      <td>2</td>\n",
       "      <td>2</td>\n",
       "      <td>0</td>\n",
       "      <td>1</td>\n",
       "      <td>0</td>\n",
       "    </tr>\n",
       "    <tr>\n",
       "      <th>9</th>\n",
       "      <td>1</td>\n",
       "      <td>0</td>\n",
       "      <td>0</td>\n",
       "      <td>1</td>\n",
       "      <td>1</td>\n",
       "    </tr>\n",
       "    <tr>\n",
       "      <th>10</th>\n",
       "      <td>0</td>\n",
       "      <td>0</td>\n",
       "      <td>0</td>\n",
       "      <td>1</td>\n",
       "      <td>0</td>\n",
       "    </tr>\n",
       "    <tr>\n",
       "      <th>11</th>\n",
       "      <td>3</td>\n",
       "      <td>0</td>\n",
       "      <td>0</td>\n",
       "      <td>1</td>\n",
       "      <td>1</td>\n",
       "    </tr>\n",
       "    <tr>\n",
       "      <th>12</th>\n",
       "      <td>0</td>\n",
       "      <td>0</td>\n",
       "      <td>0</td>\n",
       "      <td>1</td>\n",
       "      <td>0</td>\n",
       "    </tr>\n",
       "    <tr>\n",
       "      <th>13</th>\n",
       "      <td>0</td>\n",
       "      <td>0</td>\n",
       "      <td>2</td>\n",
       "      <td>1</td>\n",
       "      <td>1</td>\n",
       "    </tr>\n",
       "    <tr>\n",
       "      <th>14</th>\n",
       "      <td>1</td>\n",
       "      <td>0</td>\n",
       "      <td>0</td>\n",
       "      <td>1</td>\n",
       "      <td>1</td>\n",
       "    </tr>\n",
       "    <tr>\n",
       "      <th>15</th>\n",
       "      <td>1</td>\n",
       "      <td>0</td>\n",
       "      <td>2</td>\n",
       "      <td>1</td>\n",
       "      <td>1</td>\n",
       "    </tr>\n",
       "    <tr>\n",
       "      <th>16</th>\n",
       "      <td>0</td>\n",
       "      <td>1</td>\n",
       "      <td>0</td>\n",
       "      <td>1</td>\n",
       "      <td>1</td>\n",
       "    </tr>\n",
       "  </tbody>\n",
       "</table>\n",
       "</div>"
      ],
      "text/plain": [
       "    bird  chamber  lenore  nevermore  raven\n",
       "0      0        2       0          0      0\n",
       "1      0        0       2          0      0\n",
       "2      0        2       0          0      0\n",
       "3      0        1       0          0      0\n",
       "4      0        0       2          0      0\n",
       "5      0        1       0          0      0\n",
       "6      0        2       0          0      1\n",
       "7      1        0       0          1      3\n",
       "8      2        2       0          1      0\n",
       "9      1        0       0          1      1\n",
       "10     0        0       0          1      0\n",
       "11     3        0       0          1      1\n",
       "12     0        0       0          1      0\n",
       "13     0        0       2          1      1\n",
       "14     1        0       0          1      1\n",
       "15     1        0       2          1      1\n",
       "16     0        1       0          1      1"
      ]
     },
     "execution_count": 26,
     "metadata": {},
     "output_type": "execute_result"
    }
   ],
   "source": [
    "ravendf = pd.DataFrame({'raven': raven_data, \n",
    "                        'bird': bird_refs_data, \n",
    "                        'nevermore': nevermore_data, \n",
    "                        'lenore': lenore_data,\n",
    "                        'chamber': chamber_data})\n",
    "ravendf"
   ]
  },
  {
   "cell_type": "code",
   "execution_count": 27,
   "metadata": {
    "collapsed": false
   },
   "outputs": [
    {
     "data": {
      "image/png": "[encoded data removed]",
      "text/plain": [
       "<matplotlib.figure.Figure at 0x11746f0b8>"
      ]
     },
     "metadata": {},
     "output_type": "display_data"
    }
   ],
   "source": [
    "plt = ravendf[['raven', 'chamber', 'bird']].plot.bar(title = \"Word counts by stanza in The Raven\")\n",
    "_ = plt.set_xlabel(\"Stanza Number\")\n",
    "_ = plt.set_ylabel(\"Count\")\n",
    "_ = plt.set_yticks([0, 1, 2, 3, 4])"
   ]
  },
  {
   "cell_type": "code",
   "execution_count": null,
   "metadata": {
    "collapsed": true
   },
   "outputs": [],
   "source": []
  }
 ],
 "metadata": {
  "anaconda-cloud": {},
  "kernelspec": {
   "display_name": "Python [default]",
   "language": "python",
   "name": "python3"
  },
  "language_info": {
   "codemirror_mode": {
    "name": "ipython",
    "version": 3
   },
   "file_extension": ".py",
   "mimetype": "text/x-python",
   "name": "python",
   "nbconvert_exporter": "python",
   "pygments_lexer": "ipython3",
   "version": "3.5.2"
  }
 },
 "nbformat": 4,
 "nbformat_minor": 1
}
