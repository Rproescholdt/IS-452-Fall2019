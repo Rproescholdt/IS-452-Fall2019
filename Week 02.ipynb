{
 "cells": [
  {
   "cell_type": "markdown",
   "metadata": {},
   "source": [
    "# Week 2\n",
    "\n",
    "Let's talk about lists, loops, and doin' stuff."
   ]
  },
  {
   "cell_type": "markdown",
   "metadata": {},
   "source": [
    "## A quick note on the main() business\n",
    "\n",
    "We haven't talked about functions yet, so this is a pretty annoying \"roll with it\" stage.  I personally wouldn't have incorporated this style so quickly in the book, but in an effort to be coherent, we'll use it.\n",
    "\n",
    "Some tips:\n",
    "\n",
    "* Keep your indents in order.\n",
    "    * Everything tabbed in under the `def` line will 'belong' to that function.\n",
    "* None of the code within the `def main():` block will run if you don't 'call' the function.\n",
    "    * Perfect looking script executing without an output?  This is likely the culprit.\n",
    "    * You need to have a `main()` as your last line of code without any indents.\n",
    "    \n",
    "For example:\n",
    "\n",
    "```python\n",
    "def main():\n",
    "    print(\"fizzy pop sandwich\")\n",
    "    # more code goes here\n",
    "\n",
    "main() # last line, no indents\n",
    "```\n",
    "\n",
    "This style of script construction is not _required_ for Python, but will seem more logical as we go on and build more complex programs."
   ]
  },
  {
   "cell_type": "markdown",
   "metadata": {},
   "source": [
    "# Lists\n",
    "\n",
    "Lists are a huge part of the Python lanaguage, and an essential data structure.  Lists are noted by the use of square brackets (`[]`).\n",
    "\n",
    "## Lists can contain:\n",
    "* Nothing, e.g. `[]`\n",
    "* Numbers, e.g. `[0, 1, 2]` or `[0.0, 0.5, 1.0, 1.5]`\n",
    "* Strings, e.g. `['hello', 'little', 'snakes']`\n",
    "* Other lists, e.g. `[ [0, 1, 2], [0.0, .5, 1.0] ]`\n",
    "* A mix of stuff, e.g. `[ [0.0, 1.0], 'hello', ['fizzy', 'pop', 'sandwich'] ]`"
   ]
  },
  {
   "cell_type": "markdown",
   "metadata": {},
   "source": [
    "## What can we do with lists?\n",
    "\n",
    "Mostly just "
   ]
  },
  {
   "cell_type": "code",
   "execution_count": null,
   "metadata": {
    "collapsed": true
   },
   "outputs": [],
   "source": []
  },
  {
   "cell_type": "code",
   "execution_count": null,
   "metadata": {
    "collapsed": true
   },
   "outputs": [],
   "source": []
  }
 ],
 "metadata": {
  "anaconda-cloud": {},
  "kernelspec": {
   "display_name": "Python [conda root]",
   "language": "python",
   "name": "conda-root-py"
  },
  "language_info": {
   "codemirror_mode": {
    "name": "ipython",
    "version": 3
   },
   "file_extension": ".py",
   "mimetype": "text/x-python",
   "name": "python",
   "nbconvert_exporter": "python",
   "pygments_lexer": "ipython3",
   "version": "3.5.2"
  }
 },
 "nbformat": 4,
 "nbformat_minor": 1
}
