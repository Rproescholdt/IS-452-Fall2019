{
 "cells": [
  {
   "cell_type": "markdown",
   "metadata": {
    "collapsed": true
   },
   "source": [
    "# Week 6: Functions"
   ]
  },
  {
   "cell_type": "markdown",
   "metadata": {},
   "source": [
    "Let's start with some vocabulary:\n",
    "\n",
    "* __define a function__:  this is where you define the name, parameters, and code for your functions.  You do this with your `def` block.  E.g. `def name():`\n",
    "* __call a function__:  this is when you actually call the function to execute, and you do this via `name()` somewhere in your code\n",
    "* __parameters/arguments__:  these are the values you want to give the function when you call it, you can have 0 parameters/arguments\n",
    "* __'passing' values__: this is how you give the function the parameters and get values back, passing means that the value is handed off in the system such that it can be saved and processed.  This is different from printing values, which just spits the value out to the console and you can capture and save that value.\n",
    "* __`return`__: this is how you pass a value out of a function\n"
   ]
  },
  {
   "cell_type": "markdown",
   "metadata": {},
   "source": [
    "Functions capture and host a select chunk of code that can be repeatedly called.  These are widely used to help keep the flow of longer programs clear, because you can modularize the processing elsewhere.  There are also modules with specialized functions that we import and use for specific tasks as we need them.  "
   ]
  },
  {
   "cell_type": "markdown",
   "metadata": {},
   "source": [
    "# The most minimal function function\n",
    "\n",
    "What's the most minimal sort of function that does something? "
   ]
  },
  {
   "cell_type": "code",
   "execution_count": 1,
   "metadata": {
    "collapsed": true
   },
   "outputs": [],
   "source": [
    "def justdosomething():\n",
    "    print(\"hello\")"
   ]
  },
  {
   "cell_type": "markdown",
   "metadata": {},
   "source": [
    "The function above will only print hello when called.  So let's call it and check it out!"
   ]
  },
  {
   "cell_type": "code",
   "execution_count": 2,
   "metadata": {
    "collapsed": false
   },
   "outputs": [
    {
     "name": "stdout",
     "output_type": "stream",
     "text": [
      "hello\n"
     ]
    }
   ],
   "source": [
    "justdosomething()"
   ]
  },
  {
   "cell_type": "markdown",
   "metadata": {},
   "source": [
    "As simple as that!  So let's play next with giving it a value."
   ]
  },
  {
   "cell_type": "code",
   "execution_count": 3,
   "metadata": {
    "collapsed": true
   },
   "outputs": [],
   "source": [
    "def saysomething(saythis):\n",
    "    print(saythis)"
   ]
  },
  {
   "cell_type": "markdown",
   "metadata": {},
   "source": [
    "So now this function will print out whatever we pass it.  Not that interesting, but we need to start from somewhere."
   ]
  },
  {
   "cell_type": "code",
   "execution_count": 4,
   "metadata": {
    "collapsed": false
   },
   "outputs": [
    {
     "name": "stdout",
     "output_type": "stream",
     "text": [
      "I've said a thing\n"
     ]
    }
   ],
   "source": [
    "saysomething(\"I've said a thing\")"
   ]
  },
  {
   "cell_type": "markdown",
   "metadata": {},
   "source": [
    "Let's do something a little more interesting."
   ]
  },
  {
   "cell_type": "code",
   "execution_count": 11,
   "metadata": {
    "collapsed": true
   },
   "outputs": [],
   "source": [
    "def saysomethinglouder(saythislouder):\n",
    "    text = saythislouder.upper()\n",
    "    print(text)"
   ]
  },
  {
   "cell_type": "code",
   "execution_count": 12,
   "metadata": {
    "collapsed": false
   },
   "outputs": [
    {
     "name": "stdout",
     "output_type": "stream",
     "text": [
      "I'M MOSTLY LOWER CASE, YO\n"
     ]
    }
   ],
   "source": [
    "saysomethinglouder(\"I'm mostly lower case, yo\")"
   ]
  },
  {
   "cell_type": "markdown",
   "metadata": {},
   "source": [
    "## What the crap is `return`?\n",
    "\n",
    "Return is completely different from print.  Print spits out the content to the console, but you can't access the content.  Only view it.\n",
    "\n",
    "Meanwhile, `return` will actually pass the value back to you to capture.  You'd then need to print it directly, should you want to."
   ]
  },
  {
   "cell_type": "code",
   "execution_count": 16,
   "metadata": {
    "collapsed": false
   },
   "outputs": [
    {
     "data": {
      "text/plain": [
       "\"THIS IS MY SENTENCE, BUT NOW IT'LL BE LOUDER\""
      ]
     },
     "execution_count": 16,
     "metadata": {},
     "output_type": "execute_result"
    }
   ],
   "source": [
    "def saysomethinglouder(saythislouder):\n",
    "    text = saythislouder.upper()\n",
    "    return text # we've changed this to return\n",
    "\n",
    "saysomethinglouder(\"this is my sentence, but now it'll be louder\")"
   ]
  },
  {
   "cell_type": "markdown",
   "metadata": {},
   "source": [
    "OK, so Jupyter automatically prints out return statements, so.... this isn't the clearest of issues.  But you can capture the value now!"
   ]
  },
  {
   "cell_type": "code",
   "execution_count": 17,
   "metadata": {
    "collapsed": false
   },
   "outputs": [
    {
     "name": "stdout",
     "output_type": "stream",
     "text": [
      "MY SENTENCES IS LOUDER NOW\n"
     ]
    }
   ],
   "source": [
    "louder = saysomethinglouder(\"my sentences is louder now\")\n",
    "\n",
    "print(louder)"
   ]
  },
  {
   "cell_type": "markdown",
   "metadata": {},
   "source": [
    "## Problem walkthrough\n",
    "\n",
    "Let's work on this problem. Write a function called `halfhalf` that takes a string, upper cases the first half of that string, and lower cases the last half of it string. Then returns the new string.  When the string is of odd length, let the lower case side have the extra letter."
   ]
  },
  {
   "cell_type": "markdown",
   "metadata": {},
   "source": [
    "### Step 1: Identify the inputs and outputs\n",
    "\n",
    "* What are the inputs?  A single string.\n",
    "* What are the outputs?  A single string.  \n",
    "\n",
    "We can solve this!!\n",
    "\n",
    "And some testing, so let's look at this:\n",
    "\n",
    "`halfhalf(\"fizzy pop\")`\n",
    "\n",
    "This has 9 letters, so `9 * .5` is 4.5.  Running that through `int()` will give you 4.  So we want to kind of split the string at this position.  Also keep in mind that the median position has an index starting at zero, which means that it's shifted +1 from what we want.  Now, this can actually come in handy because our exclusive stop value means that we already want it to be +1.\n",
    "\n",
    "If we have the median position, we can then say:\n",
    "\n",
    "* the left side is from the beginning to the median position\n",
    "* the right side is from just after the median position to the end\n",
    "\n",
    "Hmm, doesn't this look mightly similar to string slicing?\n",
    "\n",
    "So we can manually say that a string of length 9 can be split evenly(ish)between a string of 4 characters and a string of 5 characters.  That would mean:\n",
    "\n",
    "* `left` is `FIZZ`\n",
    "* `right` is `y pop`"
   ]
  },
  {
   "cell_type": "code",
   "execution_count": 27,
   "metadata": {
    "collapsed": true
   },
   "outputs": [],
   "source": [
    "# first let's just get input and output\n",
    "def halfhalf(thestring):\n",
    "    return thestring"
   ]
  },
  {
   "cell_type": "code",
   "execution_count": 28,
   "metadata": {
    "collapsed": false
   },
   "outputs": [
    {
     "name": "stdout",
     "output_type": "stream",
     "text": [
      "just a little bit louder now\n"
     ]
    }
   ],
   "source": [
    "print(halfhalf(\"just a little bit louder now\"))"
   ]
  },
  {
   "cell_type": "markdown",
   "metadata": {},
   "source": []
  },
  {
   "cell_type": "code",
   "execution_count": null,
   "metadata": {
    "collapsed": true
   },
   "outputs": [],
   "source": []
  },
  {
   "cell_type": "code",
   "execution_count": null,
   "metadata": {
    "collapsed": true
   },
   "outputs": [],
   "source": []
  },
  {
   "cell_type": "code",
   "execution_count": null,
   "metadata": {
    "collapsed": true
   },
   "outputs": [],
   "source": []
  },
  {
   "cell_type": "markdown",
   "metadata": {},
   "source": [
    "### Step 2:  how do we split the string in half?\n",
    "\n",
    "This is roughly like computing a median value, where 50% of the contents are below and 50% are above. Now, we can't have half of a letter, which is why the question says that it should give the right side the extra letter."
   ]
  },
  {
   "cell_type": "code",
   "execution_count": 29,
   "metadata": {
    "collapsed": true
   },
   "outputs": [],
   "source": [
    "def halfhalf(thestring):\n",
    "    # let's get the length of the string\n",
    "    length = len(thestring)\n",
    "    median = length * .5 # get the median of the length\n",
    "    halfway = int(median) # we need this to be an int for slicing\n",
    "    # let's stop right here and check out the position that we're getting\n",
    "    print(halfway)\n",
    "    return thestring"
   ]
  },
  {
   "cell_type": "code",
   "execution_count": 30,
   "metadata": {
    "collapsed": false
   },
   "outputs": [
    {
     "name": "stdout",
     "output_type": "stream",
     "text": [
      "4\n"
     ]
    },
    {
     "data": {
      "text/plain": [
       "'fizzy pop'"
      ]
     },
     "execution_count": 30,
     "metadata": {},
     "output_type": "execute_result"
    }
   ],
   "source": [
    "halfhalf(\"fizzy pop\")"
   ]
  },
  {
   "cell_type": "markdown",
   "metadata": {},
   "source": [
    "Position 4 of `\"fizzy pop\"` is `\"y`\".  Remember that our string slicing will go up to but not including that position.  So yes, we do want all the letters to the left of the `\"y\"`.  Meanwhile, for the right hand side, we want all the characters starting from `\"y\"` and going to the end.  Let's just try playing with this outside of our function."
   ]
  },
  {
   "cell_type": "code",
   "execution_count": 32,
   "metadata": {
    "collapsed": false
   },
   "outputs": [
    {
     "name": "stdout",
     "output_type": "stream",
     "text": [
      "y\n",
      "fizz\n",
      "y pop\n",
      "fizzy pop\n"
     ]
    }
   ],
   "source": [
    "phrase = \"fizzy pop\"\n",
    "median = int(len(phrase) * .5)\n",
    "print(phrase[median])\n",
    "print(phrase[:median])\n",
    "print(phrase[median:])\n",
    "# we can confirm that we're getting the entire string with this:\n",
    "\n",
    "print(phrase[:median] + phrase[median:])"
   ]
  },
  {
   "cell_type": "markdown",
   "metadata": {},
   "source": [
    "### Step 4: incorporate what we know into the function\n",
    "\n",
    "We have our left being string[:median] and right being string[median:].  Once we have that, we can put it together with `.upper()` and `.lower()`."
   ]
  },
  {
   "cell_type": "code",
   "execution_count": 35,
   "metadata": {
    "collapsed": true
   },
   "outputs": [],
   "source": [
    "def halfhalf(mystring):\n",
    "    length = len(mystring)\n",
    "    halfsize = int(length * .5)\n",
    "    left = mystring[:halfsize].upper()\n",
    "    right = mystring[halfsize:].lower()\n",
    "    print(left + right)"
   ]
  },
  {
   "cell_type": "code",
   "execution_count": 36,
   "metadata": {
    "collapsed": false
   },
   "outputs": [
    {
     "name": "stdout",
     "output_type": "stream",
     "text": [
      "KITTEH JUST GETTINg destroyed by pats\n"
     ]
    }
   ],
   "source": [
    "halfhalf(\"KitteH JusT GeTTing DesTroyEd By paTS\")"
   ]
  },
  {
   "cell_type": "code",
   "execution_count": 37,
   "metadata": {
    "collapsed": false
   },
   "outputs": [
    {
     "name": "stdout",
     "output_type": "stream",
     "text": [
      "FIZZy pop\n"
     ]
    }
   ],
   "source": [
    "halfhalf(\"fizzy pop\")"
   ]
  },
  {
   "cell_type": "code",
   "execution_count": null,
   "metadata": {
    "collapsed": true
   },
   "outputs": [],
   "source": []
  }
 ],
 "metadata": {
  "anaconda-cloud": {},
  "kernelspec": {
   "display_name": "Python [default]",
   "language": "python",
   "name": "python3"
  },
  "language_info": {
   "codemirror_mode": {
    "name": "ipython",
    "version": 3
   },
   "file_extension": ".py",
   "mimetype": "text/x-python",
   "name": "python",
   "nbconvert_exporter": "python",
   "pygments_lexer": "ipython3",
   "version": "3.5.2"
  }
 },
 "nbformat": 4,
 "nbformat_minor": 1
}
