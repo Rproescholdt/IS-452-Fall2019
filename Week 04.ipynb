{
 "cells": [
  {
   "cell_type": "markdown",
   "metadata": {},
   "source": [
    "# Week 04"
   ]
  },
  {
   "cell_type": "markdown",
   "metadata": {},
   "source": [
    "Things to cover: \n",
    "\n",
    "Strings, more on lists, accumulator patterns, splittingn strings into lists of stuff, string concat, string slicing, string methods, more list methods, casting string numbers into real numbers"
   ]
  },
  {
   "cell_type": "markdown",
   "metadata": {},
   "source": [
    "# Strings\n",
    "\n",
    "You've seen the before and been using them in `print()` statements, but now we're going to take a bit of a deeper dive into them.\n",
    "\n",
    "Two things to note:\n",
    "\n",
    "1. Strings can be sliced, using a syntax that's pretty much the same as you've done with lists.\n",
    "2. Strings have a bajillion methods, which you don't need to memorize.  Just keep this in mind, \"I need to do something with a string, let me look up how to do that.\"  Then do so and use it.  Here's a selection: https://docs.python.org/3/library/stdtypes.html#string-methods\n",
    "    * There are a few solid gold goodies here that you'll be using a lot:\n",
    "        * .split()\n",
    "        * .upper()/.lower()\n",
    "        * .endswith()/.beginswith()"
   ]
  },
  {
   "cell_type": "markdown",
   "metadata": {},
   "source": [
    "## String indexing\n",
    "\n",
    "Remember our list slicing:\n",
    "\n",
    "`string[start:stop(still exclusive!!):step]`\n",
    "\n",
    "Strings work the same way.  Except instead of working through the elements of a list, you work through the individual letters.\n",
    "\n",
    "How does Python know to do this?  Because someone coded that into what it means to be a string and a list object.  You can just trust that it works that way."
   ]
  },
  {
   "cell_type": "markdown",
   "metadata": {},
   "source": []
  },
  {
   "cell_type": "code",
   "execution_count": 1,
   "metadata": {
    "collapsed": true
   },
   "outputs": [],
   "source": [
    "species = \"Meat Popsicle\" # assignment just like normal"
   ]
  },
  {
   "cell_type": "code",
   "execution_count": 2,
   "metadata": {
    "collapsed": false
   },
   "outputs": [
    {
     "name": "stdout",
     "output_type": "stream",
     "text": [
      "Meat Popsicle\n"
     ]
    }
   ],
   "source": [
    "print(species)"
   ]
  },
  {
   "cell_type": "code",
   "execution_count": 3,
   "metadata": {
    "collapsed": false
   },
   "outputs": [
    {
     "name": "stdout",
     "output_type": "stream",
     "text": [
      "M\n"
     ]
    }
   ],
   "source": [
    "print(species[0]) # get the first"
   ]
  },
  {
   "cell_type": "code",
   "execution_count": 4,
   "metadata": {
    "collapsed": false
   },
   "outputs": [
    {
     "name": "stdout",
     "output_type": "stream",
     "text": [
      "e\n"
     ]
    }
   ],
   "source": [
    "print(species[-1]) # get the last"
   ]
  },
  {
   "cell_type": "code",
   "execution_count": 8,
   "metadata": {
    "collapsed": false
   },
   "outputs": [
    {
     "name": "stdout",
     "output_type": "stream",
     "text": [
      "Meat\n"
     ]
    }
   ],
   "source": [
    "print(species[0:4]) # get the first 4 letters\n",
    "# what is an equivalent expression to do this? e.g. which of these numbers are optional?"
   ]
  },
  {
   "cell_type": "code",
   "execution_count": 7,
   "metadata": {
    "collapsed": false
   },
   "outputs": [
    {
     "name": "stdout",
     "output_type": "stream",
     "text": [
      "Popsicle\n"
     ]
    }
   ],
   "source": [
    "print(species[5:]) # get from the 6th letter on to the end\n",
    "# what is an equivalent expression to this one"
   ]
  },
  {
   "cell_type": "code",
   "execution_count": null,
   "metadata": {
    "collapsed": true
   },
   "outputs": [],
   "source": []
  },
  {
   "cell_type": "code",
   "execution_count": null,
   "metadata": {
    "collapsed": true
   },
   "outputs": [],
   "source": []
  },
  {
   "cell_type": "code",
   "execution_count": null,
   "metadata": {
    "collapsed": true
   },
   "outputs": [],
   "source": []
  }
 ],
 "metadata": {
  "anaconda-cloud": {},
  "kernelspec": {
   "display_name": "Python [conda root]",
   "language": "python",
   "name": "conda-root-py"
  },
  "language_info": {
   "codemirror_mode": {
    "name": "ipython",
    "version": 3
   },
   "file_extension": ".py",
   "mimetype": "text/x-python",
   "name": "python",
   "nbconvert_exporter": "python",
   "pygments_lexer": "ipython3",
   "version": "3.5.2"
  }
 },
 "nbformat": 4,
 "nbformat_minor": 1
}
