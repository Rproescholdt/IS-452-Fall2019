{
 "cells": [
  {
   "cell_type": "markdown",
   "metadata": {},
   "source": [
    "\n",
    "\n",
    "# Summer 2018 Status: UNREVIEWED\n",
    "\n",
    "# Dictionaries\n",
    "\n",
    "Dictionaries are like lists in that they hold collections of data.  However, as we discussed with the for and while loops, they have fundamentallf different purposes and so they act in very different ways.  Don't try to understand dictionaries like you understand lists.  Yes, they each hold things, but that's where similarites stop.\n",
    "\n",
    "Think of a dictionary as a small database.  It has two pieces:  unique IDs, and associated records.  We call these keys and values.  \n",
    "\n",
    "## Think of an apartment building\n",
    "\n",
    "Your apartment has a unique address.  First off, the street address tells you which unique buildng you want to find.  There may be several identical buildings, but each has a unique address.\n",
    "\n",
    "Inside that apartment building there are unit IDs.  These may be letters (A, B, etc), labels (Garden, Penthouse, etc), or numbers (6, 303. etc).  Many apartment buildings share the same numbering systems, and this is fine because that apartment belongs to that building.  So the unique combination of street address and unit number can uniquly identify a unit in the same city.\n",
    "\n",
    "Inside these units you can hold whatever you want.  Usually household goods, food, pets, collectables, human bodies, etc.  The idea is that in order to access this unit, you must go into a building and enter a specific ID.  The IDs in that unit must be unique.  \n",
    "\n",
    "You also have to access things in order.  So you can't just directly go into an apartment number.  Even if that apartment door is outside, you still have to find the building.  Imagine saying, \"Hi, I live in New York City and I likein apartment 3.  The party will be at 8pm.\"  Will anyone be at your party?  Not so much.\n",
    "\n",
    "In this analogy, the building is our dictionary.  The street address is our variable name, and the unit number is our key.  You use the key with the variable name to access the contents of that unit.\n",
    "\n",
    "That's pretty much it."
   ]
  },
  {
   "cell_type": "code",
   "execution_count": 1,
   "metadata": {
    "collapsed": true
   },
   "outputs": [],
   "source": [
    "mybuilding = {1: ['cat', 'adult human', 'adult human',\n",
    "                  'human child', 'rosy boa', \"Dumeril's boa\"],\n",
    "              2: ['adult human'],\n",
    "              3: ['adult human', 'adult human', 'human child', 'dog?']}"
   ]
  },
  {
   "cell_type": "markdown",
   "metadata": {},
   "source": [
    "If I'm using this to represent my apartment, there are 3 units:  `1`, `2`, and `3`.  Each of these unit labels is actually my key.  See the : in there after each key?  That is separating the key and the value, and the order does matter.  It is always `key: value`.  Meanwhile, each of my values is a list that contains strings of the occupants.\n",
    "\n",
    "As we start covering syntax, I suggest that you write them down or make a small cheat sheet for yourself.  You'll likely want to look it up each time you want to use it until you learn them by heart.\n",
    "\n",
    "# Common patterns that you will want to look up constantly\n",
    "\n",
    "## Accessing values with a key\n",
    "\n",
    "Here's how we can look up the contents:  `dictvariable[key]`"
   ]
  },
  {
   "cell_type": "code",
   "execution_count": 2,
   "metadata": {},
   "outputs": [
    {
     "name": "stdout",
     "output_type": "stream",
     "text": [
      "['cat', 'adult human', 'adult human', 'human child', 'rosy boa', \"Dumeril's boa\"]\n"
     ]
    }
   ],
   "source": [
    "print(mybuilding[1])"
   ]
  },
  {
   "cell_type": "code",
   "execution_count": 3,
   "metadata": {},
   "outputs": [
    {
     "name": "stdout",
     "output_type": "stream",
     "text": [
      "['adult human']\n"
     ]
    }
   ],
   "source": [
    "print(mybuilding[2])"
   ]
  },
  {
   "cell_type": "code",
   "execution_count": 4,
   "metadata": {},
   "outputs": [
    {
     "name": "stdout",
     "output_type": "stream",
     "text": [
      "['adult human', 'adult human', 'human child', 'dog?']\n"
     ]
    }
   ],
   "source": [
    "print(mybuilding[3])"
   ]
  },
  {
   "cell_type": "markdown",
   "metadata": {},
   "source": [
    "And if I try to look up a key that isn't in there?  I get a key error."
   ]
  },
  {
   "cell_type": "code",
   "execution_count": 5,
   "metadata": {},
   "outputs": [
    {
     "ename": "KeyError",
     "evalue": "4",
     "output_type": "error",
     "traceback": [
      "\u001b[0;31m---------------------------------------------------------------------------\u001b[0m",
      "\u001b[0;31mKeyError\u001b[0m                                  Traceback (most recent call last)",
      "\u001b[0;32m<ipython-input-5-2ec4395a1317>\u001b[0m in \u001b[0;36m<module>\u001b[0;34m()\u001b[0m\n\u001b[0;32m----> 1\u001b[0;31m \u001b[0mprint\u001b[0m\u001b[0;34m(\u001b[0m\u001b[0mmybuilding\u001b[0m\u001b[0;34m[\u001b[0m\u001b[0;36m4\u001b[0m\u001b[0;34m]\u001b[0m\u001b[0;34m)\u001b[0m\u001b[0;34m\u001b[0m\u001b[0m\n\u001b[0m",
      "\u001b[0;31mKeyError\u001b[0m: 4"
     ]
    }
   ],
   "source": [
    "print(mybuilding[4])"
   ]
  },
  {
   "cell_type": "markdown",
   "metadata": {},
   "source": [
    "Something to note is that these keys and values can be of any data type, and you can have a combination of them in the same dictionary.  You just need to match how that data type is actually typed in.  Don't forget the quotes if you have a string!"
   ]
  },
  {
   "cell_type": "code",
   "execution_count": 6,
   "metadata": {
    "collapsed": true
   },
   "outputs": [],
   "source": [
    "anotherbuilding = {'Garden': ['Adult human'],\n",
    "                    2: ['Adult human', 'Adult human', 'cat']}"
   ]
  },
  {
   "cell_type": "markdown",
   "metadata": {},
   "source": [
    "## Adding a new key/value pair\n",
    "\n",
    "Say that I leart more about my neighbors and I want to add more things in.  I can add garages as well.\n",
    "\n",
    "The syntax for adding a key/value looks like an assignment statement extending our lookup syntax.\n",
    "\n",
    "`dictvariable[new_key] = new_value`\n",
    "\n",
    "So you place the new key that you want to add in the `[]` and whatever the value is after the `=`."
   ]
  },
  {
   "cell_type": "code",
   "execution_count": 7,
   "metadata": {
    "collapsed": true
   },
   "outputs": [],
   "source": [
    "mybuilding['garage 1'] = ['car', 'innumerable crap']"
   ]
  },
  {
   "cell_type": "code",
   "execution_count": 8,
   "metadata": {},
   "outputs": [
    {
     "name": "stdout",
     "output_type": "stream",
     "text": [
      "{1: ['cat', 'adult human', 'adult human', 'human child', 'rosy boa', \"Dumeril's boa\"], 2: ['adult human'], 3: ['adult human', 'adult human', 'human child', 'dog?'], 'garage 1': ['car', 'innumerable crap']}\n"
     ]
    }
   ],
   "source": [
    "print(mybuilding)"
   ]
  },
  {
   "cell_type": "markdown",
   "metadata": {},
   "source": [
    "Take a closer look at that syntax.  It has the `[]` with the new key on the left side of the `=` statement and only 1 `=`.  So I don't need to completely reassign my dictionary to change it.\n",
    "\n",
    "## Changing the value with a given key\n",
    "\n",
    "Warning!  This syntax is also shared for the reassignment.  If you reuse a key that is in the dictionary, it will overwrite that value without warning."
   ]
  },
  {
   "cell_type": "code",
   "execution_count": 9,
   "metadata": {
    "collapsed": true
   },
   "outputs": [],
   "source": [
    "mybuilding['garage 1'] = ['car', 'bike', 'bike', 'innumerable crap']"
   ]
  },
  {
   "cell_type": "code",
   "execution_count": 10,
   "metadata": {},
   "outputs": [
    {
     "name": "stdout",
     "output_type": "stream",
     "text": [
      "{1: ['cat', 'adult human', 'adult human', 'human child', 'rosy boa', \"Dumeril's boa\"], 2: ['adult human'], 3: ['adult human', 'adult human', 'human child', 'dog?'], 'garage 1': ['car', 'bike', 'bike', 'innumerable crap']}\n"
     ]
    }
   ],
   "source": [
    "print(mybuilding)"
   ]
  },
  {
   "cell_type": "markdown",
   "metadata": {},
   "source": [
    "Alternatively, since our value for each key is in fact a mutator, we can directly reference that object using our access syntax and alter it.\n",
    "\n",
    "Say that the person in apartment 2 has a baby and I want to add that to their record.  Since the data type of that value is a list, I can call .append() to that lookup statement."
   ]
  },
  {
   "cell_type": "code",
   "execution_count": 11,
   "metadata": {
    "collapsed": true
   },
   "outputs": [],
   "source": [
    "mybuilding[2].append('human child')"
   ]
  },
  {
   "cell_type": "code",
   "execution_count": 12,
   "metadata": {},
   "outputs": [
    {
     "name": "stdout",
     "output_type": "stream",
     "text": [
      "{1: ['cat', 'adult human', 'adult human', 'human child', 'rosy boa', \"Dumeril's boa\"], 2: ['adult human', 'human child'], 3: ['adult human', 'adult human', 'human child', 'dog?'], 'garage 1': ['car', 'bike', 'bike', 'innumerable crap']}\n"
     ]
    }
   ],
   "source": [
    "print(mybuilding)"
   ]
  },
  {
   "cell_type": "markdown",
   "metadata": {},
   "source": [
    "## checking to see if a key is in there\n",
    "\n",
    "You'll often be looping over some data and building up a dictionary in the process.  Oftentimes you'll want to handle things defferently if that key is not already in the dictionary.  For example, let's say I want to add some new people to a unit not already in my dictionary."
   ]
  },
  {
   "cell_type": "code",
   "execution_count": 13,
   "metadata": {},
   "outputs": [
    {
     "ename": "KeyError",
     "evalue": "5",
     "output_type": "error",
     "traceback": [
      "\u001b[0;31m---------------------------------------------------------------------------\u001b[0m",
      "\u001b[0;31mKeyError\u001b[0m                                  Traceback (most recent call last)",
      "\u001b[0;32m<ipython-input-13-808fa0f058c4>\u001b[0m in \u001b[0;36m<module>\u001b[0;34m()\u001b[0m\n\u001b[0;32m----> 1\u001b[0;31m \u001b[0mmybuilding\u001b[0m\u001b[0;34m[\u001b[0m\u001b[0;36m5\u001b[0m\u001b[0;34m]\u001b[0m\u001b[0;34m.\u001b[0m\u001b[0mappend\u001b[0m\u001b[0;34m(\u001b[0m\u001b[0;34m'adult human'\u001b[0m\u001b[0;34m)\u001b[0m\u001b[0;34m\u001b[0m\u001b[0m\n\u001b[0m",
      "\u001b[0;31mKeyError\u001b[0m: 5"
     ]
    }
   ],
   "source": [
    "mybuilding[5].append('adult human')"
   ]
  },
  {
   "cell_type": "markdown",
   "metadata": {},
   "source": [
    "We can check this with the `in` keyword that we've seen elsewhere.  This will create a boolean expression that will return `True` if the key does exist in that dictionary, and `False` if it doesn't."
   ]
  },
  {
   "cell_type": "code",
   "execution_count": 14,
   "metadata": {},
   "outputs": [
    {
     "data": {
      "text/plain": [
       "False"
      ]
     },
     "execution_count": 14,
     "metadata": {},
     "output_type": "execute_result"
    }
   ],
   "source": [
    "5 in mybuilding"
   ]
  },
  {
   "cell_type": "markdown",
   "metadata": {},
   "source": [
    "I can't append something to a key that doesn't already exist, but if I use my assignment statement I'll destroy the data I already have in there.  Here's a fragment showing how we might handle such a situation."
   ]
  },
  {
   "cell_type": "code",
   "execution_count": 15,
   "metadata": {
    "collapsed": true
   },
   "outputs": [],
   "source": [
    "new_member = 'adult human'\n",
    "key = 5\n",
    "\n",
    "if key in mybuilding:\n",
    "    mybuilding[key].append()\n",
    "else:\n",
    "    mybuilding[key] = [new_member]"
   ]
  },
  {
   "cell_type": "code",
   "execution_count": 16,
   "metadata": {},
   "outputs": [
    {
     "name": "stdout",
     "output_type": "stream",
     "text": [
      "{1: ['cat', 'adult human', 'adult human', 'human child', 'rosy boa', \"Dumeril's boa\"], 2: ['adult human', 'human child'], 3: ['adult human', 'adult human', 'human child', 'dog?'], 'garage 1': ['car', 'bike', 'bike', 'innumerable crap'], 5: ['adult human']}\n"
     ]
    }
   ],
   "source": [
    "print(mybuilding)"
   ]
  },
  {
   "cell_type": "markdown",
   "metadata": {},
   "source": [
    "This is an incredibly common pattern.  You'll also notice that I can reference my key as a variable.  Hint hint, this means you can loop over a set of keys and access the values in turn."
   ]
  },
  {
   "cell_type": "markdown",
   "metadata": {},
   "source": [
    "## Getting the keys and values out separately\n",
    "\n",
    "There are several helpful dictionary methods to use.\n",
    "\n",
    "Warning!  Dictionaries have no actual order.  The following methods will give you lists, which have order, but that order should not be depended on.\n",
    "\n",
    "`mydict.keys()` will give you the keys and `mydict.values()` will give you the values."
   ]
  },
  {
   "cell_type": "code",
   "execution_count": 17,
   "metadata": {},
   "outputs": [
    {
     "name": "stdout",
     "output_type": "stream",
     "text": [
      "[1, 2, 3, 'garage 1', 5]\n"
     ]
    }
   ],
   "source": [
    "print(list(mybuilding.keys()))"
   ]
  },
  {
   "cell_type": "code",
   "execution_count": 18,
   "metadata": {},
   "outputs": [
    {
     "name": "stdout",
     "output_type": "stream",
     "text": [
      "[['cat', 'adult human', 'adult human', 'human child', 'rosy boa', \"Dumeril's boa\"], ['adult human', 'human child'], ['adult human', 'adult human', 'human child', 'dog?'], ['car', 'bike', 'bike', 'innumerable crap'], ['adult human']]\n"
     ]
    }
   ],
   "source": [
    "print(list(mybuilding.values()))"
   ]
  },
  {
   "cell_type": "markdown",
   "metadata": {},
   "source": [
    "I know they may look like they are in order, but you shouldn't depend on that."
   ]
  },
  {
   "cell_type": "markdown",
   "metadata": {},
   "source": [
    "## getting the keys and values out together\n",
    "\n",
    "Here's how you can get the pairs of data out such that the pair relationship can be reliably maintained."
   ]
  },
  {
   "cell_type": "code",
   "execution_count": 19,
   "metadata": {},
   "outputs": [
    {
     "name": "stdout",
     "output_type": "stream",
     "text": [
      "[(1, ['cat', 'adult human', 'adult human', 'human child', 'rosy boa', \"Dumeril's boa\"]), (2, ['adult human', 'human child']), (3, ['adult human', 'adult human', 'human child', 'dog?']), ('garage 1', ['car', 'bike', 'bike', 'innumerable crap']), (5, ['adult human'])]\n"
     ]
    }
   ],
   "source": [
    "print(list(mybuilding.items()))"
   ]
  },
  {
   "cell_type": "markdown",
   "metadata": {},
   "source": [
    "These are tuple pairs, and are valuable when looping over them."
   ]
  },
  {
   "cell_type": "markdown",
   "metadata": {},
   "source": [
    "## looping over lists\n",
    "\n",
    "You may want to loop over the entire thing at once.  Using `.items()` for this is great for when you need both the key and value items out at the same time, and you want to keep your code very tidy."
   ]
  },
  {
   "cell_type": "code",
   "execution_count": 20,
   "metadata": {},
   "outputs": [
    {
     "name": "stdout",
     "output_type": "stream",
     "text": [
      "Unit 1 has cat, adult human, adult human, human child, rosy boa, Dumeril's boa\n",
      "Unit 2 has adult human, human child\n",
      "Unit 3 has adult human, adult human, human child, dog?\n",
      "Unit garage 1 has car, bike, bike, innumerable crap\n",
      "Unit 5 has adult human\n"
     ]
    }
   ],
   "source": [
    "for key, value in mybuilding.items():\n",
    "    print(\"Unit\", key, \"has\", \", \".join(value))"
   ]
  },
  {
   "cell_type": "markdown",
   "metadata": {},
   "source": [
    "However, sometimes you might want to mess with the keys and only look up a few things.  (massive homework hint) In this case, you can extract out the list of keys, do what you need with it, and then loop through those remaining (LITERALLY DYING OF HINT HERE) keys.\n",
    "\n",
    "Say that I only want the integer value keys."
   ]
  },
  {
   "cell_type": "code",
   "execution_count": 21,
   "metadata": {},
   "outputs": [
    {
     "name": "stdout",
     "output_type": "stream",
     "text": [
      "rejected! garage 1\n",
      "Remaining keys are: [1, 2, 3, 5]\n",
      "1 has: cat, adult human, adult human, human child, rosy boa, Dumeril's boa\n",
      "2 has: adult human, human child\n",
      "3 has: adult human, adult human, human child, dog?\n",
      "5 has: adult human\n"
     ]
    }
   ],
   "source": [
    "allkeys = mybuilding.keys()\n",
    "\n",
    "justints = []\n",
    "\n",
    "for key in allkeys:\n",
    "    if type(key) == int:\n",
    "        justints.append(key)\n",
    "    else:\n",
    "        print(\"rejected!\", key)\n",
    "        \n",
    "print(\"Remaining keys are:\", justints)\n",
    "\n",
    "for key in justints:\n",
    "    print(key, \"has:\", \", \".join(mybuilding[key]))"
   ]
  },
  {
   "cell_type": "code",
   "execution_count": null,
   "metadata": {
    "collapsed": true
   },
   "outputs": [],
   "source": []
  },
  {
   "cell_type": "markdown",
   "metadata": {},
   "source": [
    "## Counting occurances\n",
    "\n",
    "There are several things we can do to count occurances, but I suggest using the `Counter` object first.\n",
    "\n",
    "Let's revisit last week's example of randomly counting to 100.  Below we've got code that runs the simulation 10,000 times and collects up the number of steps taken for each."
   ]
  },
  {
   "cell_type": "code",
   "execution_count": 22,
   "metadata": {},
   "outputs": [
    {
     "name": "stdout",
     "output_type": "stream",
     "text": [
      "The average number of steps to take is: 20.5947\n"
     ]
    }
   ],
   "source": [
    "import random\n",
    "\n",
    "# priming all the values\n",
    "count_sum = 0\n",
    "top = 100\n",
    "step_count = 0\n",
    "\n",
    "all_step_counts = []\n",
    "\n",
    "for i in range(10000):\n",
    "    while count_sum < 100:\n",
    "        my_num =  random.randint(0, 10)\n",
    "\n",
    "        count_sum += my_num # sum = sum + my_num\n",
    "        step_count += 1 # step_count = step_count + 1\n",
    "#     print(sum, step_count)\n",
    "    all_step_counts.append(step_count)\n",
    "    # reset!\n",
    "    count_sum = 0\n",
    "    step_count = 0\n",
    "\n",
    "print(\"The average number of steps to take is:\", sum(all_step_counts) / len(all_step_counts))"
   ]
  },
  {
   "cell_type": "markdown",
   "metadata": {},
   "source": [
    "# Make a dictionary of the data"
   ]
  },
  {
   "cell_type": "code",
   "execution_count": 24,
   "metadata": {
    "collapsed": true
   },
   "outputs": [],
   "source": [
    "counts_dict = {} # make an empty dictionary\n",
    "\n",
    "for one_count in all_step_counts:\n",
    "    if one_count not in counts_dict:\n",
    "        counts_dict[one_count] = 1 # start at one if it isn't already there\n",
    "    else:\n",
    "        counts_dict[one_count] += 1 # increment up by one if it isn't already there"
   ]
  },
  {
   "cell_type": "code",
   "execution_count": 25,
   "metadata": {},
   "outputs": [
    {
     "name": "stdout",
     "output_type": "stream",
     "text": [
      "{24: 596, 17: 753, 22: 1156, 27: 158, 18: 1080, 20: 1385, 23: 834, 19: 1274, 21: 1314, 15: 175, 26: 251, 16: 390, 25: 418, 30: 19, 29: 31, 28: 83, 14: 64, 31: 7, 34: 2, 13: 6, 32: 3, 33: 1}\n"
     ]
    }
   ],
   "source": [
    "print(counts_dict)"
   ]
  },
  {
   "cell_type": "markdown",
   "metadata": {},
   "source": [
    "# But what can we do with this in text?"
   ]
  },
  {
   "cell_type": "markdown",
   "metadata": {},
   "source": [
    "### Problem Statement\n",
    "From the book DRACULA, the contents of the book itself, count every word in each chapter. How many of them are repeated? What is the count of each word repeated in Dracula?\n",
    "\n",
    "------\n",
    "\n",
    "To figure this problem out, we have to think about a few things.\n",
    "\n",
    "#### 1. What is our fidelity?\n",
    "Our unit of measure in this particular problem is a word. Specifically, we want to break things down into a list of lines so that we can then split those up into a list of words. Additionally, we want *only* the book Dracula. This means that we will need to deal with getting the book separated from the table of contents as well as the header and footer. We also need to deal with the infamous *NOTE*. So we have that already!"
   ]
  },
  {
   "cell_type": "code",
   "execution_count": 17,
   "metadata": {},
   "outputs": [],
   "source": [
    "# we open up the Dracula text AND readlines() so that we can get all the lines into a list.\n",
    "dracula = open('dracula.txt', 'r')\n",
    "all_text = dracula.readlines()\n",
    "dracula.close() # remember to close the file!\n",
    "\n",
    "# alternatively, you could also do something like:\n",
    "\n",
    "# with open('dracula.txt', 'r') as dracula:\n",
    "#     all_text = dracula.readlines()\n",
    "\n",
    "# This would open the text file, read it in as a variable called Dracula and as it does that, \n",
    "# readlines() all lines into a variable called, \"all_text\" AND close the file.\n",
    "\n",
    "# we then need to get all of dracula accounted for. You will recall this example from class!\n",
    "start_index = all_text.index('DRACULA\\n')\n",
    "end_index = all_text.index('                                THE END\\n')+1"
   ]
  },
  {
   "cell_type": "markdown",
   "metadata": {},
   "source": [
    "#### 2. How do we get what we want?\n",
    "\n",
    "The problem asks, \"For every word in Dracula, how many of them are repeated? What is the count of each word repeated in Dracula?\"\n",
    "\n",
    "We already got the whole of dracula in our \"START_INDEX/END_INDEX\" so how do we go on from there? Well, we need to think about what readlines() did! It put all of dracula into a giant list for us. As it is, we can add to this code a for loop that will split up the list entries into words."
   ]
  },
  {
   "cell_type": "code",
   "execution_count": 20,
   "metadata": {},
   "outputs": [],
   "source": [
    "# First, we need to get everything into one space. We'll make a variable for it.\n",
    "\n",
    "content_lines = all_text[start_index:end_index] #everything in the book.\n",
    "\n",
    "# then we need to split stuff up! That means we take each line and .split it on spaces. SO:\n",
    "\n",
    "# for line in content_lines:\n",
    "#     each_word = line.split()\n",
    "    \n",
    "# But we need to consider actually collecting them so we need to add an accumulator of some kind or another. \n",
    "\n",
    "for line in content_lines:\n",
    "    each_word = line.lower().split() #we're adding .lower here so that every word is uniform. \n",
    "\n",
    "# But how do we actually count these words?"
   ]
  },
  {
   "cell_type": "markdown",
   "metadata": {},
   "source": [
    "#### 3. How to count things?\n",
    "\n",
    "There are 2 ways that you can count things. We'll cover one version without using a dictionary and another with dictionaries. First, we need to think about how to count things and we can do that with a module. \n",
    "\n",
    "We've talked about these in a bunch of different places but we've never really addressed them directly. We've used the [String Module](https://docs.python.org/2/library/string.html). In particular, we used 'string.punctuation' for getting things like commas and periods from the text itself. \n",
    "\n",
    "There are other modules built in to the Python interpreter and we call them the [Python Standard Library](https://docs.python.org/3/library/). One of these modules allows us to collect data of a particular type and it is called \"COLLECTIONS\". You can read about it here: [http://pymbook.readthedocs.io/en/latest/collections.html](http://pymbook.readthedocs.io/en/latest/collections.html). \n",
    "\n",
    "Of interest is `Counter` of which is said `Counter is a dict subclass which helps to count hashable objects. Inside it elements are stored as dictionary keys and counts are stored as values which can be zero or negative.`"
   ]
  },
  {
   "cell_type": "code",
   "execution_count": 31,
   "metadata": {},
   "outputs": [
    {
     "name": "stdout",
     "output_type": "stream",
     "text": [
      "the \t| 7777\n",
      "and \t| 5683\n",
      "i \t| 4495\n",
      "to \t| 4420\n",
      "of \t| 3574\n",
      "a \t| 2869\n",
      "he \t| 2507\n",
      "in \t| 2410\n",
      "that \t| 2349\n",
      "was \t| 1801\n",
      "it \t| 1717\n",
      "as \t| 1552\n",
      "we \t| 1484\n",
      "for \t| 1459\n",
      "his \t| 1445\n",
      "is \t| 1428\n",
      "not \t| 1290\n",
      "with \t| 1259\n",
      "my \t| 1211\n",
      "you \t| 1123\n",
      "at \t| 1064\n",
      "have \t| 1041\n",
      "all \t| 1029\n",
      "be \t| 1023\n",
      "had \t| 1019\n",
      "but \t| 0998\n",
      "so \t| 0983\n",
      "on \t| 0959\n",
      "her \t| 0857\n",
      "me \t| 0847\n",
      "she \t| 0794\n",
      "when \t| 0743\n",
      "there \t| 0693\n",
      "* \t| 0640\n",
      "which \t| 0630\n",
      "if \t| 0615\n",
      "from \t| 0611\n",
      "him \t| 0594\n",
      "this \t| 0544\n",
      "are \t| 0543\n",
      "were \t| 0529\n",
      "by \t| 0482\n",
      "could \t| 0460\n",
      "they \t| 0447\n",
      "or \t| 0442\n",
      "then \t| 0437\n",
      "some \t| 0434\n",
      "must \t| 0428\n",
      "one \t| 0413\n",
      "what \t| 0413\n"
     ]
    }
   ],
   "source": [
    "word_counts = Counter()\n",
    "for line in content_lines:\n",
    "    words = line.lower().split()\n",
    "    for word in words:\n",
    "        word_counts[word] = word_counts.get(word, 0) + 1\n",
    "\n",
    "for word, freq in word_counts.most_common(50):\n",
    "    print(word, '\\t|', str(freq).zfill(4))"
   ]
  },
  {
   "cell_type": "markdown",
   "metadata": {},
   "source": [
    "#### But what if we want to use dictionaries directly? What if we want to count everything by hand instead of using a module?\n",
    "\n",
    "In this case, things get a little tricky. "
   ]
  },
  {
   "cell_type": "code",
   "execution_count": 32,
   "metadata": {},
   "outputs": [
    {
     "name": "stdout",
     "output_type": "stream",
     "text": [
      "he 2507\n",
      "as 1552\n",
      "we 1484\n",
      "his 1445\n",
      "is 1428\n",
      "not 1290\n",
      "with 1259\n",
      "my 1211\n",
      "you 1123\n",
      "at 1064\n",
      "have 1041\n",
      "all 1029\n",
      "be 1023\n",
      "had 1019\n",
      "but 998\n",
      "so 983\n",
      "on 959\n",
      "her 857\n",
      "me 847\n",
      "she 794\n",
      "when 743\n",
      "there 693\n",
      "* 640\n",
      "which 630\n",
      "if 615\n",
      "from 611\n",
      "him 594\n",
      "this 544\n",
      "are 543\n",
      "were 529\n",
      "by 482\n",
      "could 460\n",
      "they 447\n",
      "or 442\n",
      "then 437\n",
      "some 434\n",
      "must 428\n",
      "one 413\n",
      "what 413\n",
      "shall 411\n",
      "would 409\n",
      "our 403\n",
      "no 400\n",
      "will 398\n",
      "been 375\n",
      "do 367\n",
      "may 365\n",
      "up 364\n",
      "can 347\n",
      "has 340\n",
      "see 337\n",
      "out 332\n",
      "more 329\n",
      "am 322\n",
      "van 317\n",
      "know 305\n",
      "them 300\n",
      "came 295\n",
      "said 293\n",
      "an 292\n",
      "your 292\n",
      "went 291\n",
      "us 287\n",
      "into 287\n",
      "over 285\n",
      "me, 284\n",
      "any 280\n",
      "only 277\n",
      "who 270\n",
      "very 264\n",
      "did 263\n",
      "now 263\n",
      "like 261\n",
      "come 252\n",
      "time 249\n",
      "go 244\n",
      "seemed 238\n",
      "before 235\n",
      "even 232\n",
      "took 220\n",
      "such 218\n",
      "their 218\n",
      "than 216\n",
      "helsing 215\n",
      "about 213\n",
      "though 213\n",
      "saw 206\n",
      "through 205\n",
      "after 201\n",
      "where 201\n",
      "down 200\n",
      "back 199\n",
      "should 190\n",
      "how 185\n",
      "made 185\n",
      "poor 182\n",
      "tell 177\n",
      "think 177\n",
      "looked 176\n",
      "much 174\n"
     ]
    }
   ],
   "source": [
    "# Let's open up the dracula text and work with it. \n",
    "stopwords = ['the', 'of', 'and', 'to', 'a', 'in', 'that', 'was', 'for', 'it', 'i']  # among the most common words in English\n",
    "\n",
    "\n",
    "def main():\n",
    "    dracula = open('dracula.txt', 'r')\n",
    "    all_text = dracula.readlines()\n",
    "    dracula.close()\n",
    "\n",
    "    start_index = all_text.index('DRACULA\\n')\n",
    "    end_index = all_text.index('                                THE END\\n')+1\n",
    "\n",
    "    content_lines = all_text[start_index:end_index]\n",
    "\n",
    "    # See the 2CR answer for a simpler Counter-based solution.\n",
    "    word_counts = {}\n",
    "    for line in content_lines:\n",
    "        words = line.lower().split()\n",
    "        for word in words:\n",
    "            if word not in stopwords:\n",
    "                word_counts[word] = word_counts.get(word, 0) + 1\n",
    "\n",
    "    # Calling items() and casting to list results in a list of tuples, with each tuple containing the (key,\n",
    "    # value). For word counts, this looks like [('happy', 3), ('nail-studded', 1), ('lucy', 141), ...]. A dictionary\n",
    "    # isn't directly sortable, but turning into a list in this way makes the elements sortable.\n",
    "    word_count_tuples = list(word_counts.items())\n",
    "\n",
    "    # sort() will call the byFreq() method once for each element in the list that's being sorted. In this case,\n",
    "    # each element is an individual tuple (see above). The value returned by byFreq() will be the basis of the sorting,\n",
    "    # so we want to make sure we return the count.\n",
    "    word_count_tuples.sort(key=byFreq, reverse=True)\n",
    "    for word, freq in word_count_tuples[:100]:  # limit to the top 100 after sorting\n",
    "        print(word, freq)\n",
    "\n",
    "\n",
    "# As mentioned above, the value returned by byFreq() will the basis of the sorting. Since we want the list to be\n",
    "# sorted on the basis of the word counts, and since the word count is at index 1 of each (word, count) tuple,\n",
    "# we return the value at index 1.\n",
    "def byFreq(pair):\n",
    "    return pair[1]\n",
    "\n",
    "\n",
    "main()\n"
   ]
  },
  {
   "cell_type": "code",
   "execution_count": null,
   "metadata": {},
   "outputs": [],
   "source": []
  },
  {
   "cell_type": "code",
   "execution_count": null,
   "metadata": {},
   "outputs": [],
   "source": []
  }
 ],
 "metadata": {
  "kernelspec": {
   "display_name": "Python 3",
   "language": "python",
   "name": "python3"
  },
  "language_info": {
   "codemirror_mode": {
    "name": "ipython",
    "version": 3
   },
   "file_extension": ".py",
   "mimetype": "text/x-python",
   "name": "python",
   "nbconvert_exporter": "python",
   "pygments_lexer": "ipython3",
   "version": "3.6.4"
  }
 },
 "nbformat": 4,
 "nbformat_minor": 2
}
